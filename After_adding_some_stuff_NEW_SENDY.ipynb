{
  "nbformat": 4,
  "nbformat_minor": 0,
  "metadata": {
    "kernelspec": {
      "display_name": "Python 3",
      "language": "python",
      "name": "python3"
    },
    "language_info": {
      "codemirror_mode": {
        "name": "ipython",
        "version": 3
      },
      "file_extension": ".py",
      "mimetype": "text/x-python",
      "name": "python",
      "nbconvert_exporter": "python",
      "pygments_lexer": "ipython3",
      "version": "3.7.3"
    },
    "colab": {
      "name": "After adding some stuff NEW SENDY.ipynb",
      "provenance": [],
      "collapsed_sections": [
        "-huGxo3DbA86"
      ],
      "toc_visible": true,
      "include_colab_link": true
    },
    "accelerator": "GPU"
  },
  "cells": [
    {
      "cell_type": "markdown",
      "metadata": {
        "id": "view-in-github",
        "colab_type": "text"
      },
      "source": [
        "<a href=\"https://colab.research.google.com/github/0731325603/regression-predict-api-template/blob/master/After_adding_some_stuff_NEW_SENDY.ipynb\" target=\"_parent\"><img src=\"https://colab.research.google.com/assets/colab-badge.svg\" alt=\"Open In Colab\"/></a>"
      ]
    },
    {
      "cell_type": "markdown",
      "metadata": {
        "id": "9fMT5cP9bAwP",
        "colab_type": "text"
      },
      "source": [
        "# Sendy Logistics¶"
      ]
    },
    {
      "cell_type": "markdown",
      "metadata": {
        "id": "lCFLFfzqbAwR",
        "colab_type": "raw"
      },
      "source": [
        "The main objectives of this project :\n",
        "\n",
        "Explorating and visualising the data, trying to get some insights about our dataset.\n",
        "\n",
        "Getting data in better shape by feature engineering to help us in building better models.\n",
        "\n",
        "Building and tuning regression models to get some stable results on predicting time from pick up to arrival."
      ]
    },
    {
      "cell_type": "markdown",
      "metadata": {
        "id": "RIQJg3tibAwS",
        "colab_type": "raw"
      },
      "source": [
        "Understanding the dataset is one of the critical parts when it comes to model building"
      ]
    },
    {
      "cell_type": "code",
      "metadata": {
        "id": "mw3c0-QqbAwT",
        "colab_type": "code",
        "colab": {
          "base_uri": "https://localhost:8080/",
          "height": 74
        },
        "outputId": "2de3b1b0-fe7b-4953-fc80-38007753523d"
      },
      "source": [
        "# Import necessary packages\n",
        "import numpy as np\n",
        "import pandas as pd\n",
        "import seaborn as sns\n",
        "import io\n",
        "import datetime\n",
        "import matplotlib.pyplot as plt\n"
      ],
      "execution_count": 1,
      "outputs": [
        {
          "output_type": "stream",
          "text": [
            "/usr/local/lib/python3.6/dist-packages/statsmodels/tools/_testing.py:19: FutureWarning: pandas.util.testing is deprecated. Use the functions in the public API at pandas.testing instead.\n",
            "  import pandas.util.testing as tm\n"
          ],
          "name": "stderr"
        }
      ]
    },
    {
      "cell_type": "code",
      "metadata": {
        "id": "1sYd0wsFbAwZ",
        "colab_type": "code",
        "colab": {}
      },
      "source": [
        "# Read train and test data from csv files for visualization\n",
        "train_data = pd.read_csv('Train.csv')\n",
        "test_data = pd.read_csv('Test.csv')\n"
      ],
      "execution_count": 0,
      "outputs": []
    },
    {
      "cell_type": "code",
      "metadata": {
        "id": "6H07WSBwbAwh",
        "colab_type": "code",
        "outputId": "fb74ed3e-184a-4c32-863b-017306575cd4",
        "colab": {
          "base_uri": "https://localhost:8080/",
          "height": 408
        }
      },
      "source": [
        "train_data.head()\n"
      ],
      "execution_count": 3,
      "outputs": [
        {
          "output_type": "execute_result",
          "data": {
            "text/html": [
              "<div>\n",
              "<style scoped>\n",
              "    .dataframe tbody tr th:only-of-type {\n",
              "        vertical-align: middle;\n",
              "    }\n",
              "\n",
              "    .dataframe tbody tr th {\n",
              "        vertical-align: top;\n",
              "    }\n",
              "\n",
              "    .dataframe thead th {\n",
              "        text-align: right;\n",
              "    }\n",
              "</style>\n",
              "<table border=\"1\" class=\"dataframe\">\n",
              "  <thead>\n",
              "    <tr style=\"text-align: right;\">\n",
              "      <th></th>\n",
              "      <th>Order No</th>\n",
              "      <th>User Id</th>\n",
              "      <th>Vehicle Type</th>\n",
              "      <th>Platform Type</th>\n",
              "      <th>Personal or Business</th>\n",
              "      <th>Placement - Day of Month</th>\n",
              "      <th>Placement - Weekday (Mo = 1)</th>\n",
              "      <th>Placement - Time</th>\n",
              "      <th>Confirmation - Day of Month</th>\n",
              "      <th>Confirmation - Weekday (Mo = 1)</th>\n",
              "      <th>Confirmation - Time</th>\n",
              "      <th>Arrival at Pickup - Day of Month</th>\n",
              "      <th>Arrival at Pickup - Weekday (Mo = 1)</th>\n",
              "      <th>Arrival at Pickup - Time</th>\n",
              "      <th>Pickup - Day of Month</th>\n",
              "      <th>Pickup - Weekday (Mo = 1)</th>\n",
              "      <th>Pickup - Time</th>\n",
              "      <th>Arrival at Destination - Day of Month</th>\n",
              "      <th>Arrival at Destination - Weekday (Mo = 1)</th>\n",
              "      <th>Arrival at Destination - Time</th>\n",
              "      <th>Distance (KM)</th>\n",
              "      <th>Temperature</th>\n",
              "      <th>Precipitation in millimeters</th>\n",
              "      <th>Pickup Lat</th>\n",
              "      <th>Pickup Long</th>\n",
              "      <th>Destination Lat</th>\n",
              "      <th>Destination Long</th>\n",
              "      <th>Rider Id</th>\n",
              "      <th>Time from Pickup to Arrival</th>\n",
              "    </tr>\n",
              "  </thead>\n",
              "  <tbody>\n",
              "    <tr>\n",
              "      <th>0</th>\n",
              "      <td>Order_No_4211</td>\n",
              "      <td>User_Id_633</td>\n",
              "      <td>Bike</td>\n",
              "      <td>3</td>\n",
              "      <td>Business</td>\n",
              "      <td>9</td>\n",
              "      <td>5</td>\n",
              "      <td>9:35:46 AM</td>\n",
              "      <td>9</td>\n",
              "      <td>5</td>\n",
              "      <td>9:40:10 AM</td>\n",
              "      <td>9</td>\n",
              "      <td>5</td>\n",
              "      <td>10:04:47 AM</td>\n",
              "      <td>9</td>\n",
              "      <td>5</td>\n",
              "      <td>10:27:30 AM</td>\n",
              "      <td>9</td>\n",
              "      <td>5</td>\n",
              "      <td>10:39:55 AM</td>\n",
              "      <td>4</td>\n",
              "      <td>20.4</td>\n",
              "      <td>NaN</td>\n",
              "      <td>-1.317755</td>\n",
              "      <td>36.830370</td>\n",
              "      <td>-1.300406</td>\n",
              "      <td>36.829741</td>\n",
              "      <td>Rider_Id_432</td>\n",
              "      <td>745</td>\n",
              "    </tr>\n",
              "    <tr>\n",
              "      <th>1</th>\n",
              "      <td>Order_No_25375</td>\n",
              "      <td>User_Id_2285</td>\n",
              "      <td>Bike</td>\n",
              "      <td>3</td>\n",
              "      <td>Personal</td>\n",
              "      <td>12</td>\n",
              "      <td>5</td>\n",
              "      <td>11:16:16 AM</td>\n",
              "      <td>12</td>\n",
              "      <td>5</td>\n",
              "      <td>11:23:21 AM</td>\n",
              "      <td>12</td>\n",
              "      <td>5</td>\n",
              "      <td>11:40:22 AM</td>\n",
              "      <td>12</td>\n",
              "      <td>5</td>\n",
              "      <td>11:44:09 AM</td>\n",
              "      <td>12</td>\n",
              "      <td>5</td>\n",
              "      <td>12:17:22 PM</td>\n",
              "      <td>16</td>\n",
              "      <td>26.4</td>\n",
              "      <td>NaN</td>\n",
              "      <td>-1.351453</td>\n",
              "      <td>36.899315</td>\n",
              "      <td>-1.295004</td>\n",
              "      <td>36.814358</td>\n",
              "      <td>Rider_Id_856</td>\n",
              "      <td>1993</td>\n",
              "    </tr>\n",
              "    <tr>\n",
              "      <th>2</th>\n",
              "      <td>Order_No_1899</td>\n",
              "      <td>User_Id_265</td>\n",
              "      <td>Bike</td>\n",
              "      <td>3</td>\n",
              "      <td>Business</td>\n",
              "      <td>30</td>\n",
              "      <td>2</td>\n",
              "      <td>12:39:25 PM</td>\n",
              "      <td>30</td>\n",
              "      <td>2</td>\n",
              "      <td>12:42:44 PM</td>\n",
              "      <td>30</td>\n",
              "      <td>2</td>\n",
              "      <td>12:49:34 PM</td>\n",
              "      <td>30</td>\n",
              "      <td>2</td>\n",
              "      <td>12:53:03 PM</td>\n",
              "      <td>30</td>\n",
              "      <td>2</td>\n",
              "      <td>1:00:38 PM</td>\n",
              "      <td>3</td>\n",
              "      <td>NaN</td>\n",
              "      <td>NaN</td>\n",
              "      <td>-1.308284</td>\n",
              "      <td>36.843419</td>\n",
              "      <td>-1.300921</td>\n",
              "      <td>36.828195</td>\n",
              "      <td>Rider_Id_155</td>\n",
              "      <td>455</td>\n",
              "    </tr>\n",
              "    <tr>\n",
              "      <th>3</th>\n",
              "      <td>Order_No_9336</td>\n",
              "      <td>User_Id_1402</td>\n",
              "      <td>Bike</td>\n",
              "      <td>3</td>\n",
              "      <td>Business</td>\n",
              "      <td>15</td>\n",
              "      <td>5</td>\n",
              "      <td>9:25:34 AM</td>\n",
              "      <td>15</td>\n",
              "      <td>5</td>\n",
              "      <td>9:26:05 AM</td>\n",
              "      <td>15</td>\n",
              "      <td>5</td>\n",
              "      <td>9:37:56 AM</td>\n",
              "      <td>15</td>\n",
              "      <td>5</td>\n",
              "      <td>9:43:06 AM</td>\n",
              "      <td>15</td>\n",
              "      <td>5</td>\n",
              "      <td>10:05:27 AM</td>\n",
              "      <td>9</td>\n",
              "      <td>19.2</td>\n",
              "      <td>NaN</td>\n",
              "      <td>-1.281301</td>\n",
              "      <td>36.832396</td>\n",
              "      <td>-1.257147</td>\n",
              "      <td>36.795063</td>\n",
              "      <td>Rider_Id_855</td>\n",
              "      <td>1341</td>\n",
              "    </tr>\n",
              "    <tr>\n",
              "      <th>4</th>\n",
              "      <td>Order_No_27883</td>\n",
              "      <td>User_Id_1737</td>\n",
              "      <td>Bike</td>\n",
              "      <td>1</td>\n",
              "      <td>Personal</td>\n",
              "      <td>13</td>\n",
              "      <td>1</td>\n",
              "      <td>9:55:18 AM</td>\n",
              "      <td>13</td>\n",
              "      <td>1</td>\n",
              "      <td>9:56:18 AM</td>\n",
              "      <td>13</td>\n",
              "      <td>1</td>\n",
              "      <td>10:03:53 AM</td>\n",
              "      <td>13</td>\n",
              "      <td>1</td>\n",
              "      <td>10:05:23 AM</td>\n",
              "      <td>13</td>\n",
              "      <td>1</td>\n",
              "      <td>10:25:37 AM</td>\n",
              "      <td>9</td>\n",
              "      <td>15.4</td>\n",
              "      <td>NaN</td>\n",
              "      <td>-1.266597</td>\n",
              "      <td>36.792118</td>\n",
              "      <td>-1.295041</td>\n",
              "      <td>36.809817</td>\n",
              "      <td>Rider_Id_770</td>\n",
              "      <td>1214</td>\n",
              "    </tr>\n",
              "  </tbody>\n",
              "</table>\n",
              "</div>"
            ],
            "text/plain": [
              "         Order No       User Id  ...      Rider Id  Time from Pickup to Arrival\n",
              "0   Order_No_4211   User_Id_633  ...  Rider_Id_432                          745\n",
              "1  Order_No_25375  User_Id_2285  ...  Rider_Id_856                         1993\n",
              "2   Order_No_1899   User_Id_265  ...  Rider_Id_155                          455\n",
              "3   Order_No_9336  User_Id_1402  ...  Rider_Id_855                         1341\n",
              "4  Order_No_27883  User_Id_1737  ...  Rider_Id_770                         1214\n",
              "\n",
              "[5 rows x 29 columns]"
            ]
          },
          "metadata": {
            "tags": []
          },
          "execution_count": 3
        }
      ]
    },
    {
      "cell_type": "code",
      "metadata": {
        "id": "SgXdq8_VbAwn",
        "colab_type": "code",
        "outputId": "2826cc5a-006f-4cc1-c3c7-7c0df8d45828",
        "colab": {
          "base_uri": "https://localhost:8080/",
          "height": 408
        }
      },
      "source": [
        "test_data.head()\n"
      ],
      "execution_count": 4,
      "outputs": [
        {
          "output_type": "execute_result",
          "data": {
            "text/html": [
              "<div>\n",
              "<style scoped>\n",
              "    .dataframe tbody tr th:only-of-type {\n",
              "        vertical-align: middle;\n",
              "    }\n",
              "\n",
              "    .dataframe tbody tr th {\n",
              "        vertical-align: top;\n",
              "    }\n",
              "\n",
              "    .dataframe thead th {\n",
              "        text-align: right;\n",
              "    }\n",
              "</style>\n",
              "<table border=\"1\" class=\"dataframe\">\n",
              "  <thead>\n",
              "    <tr style=\"text-align: right;\">\n",
              "      <th></th>\n",
              "      <th>Order No</th>\n",
              "      <th>User Id</th>\n",
              "      <th>Vehicle Type</th>\n",
              "      <th>Platform Type</th>\n",
              "      <th>Personal or Business</th>\n",
              "      <th>Placement - Day of Month</th>\n",
              "      <th>Placement - Weekday (Mo = 1)</th>\n",
              "      <th>Placement - Time</th>\n",
              "      <th>Confirmation - Day of Month</th>\n",
              "      <th>Confirmation - Weekday (Mo = 1)</th>\n",
              "      <th>Confirmation - Time</th>\n",
              "      <th>Arrival at Pickup - Day of Month</th>\n",
              "      <th>Arrival at Pickup - Weekday (Mo = 1)</th>\n",
              "      <th>Arrival at Pickup - Time</th>\n",
              "      <th>Pickup - Day of Month</th>\n",
              "      <th>Pickup - Weekday (Mo = 1)</th>\n",
              "      <th>Pickup - Time</th>\n",
              "      <th>Distance (KM)</th>\n",
              "      <th>Temperature</th>\n",
              "      <th>Precipitation in millimeters</th>\n",
              "      <th>Pickup Lat</th>\n",
              "      <th>Pickup Long</th>\n",
              "      <th>Destination Lat</th>\n",
              "      <th>Destination Long</th>\n",
              "      <th>Rider Id</th>\n",
              "    </tr>\n",
              "  </thead>\n",
              "  <tbody>\n",
              "    <tr>\n",
              "      <th>0</th>\n",
              "      <td>Order_No_19248</td>\n",
              "      <td>User_Id_3355</td>\n",
              "      <td>Bike</td>\n",
              "      <td>3</td>\n",
              "      <td>Business</td>\n",
              "      <td>27</td>\n",
              "      <td>3</td>\n",
              "      <td>4:44:10 PM</td>\n",
              "      <td>27</td>\n",
              "      <td>3</td>\n",
              "      <td>4:44:29 PM</td>\n",
              "      <td>27</td>\n",
              "      <td>3</td>\n",
              "      <td>4:53:04 PM</td>\n",
              "      <td>27</td>\n",
              "      <td>3</td>\n",
              "      <td>5:06:47 PM</td>\n",
              "      <td>8</td>\n",
              "      <td>NaN</td>\n",
              "      <td>NaN</td>\n",
              "      <td>-1.333275</td>\n",
              "      <td>36.870815</td>\n",
              "      <td>-1.305249</td>\n",
              "      <td>36.822390</td>\n",
              "      <td>Rider_Id_192</td>\n",
              "    </tr>\n",
              "    <tr>\n",
              "      <th>1</th>\n",
              "      <td>Order_No_12736</td>\n",
              "      <td>User_Id_3647</td>\n",
              "      <td>Bike</td>\n",
              "      <td>3</td>\n",
              "      <td>Business</td>\n",
              "      <td>17</td>\n",
              "      <td>5</td>\n",
              "      <td>12:57:35 PM</td>\n",
              "      <td>17</td>\n",
              "      <td>5</td>\n",
              "      <td>12:59:17 PM</td>\n",
              "      <td>17</td>\n",
              "      <td>5</td>\n",
              "      <td>1:20:27 PM</td>\n",
              "      <td>17</td>\n",
              "      <td>5</td>\n",
              "      <td>1:25:37 PM</td>\n",
              "      <td>5</td>\n",
              "      <td>NaN</td>\n",
              "      <td>NaN</td>\n",
              "      <td>-1.272639</td>\n",
              "      <td>36.794723</td>\n",
              "      <td>-1.277007</td>\n",
              "      <td>36.823907</td>\n",
              "      <td>Rider_Id_868</td>\n",
              "    </tr>\n",
              "    <tr>\n",
              "      <th>2</th>\n",
              "      <td>Order_No_768</td>\n",
              "      <td>User_Id_2154</td>\n",
              "      <td>Bike</td>\n",
              "      <td>3</td>\n",
              "      <td>Business</td>\n",
              "      <td>27</td>\n",
              "      <td>4</td>\n",
              "      <td>11:08:14 AM</td>\n",
              "      <td>27</td>\n",
              "      <td>4</td>\n",
              "      <td>11:25:05 AM</td>\n",
              "      <td>27</td>\n",
              "      <td>4</td>\n",
              "      <td>11:33:20 AM</td>\n",
              "      <td>27</td>\n",
              "      <td>4</td>\n",
              "      <td>11:57:54 AM</td>\n",
              "      <td>5</td>\n",
              "      <td>22.8</td>\n",
              "      <td>NaN</td>\n",
              "      <td>-1.290894</td>\n",
              "      <td>36.822971</td>\n",
              "      <td>-1.276574</td>\n",
              "      <td>36.851365</td>\n",
              "      <td>Rider_Id_26</td>\n",
              "    </tr>\n",
              "    <tr>\n",
              "      <th>3</th>\n",
              "      <td>Order_No_15332</td>\n",
              "      <td>User_Id_2910</td>\n",
              "      <td>Bike</td>\n",
              "      <td>3</td>\n",
              "      <td>Business</td>\n",
              "      <td>17</td>\n",
              "      <td>1</td>\n",
              "      <td>1:51:35 PM</td>\n",
              "      <td>17</td>\n",
              "      <td>1</td>\n",
              "      <td>1:53:27 PM</td>\n",
              "      <td>17</td>\n",
              "      <td>1</td>\n",
              "      <td>2:02:41 PM</td>\n",
              "      <td>17</td>\n",
              "      <td>1</td>\n",
              "      <td>2:16:52 PM</td>\n",
              "      <td>5</td>\n",
              "      <td>24.5</td>\n",
              "      <td>NaN</td>\n",
              "      <td>-1.290503</td>\n",
              "      <td>36.809646</td>\n",
              "      <td>-1.303382</td>\n",
              "      <td>36.790658</td>\n",
              "      <td>Rider_Id_685</td>\n",
              "    </tr>\n",
              "    <tr>\n",
              "      <th>4</th>\n",
              "      <td>Order_No_21373</td>\n",
              "      <td>User_Id_1205</td>\n",
              "      <td>Bike</td>\n",
              "      <td>3</td>\n",
              "      <td>Business</td>\n",
              "      <td>11</td>\n",
              "      <td>2</td>\n",
              "      <td>11:30:28 AM</td>\n",
              "      <td>11</td>\n",
              "      <td>2</td>\n",
              "      <td>11:34:45 AM</td>\n",
              "      <td>11</td>\n",
              "      <td>2</td>\n",
              "      <td>11:47:19 AM</td>\n",
              "      <td>11</td>\n",
              "      <td>2</td>\n",
              "      <td>11:56:04 AM</td>\n",
              "      <td>6</td>\n",
              "      <td>24.4</td>\n",
              "      <td>NaN</td>\n",
              "      <td>-1.281081</td>\n",
              "      <td>36.814423</td>\n",
              "      <td>-1.266467</td>\n",
              "      <td>36.792161</td>\n",
              "      <td>Rider_Id_858</td>\n",
              "    </tr>\n",
              "  </tbody>\n",
              "</table>\n",
              "</div>"
            ],
            "text/plain": [
              "         Order No       User Id  ... Destination Long      Rider Id\n",
              "0  Order_No_19248  User_Id_3355  ...        36.822390  Rider_Id_192\n",
              "1  Order_No_12736  User_Id_3647  ...        36.823907  Rider_Id_868\n",
              "2    Order_No_768  User_Id_2154  ...        36.851365   Rider_Id_26\n",
              "3  Order_No_15332  User_Id_2910  ...        36.790658  Rider_Id_685\n",
              "4  Order_No_21373  User_Id_1205  ...        36.792161  Rider_Id_858\n",
              "\n",
              "[5 rows x 25 columns]"
            ]
          },
          "metadata": {
            "tags": []
          },
          "execution_count": 4
        }
      ]
    },
    {
      "cell_type": "code",
      "metadata": {
        "id": "CwuRy9hZbAws",
        "colab_type": "code",
        "outputId": "cc984aea-cfce-4f17-c553-37c222386d4d",
        "colab": {
          "base_uri": "https://localhost:8080/",
          "height": 1000
        }
      },
      "source": [
        "descrip = pd.read_csv('VariableDefinitions.csv')\n",
        "descrip.head(35) # 34 to display every description\n"
      ],
      "execution_count": 5,
      "outputs": [
        {
          "output_type": "execute_result",
          "data": {
            "text/html": [
              "<div>\n",
              "<style scoped>\n",
              "    .dataframe tbody tr th:only-of-type {\n",
              "        vertical-align: middle;\n",
              "    }\n",
              "\n",
              "    .dataframe tbody tr th {\n",
              "        vertical-align: top;\n",
              "    }\n",
              "\n",
              "    .dataframe thead th {\n",
              "        text-align: right;\n",
              "    }\n",
              "</style>\n",
              "<table border=\"1\" class=\"dataframe\">\n",
              "  <thead>\n",
              "    <tr style=\"text-align: right;\">\n",
              "      <th></th>\n",
              "      <th>Order No</th>\n",
              "      <th>Unique number identifying the order</th>\n",
              "    </tr>\n",
              "  </thead>\n",
              "  <tbody>\n",
              "    <tr>\n",
              "      <th>0</th>\n",
              "      <td>User Id</td>\n",
              "      <td>Unique number identifying the customer on a pl...</td>\n",
              "    </tr>\n",
              "    <tr>\n",
              "      <th>1</th>\n",
              "      <td>Vehicle Type</td>\n",
              "      <td>For this competition limited to bikes, however...</td>\n",
              "    </tr>\n",
              "    <tr>\n",
              "      <th>2</th>\n",
              "      <td>Platform Type</td>\n",
              "      <td>Platform used to place the order, there are 4 ...</td>\n",
              "    </tr>\n",
              "    <tr>\n",
              "      <th>3</th>\n",
              "      <td>Personal or Business</td>\n",
              "      <td>Customer type</td>\n",
              "    </tr>\n",
              "    <tr>\n",
              "      <th>4</th>\n",
              "      <td>Placement - Day of Month</td>\n",
              "      <td>Placement - Day of Month i.e 1-31</td>\n",
              "    </tr>\n",
              "    <tr>\n",
              "      <th>5</th>\n",
              "      <td>Placement - Weekday (Mo = 1)</td>\n",
              "      <td>Placement - Weekday (Monday = 1)</td>\n",
              "    </tr>\n",
              "    <tr>\n",
              "      <th>6</th>\n",
              "      <td>Placement - Time</td>\n",
              "      <td>Placement - Time - Time of day the order was p...</td>\n",
              "    </tr>\n",
              "    <tr>\n",
              "      <th>7</th>\n",
              "      <td>Confirmation - Day of Month</td>\n",
              "      <td>Confirmation - Day of Month i.e 1-31</td>\n",
              "    </tr>\n",
              "    <tr>\n",
              "      <th>8</th>\n",
              "      <td>Confirmation - Weekday (Mo = 1)</td>\n",
              "      <td>Confirmation - Weekday (Monday = 1)</td>\n",
              "    </tr>\n",
              "    <tr>\n",
              "      <th>9</th>\n",
              "      <td>Confirmation - Time</td>\n",
              "      <td>Confirmation - Time - Time of day the order wa...</td>\n",
              "    </tr>\n",
              "    <tr>\n",
              "      <th>10</th>\n",
              "      <td>Arrival at Pickup - Day of Month</td>\n",
              "      <td>Arrival at Pickup - Day of Month i.e 1-31</td>\n",
              "    </tr>\n",
              "    <tr>\n",
              "      <th>11</th>\n",
              "      <td>Arrival at Pickup - Weekday (Mo = 1)</td>\n",
              "      <td>Arrival at Pickup - Weekday (Monday = 1)</td>\n",
              "    </tr>\n",
              "    <tr>\n",
              "      <th>12</th>\n",
              "      <td>Arrival at Pickup - Time</td>\n",
              "      <td>Time of day the the rider arrived at the locat...</td>\n",
              "    </tr>\n",
              "    <tr>\n",
              "      <th>13</th>\n",
              "      <td>Pickup - Day of Month</td>\n",
              "      <td>Pickup - Day of Month i.e 1-31</td>\n",
              "    </tr>\n",
              "    <tr>\n",
              "      <th>14</th>\n",
              "      <td>Pickup - Weekday (Mo = 1)</td>\n",
              "      <td>Pickup - Weekday (Monday = 1)</td>\n",
              "    </tr>\n",
              "    <tr>\n",
              "      <th>15</th>\n",
              "      <td>Pickup - Time</td>\n",
              "      <td>Pickup - Time - Time of day the the rider pick...</td>\n",
              "    </tr>\n",
              "    <tr>\n",
              "      <th>16</th>\n",
              "      <td>Arrival at Destination - Day of Month</td>\n",
              "      <td>Arrival at Delivery - Day of Month i.e 1-31</td>\n",
              "    </tr>\n",
              "    <tr>\n",
              "      <th>17</th>\n",
              "      <td>Arrival at Destination - Weekday (Mo = 1)</td>\n",
              "      <td>Arrival at Delivery - Weekday (Monday = 1)</td>\n",
              "    </tr>\n",
              "    <tr>\n",
              "      <th>18</th>\n",
              "      <td>Arrival at Destination - Time</td>\n",
              "      <td>Arrival at Delivery Time - Time of day the rid...</td>\n",
              "    </tr>\n",
              "    <tr>\n",
              "      <th>19</th>\n",
              "      <td>Distance (KM)</td>\n",
              "      <td>The distance from Pickup to Destination</td>\n",
              "    </tr>\n",
              "    <tr>\n",
              "      <th>20</th>\n",
              "      <td>Temperature</td>\n",
              "      <td>Temperature at the time of order placement in ...</td>\n",
              "    </tr>\n",
              "    <tr>\n",
              "      <th>21</th>\n",
              "      <td>Precipitation in millimeters</td>\n",
              "      <td>Precipitation at the time of order placement ...</td>\n",
              "    </tr>\n",
              "    <tr>\n",
              "      <th>22</th>\n",
              "      <td>Pickup Lat</td>\n",
              "      <td>Latitude of pick up location</td>\n",
              "    </tr>\n",
              "    <tr>\n",
              "      <th>23</th>\n",
              "      <td>Pickup Long</td>\n",
              "      <td>Longitude of pick up location</td>\n",
              "    </tr>\n",
              "    <tr>\n",
              "      <th>24</th>\n",
              "      <td>Destination Lat</td>\n",
              "      <td>Latitude of delivery location</td>\n",
              "    </tr>\n",
              "    <tr>\n",
              "      <th>25</th>\n",
              "      <td>Destination Long</td>\n",
              "      <td>Longitude of delivery location</td>\n",
              "    </tr>\n",
              "    <tr>\n",
              "      <th>26</th>\n",
              "      <td>Rider Id</td>\n",
              "      <td>ID of the Rider who accepted the order</td>\n",
              "    </tr>\n",
              "    <tr>\n",
              "      <th>27</th>\n",
              "      <td>Time from Pickup to Arrival</td>\n",
              "      <td>Time in seconds between 'Pickup' and 'Arrival ...</td>\n",
              "    </tr>\n",
              "    <tr>\n",
              "      <th>28</th>\n",
              "      <td>NaN</td>\n",
              "      <td>NaN</td>\n",
              "    </tr>\n",
              "    <tr>\n",
              "      <th>29</th>\n",
              "      <td>Rider Metrics</td>\n",
              "      <td>NaN</td>\n",
              "    </tr>\n",
              "    <tr>\n",
              "      <th>30</th>\n",
              "      <td>Rider Id</td>\n",
              "      <td>Unique number identifying the rider (same as i...</td>\n",
              "    </tr>\n",
              "    <tr>\n",
              "      <th>31</th>\n",
              "      <td>No_Of_Orders</td>\n",
              "      <td>Number of Orders the rider has delivered</td>\n",
              "    </tr>\n",
              "    <tr>\n",
              "      <th>32</th>\n",
              "      <td>Age</td>\n",
              "      <td>Number of days since the rider delivered the f...</td>\n",
              "    </tr>\n",
              "    <tr>\n",
              "      <th>33</th>\n",
              "      <td>Average_Rating</td>\n",
              "      <td>Average rating of the rider</td>\n",
              "    </tr>\n",
              "    <tr>\n",
              "      <th>34</th>\n",
              "      <td>No_of_Ratings</td>\n",
              "      <td>Number of ratings the rider has received. Rat...</td>\n",
              "    </tr>\n",
              "  </tbody>\n",
              "</table>\n",
              "</div>"
            ],
            "text/plain": [
              "                                     Order No                Unique number identifying the order\n",
              "0                                     User Id  Unique number identifying the customer on a pl...\n",
              "1                                Vehicle Type  For this competition limited to bikes, however...\n",
              "2                               Platform Type  Platform used to place the order, there are 4 ...\n",
              "3                        Personal or Business                                      Customer type\n",
              "4                    Placement - Day of Month                  Placement - Day of Month i.e 1-31\n",
              "5                Placement - Weekday (Mo = 1)                   Placement - Weekday (Monday = 1)\n",
              "6                            Placement - Time  Placement - Time - Time of day the order was p...\n",
              "7                 Confirmation - Day of Month               Confirmation - Day of Month i.e 1-31\n",
              "8             Confirmation - Weekday (Mo = 1)                Confirmation - Weekday (Monday = 1)\n",
              "9                         Confirmation - Time  Confirmation - Time - Time of day the order wa...\n",
              "10           Arrival at Pickup - Day of Month          Arrival at Pickup - Day of Month i.e 1-31\n",
              "11       Arrival at Pickup - Weekday (Mo = 1)           Arrival at Pickup - Weekday (Monday = 1)\n",
              "12                   Arrival at Pickup - Time  Time of day the the rider arrived at the locat...\n",
              "13                      Pickup - Day of Month                     Pickup - Day of Month i.e 1-31\n",
              "14                  Pickup - Weekday (Mo = 1)                      Pickup - Weekday (Monday = 1)\n",
              "15                              Pickup - Time  Pickup - Time - Time of day the the rider pick...\n",
              "16      Arrival at Destination - Day of Month        Arrival at Delivery - Day of Month i.e 1-31\n",
              "17  Arrival at Destination - Weekday (Mo = 1)         Arrival at Delivery - Weekday (Monday = 1)\n",
              "18              Arrival at Destination - Time  Arrival at Delivery Time - Time of day the rid...\n",
              "19                              Distance (KM)            The distance from Pickup to Destination\n",
              "20                                Temperature  Temperature at the time of order placement in ...\n",
              "21               Precipitation in millimeters   Precipitation at the time of order placement ...\n",
              "22                                 Pickup Lat                       Latitude of pick up location\n",
              "23                                Pickup Long                      Longitude of pick up location\n",
              "24                            Destination Lat                      Latitude of delivery location\n",
              "25                           Destination Long                     Longitude of delivery location\n",
              "26                                   Rider Id             ID of the Rider who accepted the order\n",
              "27                Time from Pickup to Arrival  Time in seconds between 'Pickup' and 'Arrival ...\n",
              "28                                        NaN                                                NaN\n",
              "29                              Rider Metrics                                                NaN\n",
              "30                                   Rider Id  Unique number identifying the rider (same as i...\n",
              "31                               No_Of_Orders           Number of Orders the rider has delivered\n",
              "32                                        Age  Number of days since the rider delivered the f...\n",
              "33                             Average_Rating                        Average rating of the rider\n",
              "34                              No_of_Ratings   Number of ratings the rider has received. Rat..."
            ]
          },
          "metadata": {
            "tags": []
          },
          "execution_count": 5
        }
      ]
    },
    {
      "cell_type": "code",
      "metadata": {
        "id": "7SvUjH7LbAwy",
        "colab_type": "code",
        "outputId": "3931d1bd-c124-4292-ba3e-078f276e5380",
        "colab": {
          "base_uri": "https://localhost:8080/",
          "height": 198
        }
      },
      "source": [
        "samplesub = pd.read_csv('SampleSubmission.csv')\n",
        "samplesub.head()\n"
      ],
      "execution_count": 6,
      "outputs": [
        {
          "output_type": "execute_result",
          "data": {
            "text/html": [
              "<div>\n",
              "<style scoped>\n",
              "    .dataframe tbody tr th:only-of-type {\n",
              "        vertical-align: middle;\n",
              "    }\n",
              "\n",
              "    .dataframe tbody tr th {\n",
              "        vertical-align: top;\n",
              "    }\n",
              "\n",
              "    .dataframe thead th {\n",
              "        text-align: right;\n",
              "    }\n",
              "</style>\n",
              "<table border=\"1\" class=\"dataframe\">\n",
              "  <thead>\n",
              "    <tr style=\"text-align: right;\">\n",
              "      <th></th>\n",
              "      <th>Order_No</th>\n",
              "      <th>Time from Pickup to Arrival</th>\n",
              "    </tr>\n",
              "  </thead>\n",
              "  <tbody>\n",
              "    <tr>\n",
              "      <th>0</th>\n",
              "      <td>Order_No_19248</td>\n",
              "      <td>567.0</td>\n",
              "    </tr>\n",
              "    <tr>\n",
              "      <th>1</th>\n",
              "      <td>Order_No_12736</td>\n",
              "      <td>4903.0</td>\n",
              "    </tr>\n",
              "    <tr>\n",
              "      <th>2</th>\n",
              "      <td>Order_No_768</td>\n",
              "      <td>5649.0</td>\n",
              "    </tr>\n",
              "    <tr>\n",
              "      <th>3</th>\n",
              "      <td>Order_No_15332</td>\n",
              "      <td>NaN</td>\n",
              "    </tr>\n",
              "    <tr>\n",
              "      <th>4</th>\n",
              "      <td>Order_No_21373</td>\n",
              "      <td>NaN</td>\n",
              "    </tr>\n",
              "  </tbody>\n",
              "</table>\n",
              "</div>"
            ],
            "text/plain": [
              "         Order_No  Time from Pickup to Arrival\n",
              "0  Order_No_19248                        567.0\n",
              "1  Order_No_12736                       4903.0\n",
              "2    Order_No_768                       5649.0\n",
              "3  Order_No_15332                          NaN\n",
              "4  Order_No_21373                          NaN"
            ]
          },
          "metadata": {
            "tags": []
          },
          "execution_count": 6
        }
      ]
    },
    {
      "cell_type": "code",
      "metadata": {
        "id": "Op1tBYPubAw6",
        "colab_type": "code",
        "outputId": "922f3c3a-97b4-4310-a476-b9cb1ce2716d",
        "colab": {
          "base_uri": "https://localhost:8080/",
          "height": 198
        }
      },
      "source": [
        "rider_data = pd.read_csv('Riders.csv')\n",
        "rider_data.head()\n"
      ],
      "execution_count": 7,
      "outputs": [
        {
          "output_type": "execute_result",
          "data": {
            "text/html": [
              "<div>\n",
              "<style scoped>\n",
              "    .dataframe tbody tr th:only-of-type {\n",
              "        vertical-align: middle;\n",
              "    }\n",
              "\n",
              "    .dataframe tbody tr th {\n",
              "        vertical-align: top;\n",
              "    }\n",
              "\n",
              "    .dataframe thead th {\n",
              "        text-align: right;\n",
              "    }\n",
              "</style>\n",
              "<table border=\"1\" class=\"dataframe\">\n",
              "  <thead>\n",
              "    <tr style=\"text-align: right;\">\n",
              "      <th></th>\n",
              "      <th>Rider Id</th>\n",
              "      <th>No_Of_Orders</th>\n",
              "      <th>Age</th>\n",
              "      <th>Average_Rating</th>\n",
              "      <th>No_of_Ratings</th>\n",
              "    </tr>\n",
              "  </thead>\n",
              "  <tbody>\n",
              "    <tr>\n",
              "      <th>0</th>\n",
              "      <td>Rider_Id_396</td>\n",
              "      <td>2946</td>\n",
              "      <td>2298</td>\n",
              "      <td>14.0</td>\n",
              "      <td>1159</td>\n",
              "    </tr>\n",
              "    <tr>\n",
              "      <th>1</th>\n",
              "      <td>Rider_Id_479</td>\n",
              "      <td>360</td>\n",
              "      <td>951</td>\n",
              "      <td>13.5</td>\n",
              "      <td>176</td>\n",
              "    </tr>\n",
              "    <tr>\n",
              "      <th>2</th>\n",
              "      <td>Rider_Id_648</td>\n",
              "      <td>1746</td>\n",
              "      <td>821</td>\n",
              "      <td>14.3</td>\n",
              "      <td>466</td>\n",
              "    </tr>\n",
              "    <tr>\n",
              "      <th>3</th>\n",
              "      <td>Rider_Id_753</td>\n",
              "      <td>314</td>\n",
              "      <td>980</td>\n",
              "      <td>12.5</td>\n",
              "      <td>75</td>\n",
              "    </tr>\n",
              "    <tr>\n",
              "      <th>4</th>\n",
              "      <td>Rider_Id_335</td>\n",
              "      <td>536</td>\n",
              "      <td>1113</td>\n",
              "      <td>13.7</td>\n",
              "      <td>156</td>\n",
              "    </tr>\n",
              "  </tbody>\n",
              "</table>\n",
              "</div>"
            ],
            "text/plain": [
              "       Rider Id  No_Of_Orders   Age  Average_Rating  No_of_Ratings\n",
              "0  Rider_Id_396          2946  2298            14.0           1159\n",
              "1  Rider_Id_479           360   951            13.5            176\n",
              "2  Rider_Id_648          1746   821            14.3            466\n",
              "3  Rider_Id_753           314   980            12.5             75\n",
              "4  Rider_Id_335           536  1113            13.7            156"
            ]
          },
          "metadata": {
            "tags": []
          },
          "execution_count": 7
        }
      ]
    },
    {
      "cell_type": "code",
      "metadata": {
        "id": "Gz3E1wmybAxE",
        "colab_type": "code",
        "outputId": "3ef8860e-5861-4a01-9d18-f09a622e11e2",
        "colab": {
          "base_uri": "https://localhost:8080/",
          "height": 408
        }
      },
      "source": [
        "train_data.head(5)\n"
      ],
      "execution_count": 8,
      "outputs": [
        {
          "output_type": "execute_result",
          "data": {
            "text/html": [
              "<div>\n",
              "<style scoped>\n",
              "    .dataframe tbody tr th:only-of-type {\n",
              "        vertical-align: middle;\n",
              "    }\n",
              "\n",
              "    .dataframe tbody tr th {\n",
              "        vertical-align: top;\n",
              "    }\n",
              "\n",
              "    .dataframe thead th {\n",
              "        text-align: right;\n",
              "    }\n",
              "</style>\n",
              "<table border=\"1\" class=\"dataframe\">\n",
              "  <thead>\n",
              "    <tr style=\"text-align: right;\">\n",
              "      <th></th>\n",
              "      <th>Order No</th>\n",
              "      <th>User Id</th>\n",
              "      <th>Vehicle Type</th>\n",
              "      <th>Platform Type</th>\n",
              "      <th>Personal or Business</th>\n",
              "      <th>Placement - Day of Month</th>\n",
              "      <th>Placement - Weekday (Mo = 1)</th>\n",
              "      <th>Placement - Time</th>\n",
              "      <th>Confirmation - Day of Month</th>\n",
              "      <th>Confirmation - Weekday (Mo = 1)</th>\n",
              "      <th>Confirmation - Time</th>\n",
              "      <th>Arrival at Pickup - Day of Month</th>\n",
              "      <th>Arrival at Pickup - Weekday (Mo = 1)</th>\n",
              "      <th>Arrival at Pickup - Time</th>\n",
              "      <th>Pickup - Day of Month</th>\n",
              "      <th>Pickup - Weekday (Mo = 1)</th>\n",
              "      <th>Pickup - Time</th>\n",
              "      <th>Arrival at Destination - Day of Month</th>\n",
              "      <th>Arrival at Destination - Weekday (Mo = 1)</th>\n",
              "      <th>Arrival at Destination - Time</th>\n",
              "      <th>Distance (KM)</th>\n",
              "      <th>Temperature</th>\n",
              "      <th>Precipitation in millimeters</th>\n",
              "      <th>Pickup Lat</th>\n",
              "      <th>Pickup Long</th>\n",
              "      <th>Destination Lat</th>\n",
              "      <th>Destination Long</th>\n",
              "      <th>Rider Id</th>\n",
              "      <th>Time from Pickup to Arrival</th>\n",
              "    </tr>\n",
              "  </thead>\n",
              "  <tbody>\n",
              "    <tr>\n",
              "      <th>0</th>\n",
              "      <td>Order_No_4211</td>\n",
              "      <td>User_Id_633</td>\n",
              "      <td>Bike</td>\n",
              "      <td>3</td>\n",
              "      <td>Business</td>\n",
              "      <td>9</td>\n",
              "      <td>5</td>\n",
              "      <td>9:35:46 AM</td>\n",
              "      <td>9</td>\n",
              "      <td>5</td>\n",
              "      <td>9:40:10 AM</td>\n",
              "      <td>9</td>\n",
              "      <td>5</td>\n",
              "      <td>10:04:47 AM</td>\n",
              "      <td>9</td>\n",
              "      <td>5</td>\n",
              "      <td>10:27:30 AM</td>\n",
              "      <td>9</td>\n",
              "      <td>5</td>\n",
              "      <td>10:39:55 AM</td>\n",
              "      <td>4</td>\n",
              "      <td>20.4</td>\n",
              "      <td>NaN</td>\n",
              "      <td>-1.317755</td>\n",
              "      <td>36.830370</td>\n",
              "      <td>-1.300406</td>\n",
              "      <td>36.829741</td>\n",
              "      <td>Rider_Id_432</td>\n",
              "      <td>745</td>\n",
              "    </tr>\n",
              "    <tr>\n",
              "      <th>1</th>\n",
              "      <td>Order_No_25375</td>\n",
              "      <td>User_Id_2285</td>\n",
              "      <td>Bike</td>\n",
              "      <td>3</td>\n",
              "      <td>Personal</td>\n",
              "      <td>12</td>\n",
              "      <td>5</td>\n",
              "      <td>11:16:16 AM</td>\n",
              "      <td>12</td>\n",
              "      <td>5</td>\n",
              "      <td>11:23:21 AM</td>\n",
              "      <td>12</td>\n",
              "      <td>5</td>\n",
              "      <td>11:40:22 AM</td>\n",
              "      <td>12</td>\n",
              "      <td>5</td>\n",
              "      <td>11:44:09 AM</td>\n",
              "      <td>12</td>\n",
              "      <td>5</td>\n",
              "      <td>12:17:22 PM</td>\n",
              "      <td>16</td>\n",
              "      <td>26.4</td>\n",
              "      <td>NaN</td>\n",
              "      <td>-1.351453</td>\n",
              "      <td>36.899315</td>\n",
              "      <td>-1.295004</td>\n",
              "      <td>36.814358</td>\n",
              "      <td>Rider_Id_856</td>\n",
              "      <td>1993</td>\n",
              "    </tr>\n",
              "    <tr>\n",
              "      <th>2</th>\n",
              "      <td>Order_No_1899</td>\n",
              "      <td>User_Id_265</td>\n",
              "      <td>Bike</td>\n",
              "      <td>3</td>\n",
              "      <td>Business</td>\n",
              "      <td>30</td>\n",
              "      <td>2</td>\n",
              "      <td>12:39:25 PM</td>\n",
              "      <td>30</td>\n",
              "      <td>2</td>\n",
              "      <td>12:42:44 PM</td>\n",
              "      <td>30</td>\n",
              "      <td>2</td>\n",
              "      <td>12:49:34 PM</td>\n",
              "      <td>30</td>\n",
              "      <td>2</td>\n",
              "      <td>12:53:03 PM</td>\n",
              "      <td>30</td>\n",
              "      <td>2</td>\n",
              "      <td>1:00:38 PM</td>\n",
              "      <td>3</td>\n",
              "      <td>NaN</td>\n",
              "      <td>NaN</td>\n",
              "      <td>-1.308284</td>\n",
              "      <td>36.843419</td>\n",
              "      <td>-1.300921</td>\n",
              "      <td>36.828195</td>\n",
              "      <td>Rider_Id_155</td>\n",
              "      <td>455</td>\n",
              "    </tr>\n",
              "    <tr>\n",
              "      <th>3</th>\n",
              "      <td>Order_No_9336</td>\n",
              "      <td>User_Id_1402</td>\n",
              "      <td>Bike</td>\n",
              "      <td>3</td>\n",
              "      <td>Business</td>\n",
              "      <td>15</td>\n",
              "      <td>5</td>\n",
              "      <td>9:25:34 AM</td>\n",
              "      <td>15</td>\n",
              "      <td>5</td>\n",
              "      <td>9:26:05 AM</td>\n",
              "      <td>15</td>\n",
              "      <td>5</td>\n",
              "      <td>9:37:56 AM</td>\n",
              "      <td>15</td>\n",
              "      <td>5</td>\n",
              "      <td>9:43:06 AM</td>\n",
              "      <td>15</td>\n",
              "      <td>5</td>\n",
              "      <td>10:05:27 AM</td>\n",
              "      <td>9</td>\n",
              "      <td>19.2</td>\n",
              "      <td>NaN</td>\n",
              "      <td>-1.281301</td>\n",
              "      <td>36.832396</td>\n",
              "      <td>-1.257147</td>\n",
              "      <td>36.795063</td>\n",
              "      <td>Rider_Id_855</td>\n",
              "      <td>1341</td>\n",
              "    </tr>\n",
              "    <tr>\n",
              "      <th>4</th>\n",
              "      <td>Order_No_27883</td>\n",
              "      <td>User_Id_1737</td>\n",
              "      <td>Bike</td>\n",
              "      <td>1</td>\n",
              "      <td>Personal</td>\n",
              "      <td>13</td>\n",
              "      <td>1</td>\n",
              "      <td>9:55:18 AM</td>\n",
              "      <td>13</td>\n",
              "      <td>1</td>\n",
              "      <td>9:56:18 AM</td>\n",
              "      <td>13</td>\n",
              "      <td>1</td>\n",
              "      <td>10:03:53 AM</td>\n",
              "      <td>13</td>\n",
              "      <td>1</td>\n",
              "      <td>10:05:23 AM</td>\n",
              "      <td>13</td>\n",
              "      <td>1</td>\n",
              "      <td>10:25:37 AM</td>\n",
              "      <td>9</td>\n",
              "      <td>15.4</td>\n",
              "      <td>NaN</td>\n",
              "      <td>-1.266597</td>\n",
              "      <td>36.792118</td>\n",
              "      <td>-1.295041</td>\n",
              "      <td>36.809817</td>\n",
              "      <td>Rider_Id_770</td>\n",
              "      <td>1214</td>\n",
              "    </tr>\n",
              "  </tbody>\n",
              "</table>\n",
              "</div>"
            ],
            "text/plain": [
              "         Order No       User Id  ...      Rider Id  Time from Pickup to Arrival\n",
              "0   Order_No_4211   User_Id_633  ...  Rider_Id_432                          745\n",
              "1  Order_No_25375  User_Id_2285  ...  Rider_Id_856                         1993\n",
              "2   Order_No_1899   User_Id_265  ...  Rider_Id_155                          455\n",
              "3   Order_No_9336  User_Id_1402  ...  Rider_Id_855                         1341\n",
              "4  Order_No_27883  User_Id_1737  ...  Rider_Id_770                         1214\n",
              "\n",
              "[5 rows x 29 columns]"
            ]
          },
          "metadata": {
            "tags": []
          },
          "execution_count": 8
        }
      ]
    },
    {
      "cell_type": "code",
      "metadata": {
        "id": "fDCfI-RYbAxL",
        "colab_type": "code",
        "outputId": "98b39329-15ab-41fd-a859-4b2f8851f7d0",
        "colab": {
          "base_uri": "https://localhost:8080/",
          "height": 408
        }
      },
      "source": [
        "train_data.tail(5)\n"
      ],
      "execution_count": 9,
      "outputs": [
        {
          "output_type": "execute_result",
          "data": {
            "text/html": [
              "<div>\n",
              "<style scoped>\n",
              "    .dataframe tbody tr th:only-of-type {\n",
              "        vertical-align: middle;\n",
              "    }\n",
              "\n",
              "    .dataframe tbody tr th {\n",
              "        vertical-align: top;\n",
              "    }\n",
              "\n",
              "    .dataframe thead th {\n",
              "        text-align: right;\n",
              "    }\n",
              "</style>\n",
              "<table border=\"1\" class=\"dataframe\">\n",
              "  <thead>\n",
              "    <tr style=\"text-align: right;\">\n",
              "      <th></th>\n",
              "      <th>Order No</th>\n",
              "      <th>User Id</th>\n",
              "      <th>Vehicle Type</th>\n",
              "      <th>Platform Type</th>\n",
              "      <th>Personal or Business</th>\n",
              "      <th>Placement - Day of Month</th>\n",
              "      <th>Placement - Weekday (Mo = 1)</th>\n",
              "      <th>Placement - Time</th>\n",
              "      <th>Confirmation - Day of Month</th>\n",
              "      <th>Confirmation - Weekday (Mo = 1)</th>\n",
              "      <th>Confirmation - Time</th>\n",
              "      <th>Arrival at Pickup - Day of Month</th>\n",
              "      <th>Arrival at Pickup - Weekday (Mo = 1)</th>\n",
              "      <th>Arrival at Pickup - Time</th>\n",
              "      <th>Pickup - Day of Month</th>\n",
              "      <th>Pickup - Weekday (Mo = 1)</th>\n",
              "      <th>Pickup - Time</th>\n",
              "      <th>Arrival at Destination - Day of Month</th>\n",
              "      <th>Arrival at Destination - Weekday (Mo = 1)</th>\n",
              "      <th>Arrival at Destination - Time</th>\n",
              "      <th>Distance (KM)</th>\n",
              "      <th>Temperature</th>\n",
              "      <th>Precipitation in millimeters</th>\n",
              "      <th>Pickup Lat</th>\n",
              "      <th>Pickup Long</th>\n",
              "      <th>Destination Lat</th>\n",
              "      <th>Destination Long</th>\n",
              "      <th>Rider Id</th>\n",
              "      <th>Time from Pickup to Arrival</th>\n",
              "    </tr>\n",
              "  </thead>\n",
              "  <tbody>\n",
              "    <tr>\n",
              "      <th>21196</th>\n",
              "      <td>Order_No_8834</td>\n",
              "      <td>User_Id_2001</td>\n",
              "      <td>Bike</td>\n",
              "      <td>3</td>\n",
              "      <td>Personal</td>\n",
              "      <td>20</td>\n",
              "      <td>3</td>\n",
              "      <td>3:54:38 PM</td>\n",
              "      <td>20</td>\n",
              "      <td>3</td>\n",
              "      <td>3:55:09 PM</td>\n",
              "      <td>20</td>\n",
              "      <td>3</td>\n",
              "      <td>3:58:49 PM</td>\n",
              "      <td>20</td>\n",
              "      <td>3</td>\n",
              "      <td>4:20:08 PM</td>\n",
              "      <td>20</td>\n",
              "      <td>3</td>\n",
              "      <td>4:20:17 PM</td>\n",
              "      <td>3</td>\n",
              "      <td>28.6</td>\n",
              "      <td>NaN</td>\n",
              "      <td>-1.258414</td>\n",
              "      <td>36.804800</td>\n",
              "      <td>-1.275285</td>\n",
              "      <td>36.802702</td>\n",
              "      <td>Rider_Id_953</td>\n",
              "      <td>9</td>\n",
              "    </tr>\n",
              "    <tr>\n",
              "      <th>21197</th>\n",
              "      <td>Order_No_22892</td>\n",
              "      <td>User_Id_1796</td>\n",
              "      <td>Bike</td>\n",
              "      <td>3</td>\n",
              "      <td>Business</td>\n",
              "      <td>13</td>\n",
              "      <td>6</td>\n",
              "      <td>10:13:34 AM</td>\n",
              "      <td>13</td>\n",
              "      <td>6</td>\n",
              "      <td>10:13:41 AM</td>\n",
              "      <td>13</td>\n",
              "      <td>6</td>\n",
              "      <td>10:20:04 AM</td>\n",
              "      <td>13</td>\n",
              "      <td>6</td>\n",
              "      <td>10:33:27 AM</td>\n",
              "      <td>13</td>\n",
              "      <td>6</td>\n",
              "      <td>10:46:17 AM</td>\n",
              "      <td>7</td>\n",
              "      <td>26.0</td>\n",
              "      <td>NaN</td>\n",
              "      <td>-1.307143</td>\n",
              "      <td>36.825009</td>\n",
              "      <td>-1.331619</td>\n",
              "      <td>36.847976</td>\n",
              "      <td>Rider_Id_155</td>\n",
              "      <td>770</td>\n",
              "    </tr>\n",
              "    <tr>\n",
              "      <th>21198</th>\n",
              "      <td>Order_No_2831</td>\n",
              "      <td>User_Id_2956</td>\n",
              "      <td>Bike</td>\n",
              "      <td>3</td>\n",
              "      <td>Business</td>\n",
              "      <td>7</td>\n",
              "      <td>4</td>\n",
              "      <td>5:06:16 PM</td>\n",
              "      <td>7</td>\n",
              "      <td>4</td>\n",
              "      <td>5:07:09 PM</td>\n",
              "      <td>7</td>\n",
              "      <td>4</td>\n",
              "      <td>5:30:17 PM</td>\n",
              "      <td>7</td>\n",
              "      <td>4</td>\n",
              "      <td>5:50:52 PM</td>\n",
              "      <td>7</td>\n",
              "      <td>4</td>\n",
              "      <td>6:40:05 PM</td>\n",
              "      <td>20</td>\n",
              "      <td>29.2</td>\n",
              "      <td>NaN</td>\n",
              "      <td>-1.286018</td>\n",
              "      <td>36.897534</td>\n",
              "      <td>-1.258414</td>\n",
              "      <td>36.804800</td>\n",
              "      <td>Rider_Id_697</td>\n",
              "      <td>2953</td>\n",
              "    </tr>\n",
              "    <tr>\n",
              "      <th>21199</th>\n",
              "      <td>Order_No_6174</td>\n",
              "      <td>User_Id_2524</td>\n",
              "      <td>Bike</td>\n",
              "      <td>1</td>\n",
              "      <td>Personal</td>\n",
              "      <td>4</td>\n",
              "      <td>3</td>\n",
              "      <td>9:31:39 AM</td>\n",
              "      <td>4</td>\n",
              "      <td>3</td>\n",
              "      <td>9:31:53 AM</td>\n",
              "      <td>4</td>\n",
              "      <td>3</td>\n",
              "      <td>9:38:59 AM</td>\n",
              "      <td>4</td>\n",
              "      <td>3</td>\n",
              "      <td>9:45:15 AM</td>\n",
              "      <td>4</td>\n",
              "      <td>3</td>\n",
              "      <td>10:08:15 AM</td>\n",
              "      <td>13</td>\n",
              "      <td>15.0</td>\n",
              "      <td>NaN</td>\n",
              "      <td>-1.250030</td>\n",
              "      <td>36.874167</td>\n",
              "      <td>-1.279209</td>\n",
              "      <td>36.794872</td>\n",
              "      <td>Rider_Id_347</td>\n",
              "      <td>1380</td>\n",
              "    </tr>\n",
              "    <tr>\n",
              "      <th>21200</th>\n",
              "      <td>Order_No_9836</td>\n",
              "      <td>User_Id_718</td>\n",
              "      <td>Bike</td>\n",
              "      <td>3</td>\n",
              "      <td>Business</td>\n",
              "      <td>26</td>\n",
              "      <td>2</td>\n",
              "      <td>2:19:47 PM</td>\n",
              "      <td>26</td>\n",
              "      <td>2</td>\n",
              "      <td>2:20:01 PM</td>\n",
              "      <td>26</td>\n",
              "      <td>2</td>\n",
              "      <td>2:24:29 PM</td>\n",
              "      <td>26</td>\n",
              "      <td>2</td>\n",
              "      <td>2:41:55 PM</td>\n",
              "      <td>26</td>\n",
              "      <td>2</td>\n",
              "      <td>3:17:23 PM</td>\n",
              "      <td>12</td>\n",
              "      <td>30.9</td>\n",
              "      <td>NaN</td>\n",
              "      <td>-1.255189</td>\n",
              "      <td>36.782203</td>\n",
              "      <td>-1.320157</td>\n",
              "      <td>36.830887</td>\n",
              "      <td>Rider_Id_177</td>\n",
              "      <td>2128</td>\n",
              "    </tr>\n",
              "  </tbody>\n",
              "</table>\n",
              "</div>"
            ],
            "text/plain": [
              "             Order No       User Id  ...      Rider Id  Time from Pickup to Arrival\n",
              "21196   Order_No_8834  User_Id_2001  ...  Rider_Id_953                            9\n",
              "21197  Order_No_22892  User_Id_1796  ...  Rider_Id_155                          770\n",
              "21198   Order_No_2831  User_Id_2956  ...  Rider_Id_697                         2953\n",
              "21199   Order_No_6174  User_Id_2524  ...  Rider_Id_347                         1380\n",
              "21200   Order_No_9836   User_Id_718  ...  Rider_Id_177                         2128\n",
              "\n",
              "[5 rows x 29 columns]"
            ]
          },
          "metadata": {
            "tags": []
          },
          "execution_count": 9
        }
      ]
    },
    {
      "cell_type": "code",
      "metadata": {
        "id": "BZTlrIJvbAxZ",
        "colab_type": "code",
        "outputId": "bcfff2c2-05c8-4cbf-a7b6-6c872c93225e",
        "colab": {
          "base_uri": "https://localhost:8080/",
          "height": 672
        }
      },
      "source": [
        "train_data.info()\n"
      ],
      "execution_count": 10,
      "outputs": [
        {
          "output_type": "stream",
          "text": [
            "<class 'pandas.core.frame.DataFrame'>\n",
            "RangeIndex: 21201 entries, 0 to 21200\n",
            "Data columns (total 29 columns):\n",
            " #   Column                                     Non-Null Count  Dtype  \n",
            "---  ------                                     --------------  -----  \n",
            " 0   Order No                                   21201 non-null  object \n",
            " 1   User Id                                    21201 non-null  object \n",
            " 2   Vehicle Type                               21201 non-null  object \n",
            " 3   Platform Type                              21201 non-null  int64  \n",
            " 4   Personal or Business                       21201 non-null  object \n",
            " 5   Placement - Day of Month                   21201 non-null  int64  \n",
            " 6   Placement - Weekday (Mo = 1)               21201 non-null  int64  \n",
            " 7   Placement - Time                           21201 non-null  object \n",
            " 8   Confirmation - Day of Month                21201 non-null  int64  \n",
            " 9   Confirmation - Weekday (Mo = 1)            21201 non-null  int64  \n",
            " 10  Confirmation - Time                        21201 non-null  object \n",
            " 11  Arrival at Pickup - Day of Month           21201 non-null  int64  \n",
            " 12  Arrival at Pickup - Weekday (Mo = 1)       21201 non-null  int64  \n",
            " 13  Arrival at Pickup - Time                   21201 non-null  object \n",
            " 14  Pickup - Day of Month                      21201 non-null  int64  \n",
            " 15  Pickup - Weekday (Mo = 1)                  21201 non-null  int64  \n",
            " 16  Pickup - Time                              21201 non-null  object \n",
            " 17  Arrival at Destination - Day of Month      21201 non-null  int64  \n",
            " 18  Arrival at Destination - Weekday (Mo = 1)  21201 non-null  int64  \n",
            " 19  Arrival at Destination - Time              21201 non-null  object \n",
            " 20  Distance (KM)                              21201 non-null  int64  \n",
            " 21  Temperature                                16835 non-null  float64\n",
            " 22  Precipitation in millimeters               552 non-null    float64\n",
            " 23  Pickup Lat                                 21201 non-null  float64\n",
            " 24  Pickup Long                                21201 non-null  float64\n",
            " 25  Destination Lat                            21201 non-null  float64\n",
            " 26  Destination Long                           21201 non-null  float64\n",
            " 27  Rider Id                                   21201 non-null  object \n",
            " 28  Time from Pickup to Arrival                21201 non-null  int64  \n",
            "dtypes: float64(6), int64(13), object(10)\n",
            "memory usage: 4.7+ MB\n"
          ],
          "name": "stdout"
        }
      ]
    },
    {
      "cell_type": "code",
      "metadata": {
        "id": "90NuH0YEbAxm",
        "colab_type": "code",
        "outputId": "5accea67-2a8c-45f6-9ad4-93860e583b13",
        "colab": {
          "base_uri": "https://localhost:8080/",
          "height": 360
        }
      },
      "source": [
        "train_data.describe()\n"
      ],
      "execution_count": 11,
      "outputs": [
        {
          "output_type": "execute_result",
          "data": {
            "text/html": [
              "<div>\n",
              "<style scoped>\n",
              "    .dataframe tbody tr th:only-of-type {\n",
              "        vertical-align: middle;\n",
              "    }\n",
              "\n",
              "    .dataframe tbody tr th {\n",
              "        vertical-align: top;\n",
              "    }\n",
              "\n",
              "    .dataframe thead th {\n",
              "        text-align: right;\n",
              "    }\n",
              "</style>\n",
              "<table border=\"1\" class=\"dataframe\">\n",
              "  <thead>\n",
              "    <tr style=\"text-align: right;\">\n",
              "      <th></th>\n",
              "      <th>Platform Type</th>\n",
              "      <th>Placement - Day of Month</th>\n",
              "      <th>Placement - Weekday (Mo = 1)</th>\n",
              "      <th>Confirmation - Day of Month</th>\n",
              "      <th>Confirmation - Weekday (Mo = 1)</th>\n",
              "      <th>Arrival at Pickup - Day of Month</th>\n",
              "      <th>Arrival at Pickup - Weekday (Mo = 1)</th>\n",
              "      <th>Pickup - Day of Month</th>\n",
              "      <th>Pickup - Weekday (Mo = 1)</th>\n",
              "      <th>Arrival at Destination - Day of Month</th>\n",
              "      <th>Arrival at Destination - Weekday (Mo = 1)</th>\n",
              "      <th>Distance (KM)</th>\n",
              "      <th>Temperature</th>\n",
              "      <th>Precipitation in millimeters</th>\n",
              "      <th>Pickup Lat</th>\n",
              "      <th>Pickup Long</th>\n",
              "      <th>Destination Lat</th>\n",
              "      <th>Destination Long</th>\n",
              "      <th>Time from Pickup to Arrival</th>\n",
              "    </tr>\n",
              "  </thead>\n",
              "  <tbody>\n",
              "    <tr>\n",
              "      <th>count</th>\n",
              "      <td>21201.000000</td>\n",
              "      <td>21201.000000</td>\n",
              "      <td>21201.000000</td>\n",
              "      <td>21201.000000</td>\n",
              "      <td>21201.000000</td>\n",
              "      <td>21201.000000</td>\n",
              "      <td>21201.000000</td>\n",
              "      <td>21201.000000</td>\n",
              "      <td>21201.000000</td>\n",
              "      <td>21201.000000</td>\n",
              "      <td>21201.000000</td>\n",
              "      <td>21201.000000</td>\n",
              "      <td>16835.000000</td>\n",
              "      <td>552.000000</td>\n",
              "      <td>21201.000000</td>\n",
              "      <td>21201.000000</td>\n",
              "      <td>21201.000000</td>\n",
              "      <td>21201.000000</td>\n",
              "      <td>21201.000000</td>\n",
              "    </tr>\n",
              "    <tr>\n",
              "      <th>mean</th>\n",
              "      <td>2.752182</td>\n",
              "      <td>15.653696</td>\n",
              "      <td>3.240083</td>\n",
              "      <td>15.653837</td>\n",
              "      <td>3.240225</td>\n",
              "      <td>15.653837</td>\n",
              "      <td>3.240225</td>\n",
              "      <td>15.653837</td>\n",
              "      <td>3.240225</td>\n",
              "      <td>15.653837</td>\n",
              "      <td>3.240225</td>\n",
              "      <td>9.506533</td>\n",
              "      <td>23.258889</td>\n",
              "      <td>7.905797</td>\n",
              "      <td>-1.281470</td>\n",
              "      <td>36.811264</td>\n",
              "      <td>-1.282581</td>\n",
              "      <td>36.811220</td>\n",
              "      <td>1556.920947</td>\n",
              "    </tr>\n",
              "    <tr>\n",
              "      <th>std</th>\n",
              "      <td>0.625178</td>\n",
              "      <td>8.798916</td>\n",
              "      <td>1.567295</td>\n",
              "      <td>8.798886</td>\n",
              "      <td>1.567228</td>\n",
              "      <td>8.798886</td>\n",
              "      <td>1.567228</td>\n",
              "      <td>8.798886</td>\n",
              "      <td>1.567228</td>\n",
              "      <td>8.798886</td>\n",
              "      <td>1.567228</td>\n",
              "      <td>5.668963</td>\n",
              "      <td>3.615768</td>\n",
              "      <td>17.089971</td>\n",
              "      <td>0.030507</td>\n",
              "      <td>0.037473</td>\n",
              "      <td>0.034824</td>\n",
              "      <td>0.044721</td>\n",
              "      <td>987.270788</td>\n",
              "    </tr>\n",
              "    <tr>\n",
              "      <th>min</th>\n",
              "      <td>1.000000</td>\n",
              "      <td>1.000000</td>\n",
              "      <td>1.000000</td>\n",
              "      <td>1.000000</td>\n",
              "      <td>1.000000</td>\n",
              "      <td>1.000000</td>\n",
              "      <td>1.000000</td>\n",
              "      <td>1.000000</td>\n",
              "      <td>1.000000</td>\n",
              "      <td>1.000000</td>\n",
              "      <td>1.000000</td>\n",
              "      <td>1.000000</td>\n",
              "      <td>11.200000</td>\n",
              "      <td>0.100000</td>\n",
              "      <td>-1.438302</td>\n",
              "      <td>36.653621</td>\n",
              "      <td>-1.430298</td>\n",
              "      <td>36.606594</td>\n",
              "      <td>1.000000</td>\n",
              "    </tr>\n",
              "    <tr>\n",
              "      <th>25%</th>\n",
              "      <td>3.000000</td>\n",
              "      <td>8.000000</td>\n",
              "      <td>2.000000</td>\n",
              "      <td>8.000000</td>\n",
              "      <td>2.000000</td>\n",
              "      <td>8.000000</td>\n",
              "      <td>2.000000</td>\n",
              "      <td>8.000000</td>\n",
              "      <td>2.000000</td>\n",
              "      <td>8.000000</td>\n",
              "      <td>2.000000</td>\n",
              "      <td>5.000000</td>\n",
              "      <td>20.600000</td>\n",
              "      <td>1.075000</td>\n",
              "      <td>-1.300921</td>\n",
              "      <td>36.784605</td>\n",
              "      <td>-1.301201</td>\n",
              "      <td>36.785661</td>\n",
              "      <td>882.000000</td>\n",
              "    </tr>\n",
              "    <tr>\n",
              "      <th>50%</th>\n",
              "      <td>3.000000</td>\n",
              "      <td>15.000000</td>\n",
              "      <td>3.000000</td>\n",
              "      <td>15.000000</td>\n",
              "      <td>3.000000</td>\n",
              "      <td>15.000000</td>\n",
              "      <td>3.000000</td>\n",
              "      <td>15.000000</td>\n",
              "      <td>3.000000</td>\n",
              "      <td>15.000000</td>\n",
              "      <td>3.000000</td>\n",
              "      <td>8.000000</td>\n",
              "      <td>23.500000</td>\n",
              "      <td>2.900000</td>\n",
              "      <td>-1.279395</td>\n",
              "      <td>36.807040</td>\n",
              "      <td>-1.284382</td>\n",
              "      <td>36.808002</td>\n",
              "      <td>1369.000000</td>\n",
              "    </tr>\n",
              "    <tr>\n",
              "      <th>75%</th>\n",
              "      <td>3.000000</td>\n",
              "      <td>23.000000</td>\n",
              "      <td>5.000000</td>\n",
              "      <td>23.000000</td>\n",
              "      <td>5.000000</td>\n",
              "      <td>23.000000</td>\n",
              "      <td>5.000000</td>\n",
              "      <td>23.000000</td>\n",
              "      <td>5.000000</td>\n",
              "      <td>23.000000</td>\n",
              "      <td>5.000000</td>\n",
              "      <td>13.000000</td>\n",
              "      <td>26.000000</td>\n",
              "      <td>4.900000</td>\n",
              "      <td>-1.257147</td>\n",
              "      <td>36.829741</td>\n",
              "      <td>-1.261177</td>\n",
              "      <td>36.829477</td>\n",
              "      <td>2040.000000</td>\n",
              "    </tr>\n",
              "    <tr>\n",
              "      <th>max</th>\n",
              "      <td>4.000000</td>\n",
              "      <td>31.000000</td>\n",
              "      <td>7.000000</td>\n",
              "      <td>31.000000</td>\n",
              "      <td>7.000000</td>\n",
              "      <td>31.000000</td>\n",
              "      <td>7.000000</td>\n",
              "      <td>31.000000</td>\n",
              "      <td>7.000000</td>\n",
              "      <td>31.000000</td>\n",
              "      <td>7.000000</td>\n",
              "      <td>49.000000</td>\n",
              "      <td>32.100000</td>\n",
              "      <td>99.100000</td>\n",
              "      <td>-1.147170</td>\n",
              "      <td>36.991046</td>\n",
              "      <td>-1.030225</td>\n",
              "      <td>37.016779</td>\n",
              "      <td>7883.000000</td>\n",
              "    </tr>\n",
              "  </tbody>\n",
              "</table>\n",
              "</div>"
            ],
            "text/plain": [
              "       Platform Type  ...  Time from Pickup to Arrival\n",
              "count   21201.000000  ...                 21201.000000\n",
              "mean        2.752182  ...                  1556.920947\n",
              "std         0.625178  ...                   987.270788\n",
              "min         1.000000  ...                     1.000000\n",
              "25%         3.000000  ...                   882.000000\n",
              "50%         3.000000  ...                  1369.000000\n",
              "75%         3.000000  ...                  2040.000000\n",
              "max         4.000000  ...                  7883.000000\n",
              "\n",
              "[8 rows x 19 columns]"
            ]
          },
          "metadata": {
            "tags": []
          },
          "execution_count": 11
        }
      ]
    },
    {
      "cell_type": "code",
      "metadata": {
        "id": "B7tMupBkbAx2",
        "colab_type": "code",
        "outputId": "a2c84415-080b-47fe-db45-841a77ef4afb",
        "colab": {
          "base_uri": "https://localhost:8080/",
          "height": 35
        }
      },
      "source": [
        "train_data.shape\n"
      ],
      "execution_count": 12,
      "outputs": [
        {
          "output_type": "execute_result",
          "data": {
            "text/plain": [
              "(21201, 29)"
            ]
          },
          "metadata": {
            "tags": []
          },
          "execution_count": 12
        }
      ]
    },
    {
      "cell_type": "code",
      "metadata": {
        "id": "_yFcj67SbAyF",
        "colab_type": "code",
        "outputId": "e6d5fbf6-397e-4ca3-ab90-a7f8b993c54a",
        "colab": {
          "base_uri": "https://localhost:8080/",
          "height": 363
        }
      },
      "source": [
        "numerical_feature_columns = list(train_data._get_numeric_data().columns)\n",
        "numerical_feature_columns\n"
      ],
      "execution_count": 13,
      "outputs": [
        {
          "output_type": "execute_result",
          "data": {
            "text/plain": [
              "['Platform Type',\n",
              " 'Placement - Day of Month',\n",
              " 'Placement - Weekday (Mo = 1)',\n",
              " 'Confirmation - Day of Month',\n",
              " 'Confirmation - Weekday (Mo = 1)',\n",
              " 'Arrival at Pickup - Day of Month',\n",
              " 'Arrival at Pickup - Weekday (Mo = 1)',\n",
              " 'Pickup - Day of Month',\n",
              " 'Pickup - Weekday (Mo = 1)',\n",
              " 'Arrival at Destination - Day of Month',\n",
              " 'Arrival at Destination - Weekday (Mo = 1)',\n",
              " 'Distance (KM)',\n",
              " 'Temperature',\n",
              " 'Precipitation in millimeters',\n",
              " 'Pickup Lat',\n",
              " 'Pickup Long',\n",
              " 'Destination Lat',\n",
              " 'Destination Long',\n",
              " 'Time from Pickup to Arrival']"
            ]
          },
          "metadata": {
            "tags": []
          },
          "execution_count": 13
        }
      ]
    },
    {
      "cell_type": "code",
      "metadata": {
        "id": "CQiB6WKZbAyV",
        "colab_type": "code",
        "outputId": "38c10c92-d19b-4767-87a8-1fc6ad1d0c71",
        "colab": {
          "base_uri": "https://localhost:8080/",
          "height": 199
        }
      },
      "source": [
        "categorical_feature_columns = list(set(train_data.columns) -\n",
        "                                   set(train_data._get_numeric_data().columns))\n",
        "categorical_feature_columns\n"
      ],
      "execution_count": 14,
      "outputs": [
        {
          "output_type": "execute_result",
          "data": {
            "text/plain": [
              "['Pickup - Time',\n",
              " 'Confirmation - Time',\n",
              " 'User Id',\n",
              " 'Placement - Time',\n",
              " 'Arrival at Destination - Time',\n",
              " 'Personal or Business',\n",
              " 'Order No',\n",
              " 'Rider Id',\n",
              " 'Vehicle Type',\n",
              " 'Arrival at Pickup - Time']"
            ]
          },
          "metadata": {
            "tags": []
          },
          "execution_count": 14
        }
      ]
    },
    {
      "cell_type": "markdown",
      "metadata": {
        "id": "xWQ8DUeRbAyj",
        "colab_type": "raw"
      },
      "source": [
        "A histogram represents the distribution of data by forming bins along the range of the data and then drawing bars to show the number of observations that fall in each bin.\n",
        "Which shows a negative skewness, telling us that the mean and median of our data are less than the mode\n",
        "\n",
        "The bin can be of any size"
      ]
    },
    {
      "cell_type": "code",
      "metadata": {
        "id": "VZ-BI-bYbAyl",
        "colab_type": "code",
        "outputId": "83a33a23-ba43-47d9-8447-8e1ea635858e",
        "colab": {
          "base_uri": "https://localhost:8080/",
          "height": 283
        }
      },
      "source": [
        "x = np.random.normal(size=100)\n",
        "sns.distplot(x, kde=False)\n"
      ],
      "execution_count": 15,
      "outputs": [
        {
          "output_type": "execute_result",
          "data": {
            "text/plain": [
              "<matplotlib.axes._subplots.AxesSubplot at 0x7f15c5bd5b38>"
            ]
          },
          "metadata": {
            "tags": []
          },
          "execution_count": 15
        },
        {
          "output_type": "display_data",
          "data": {
            "image/png": "[encoded data removed]",
            "text/plain": [
              "<Figure size 432x288 with 1 Axes>"
            ]
          },
          "metadata": {
            "tags": [],
            "needs_background": "light"
          }
        }
      ]
    },
    {
      "cell_type": "code",
      "metadata": {
        "id": "3i5vWZ3cbAzD",
        "colab_type": "code",
        "outputId": "7d839a84-708a-481c-b092-b874a6f1d6d2",
        "colab": {
          "base_uri": "https://localhost:8080/",
          "height": 314
        }
      },
      "source": [
        "# Personal or Business – Customer type available at Sendy logistics\n",
        "y_count = train_data['Personal or Business'].value_counts(sort=True)\n",
        "y_count.plot(kind='bar')\n",
        "plt.xlabel(\"class\")\n",
        "plt.ylabel(\"frequency\")\n",
        "plt.show()\n"
      ],
      "execution_count": 17,
      "outputs": [
        {
          "output_type": "display_data",
          "data": {
            "image/png": "[encoded data removed]",
            "text/plain": [
              "<Figure size 432x288 with 1 Axes>"
            ]
          },
          "metadata": {
            "tags": [],
            "needs_background": "light"
          }
        }
      ]
    },
    {
      "cell_type": "markdown",
      "metadata": {
        "id": "qv0TIaRmbAz3",
        "colab_type": "raw"
      },
      "source": [
        "\"Personal\": 1, \"Business\": 2\n",
        "\n",
        "Sendy logistics business is mostly used for Business purposes."
      ]
    },
    {
      "cell_type": "code",
      "metadata": {
        "id": "aSbMrzpdbA0B",
        "colab_type": "code",
        "outputId": "50cccf3d-d6df-4394-f0fd-d76da632ef76",
        "colab": {
          "base_uri": "https://localhost:8080/",
          "height": 35
        }
      },
      "source": [
        "# Getting the number of Orders in Sendy logistics\n",
        "train_data['Order No'].nunique()\n"
      ],
      "execution_count": 18,
      "outputs": [
        {
          "output_type": "execute_result",
          "data": {
            "text/plain": [
              "21201"
            ]
          },
          "metadata": {
            "tags": []
          },
          "execution_count": 18
        }
      ]
    },
    {
      "cell_type": "code",
      "metadata": {
        "id": "3r_KJ6XHbA0J",
        "colab_type": "code",
        "outputId": "7c76cfb0-f834-4bf2-b1d0-185eb70793a9",
        "colab": {
          "base_uri": "https://localhost:8080/",
          "height": 35
        }
      },
      "source": [
        "# Getting the number of Users for Sendy logistics\n",
        "train_data['User Id'].nunique()\n"
      ],
      "execution_count": 19,
      "outputs": [
        {
          "output_type": "execute_result",
          "data": {
            "text/plain": [
              "3186"
            ]
          },
          "metadata": {
            "tags": []
          },
          "execution_count": 19
        }
      ]
    },
    {
      "cell_type": "code",
      "metadata": {
        "id": "n64yO3LgbA0R",
        "colab_type": "code",
        "outputId": "d4697cf3-8a50-4d70-f669-60402e569f3b",
        "colab": {
          "base_uri": "https://localhost:8080/",
          "height": 35
        }
      },
      "source": [
        "# Getting the number of Riders \n",
        "train_data['Rider Id'].nunique()\n"
      ],
      "execution_count": 20,
      "outputs": [
        {
          "output_type": "execute_result",
          "data": {
            "text/plain": [
              "924"
            ]
          },
          "metadata": {
            "tags": []
          },
          "execution_count": 20
        }
      ]
    },
    {
      "cell_type": "markdown",
      "metadata": {
        "id": "LUvNYrVbbA0W",
        "colab_type": "raw"
      },
      "source": [
        "From this we can atleast assume that the number of Riders who accept the orders for Sendy Logistics is one of the factors that affect the production.\n",
        "They have higher number of orders and higher number of customers but looking at the Riders doesnt match"
      ]
    },
    {
      "cell_type": "code",
      "metadata": {
        "id": "aOnvdQoubA0X",
        "colab_type": "code",
        "outputId": "4f47ceb9-24f6-40d6-c893-8ac71650124c",
        "colab": {
          "base_uri": "https://localhost:8080/",
          "height": 283
        }
      },
      "source": [
        "# Showing distribution of Temperature\n",
        "train_data['Temperature'].hist(bins=30)\n",
        "\n"
      ],
      "execution_count": 21,
      "outputs": [
        {
          "output_type": "execute_result",
          "data": {
            "text/plain": [
              "<matplotlib.axes._subplots.AxesSubplot at 0x7f15c5620198>"
            ]
          },
          "metadata": {
            "tags": []
          },
          "execution_count": 21
        },
        {
          "output_type": "display_data",
          "data": {
            "image/png": "[encoded data removed]",
            "text/plain": [
              "<Figure size 432x288 with 1 Axes>"
            ]
          },
          "metadata": {
            "tags": [],
            "needs_background": "light"
          }
        }
      ]
    },
    {
      "cell_type": "markdown",
      "metadata": {
        "id": "QFqP7RF-bA0d",
        "colab_type": "raw"
      },
      "source": [
        "We can conclude that it varies between 12 and 32 but mostly it around 20 and 27 degrees celsius"
      ]
    },
    {
      "cell_type": "code",
      "metadata": {
        "id": "iIDpO7RwbA0w",
        "colab_type": "code",
        "outputId": "af1f6622-1a9b-4b9f-e8fc-1593ac9f2eb3",
        "colab": {
          "base_uri": "https://localhost:8080/",
          "height": 276
        }
      },
      "source": [
        "# Platform Type – Platform used to place the order, there are 4 types\n",
        "y_count = train_data['Platform Type'].value_counts(sort=True)\n",
        "y_count.plot(kind='bar')\n",
        "plt.xlabel(\"platform type\")\n",
        "plt.ylabel(\"frequency\")\n",
        "plt.show()\n"
      ],
      "execution_count": 23,
      "outputs": [
        {
          "output_type": "display_data",
          "data": {
            "image/png": "[encoded data removed]",
            "text/plain": [
              "<Figure size 432x288 with 1 Axes>"
            ]
          },
          "metadata": {
            "tags": [],
            "needs_background": "light"
          }
        }
      ]
    },
    {
      "cell_type": "markdown",
      "metadata": {
        "id": "ZszrbWN6bA01",
        "colab_type": "raw"
      },
      "source": [
        "Platform used to place the order, there are 4 types, but our analysis shows that the 4th one is not present and the mostly used platform is platform number 3"
      ]
    },
    {
      "cell_type": "code",
      "metadata": {
        "id": "J0iNfyGBbA1C",
        "colab_type": "code",
        "outputId": "268120cd-9829-401d-ba11-e168af38112c",
        "colab": {
          "base_uri": "https://localhost:8080/",
          "height": 297
        }
      },
      "source": [
        "# Counting Vehicle type used by the logistics company\n",
        "sns.countplot('Vehicle Type', data=train_data)\n"
      ],
      "execution_count": 25,
      "outputs": [
        {
          "output_type": "execute_result",
          "data": {
            "text/plain": [
              "<matplotlib.axes._subplots.AxesSubplot at 0x7f15c54c4c50>"
            ]
          },
          "metadata": {
            "tags": []
          },
          "execution_count": 25
        },
        {
          "output_type": "display_data",
          "data": {
            "image/png": "[encoded data removed]",
            "text/plain": [
              "<Figure size 432x288 with 1 Axes>"
            ]
          },
          "metadata": {
            "tags": [],
            "needs_background": "light"
          }
        }
      ]
    },
    {
      "cell_type": "markdown",
      "metadata": {
        "id": "0aQKmhImbA1Q",
        "colab_type": "raw"
      },
      "source": [
        "We will plot some important feature against our target."
      ]
    },
    {
      "cell_type": "code",
      "metadata": {
        "id": "Uldb-Ta1bA1R",
        "colab_type": "code",
        "outputId": "c6f5520f-d4fc-4b27-c603-324e83da6c20",
        "colab": {
          "base_uri": "https://localhost:8080/",
          "height": 387
        }
      },
      "source": [
        "sns.lmplot('Distance (KM)', 'Time from Pickup to Arrival',\n",
        "           data=train_data, fit_reg=True)\n"
      ],
      "execution_count": 26,
      "outputs": [
        {
          "output_type": "execute_result",
          "data": {
            "text/plain": [
              "<seaborn.axisgrid.FacetGrid at 0x7f15c54904a8>"
            ]
          },
          "metadata": {
            "tags": []
          },
          "execution_count": 26
        },
        {
          "output_type": "display_data",
          "data": {
            "image/png": "[encoded data removed]",
            "text/plain": [
              "<Figure size 360x360 with 1 Axes>"
            ]
          },
          "metadata": {
            "tags": [],
            "needs_background": "light"
          }
        }
      ]
    },
    {
      "cell_type": "code",
      "metadata": {
        "id": "zbIbtSNNbA1X",
        "colab_type": "code",
        "outputId": "daf3da62-91ed-4364-f1f4-303422ab5bbe",
        "colab": {
          "base_uri": "https://localhost:8080/",
          "height": 677
        }
      },
      "source": [
        "plt.figure(figsize=(12, 8))\n",
        "sns.heatmap(train_data.corr(), cmap='viridis')\n"
      ],
      "execution_count": 27,
      "outputs": [
        {
          "output_type": "execute_result",
          "data": {
            "text/plain": [
              "<matplotlib.axes._subplots.AxesSubplot at 0x7f15c55f9a90>"
            ]
          },
          "metadata": {
            "tags": []
          },
          "execution_count": 27
        },
        {
          "output_type": "display_data",
          "data": {
            "image/png": "[encoded data removed]",
            "text/plain": [
              "<Figure size 864x576 with 2 Axes>"
            ]
          },
          "metadata": {
            "tags": [],
            "needs_background": "light"
          }
        }
      ]
    },
    {
      "cell_type": "code",
      "metadata": {
        "id": "qJD3ARxsbA1c",
        "colab_type": "code",
        "colab": {}
      },
      "source": [
        ""
      ],
      "execution_count": 0,
      "outputs": []
    },
    {
      "cell_type": "markdown",
      "metadata": {
        "id": "tSpxRvwlbA1q",
        "colab_type": "text"
      },
      "source": [
        "## Linear Regression"
      ]
    },
    {
      "cell_type": "code",
      "metadata": {
        "id": "zeGlveKKbA1r",
        "colab_type": "code",
        "colab": {}
      },
      "source": [
        "import sklearn as skl\n",
        "from sklearn.linear_model import LinearRegression\n",
        "from sklearn.model_selection import train_test_split"
      ],
      "execution_count": 0,
      "outputs": []
    },
    {
      "cell_type": "code",
      "metadata": {
        "id": "eUJP2hUrbA11",
        "colab_type": "code",
        "colab": {}
      },
      "source": [
        "#since the model could not convert string to float: '11:49:17 AM' we have to work with simple time\n",
        "\n",
        "def convert_time(column):\n",
        "    train_data[column] = pd.to_datetime(train_data[column])\n",
        "    return (train_data[column] - pd.to_datetime(pd.to_datetime('today').date())).astype('timedelta64[s]')\n"
      ],
      "execution_count": 0,
      "outputs": []
    },
    {
      "cell_type": "code",
      "metadata": {
        "id": "FFZ6nC7qbA16",
        "colab_type": "code",
        "colab": {}
      },
      "source": [
        "train_data['Placement - Time'] = convert_time('Placement - Time')\n",
        "train_data['Confirmation - Time'] = convert_time('Confirmation - Time')\n",
        "train_data['Pickup - Time'] = convert_time('Pickup - Time')\n",
        "train_data['Arrival at Pickup - Time'] = convert_time('Arrival at Pickup - Time')\n",
        "train_data['Arrival at Destination - Time'] = convert_time('Arrival at Destination - Time')\n"
      ],
      "execution_count": 0,
      "outputs": []
    },
    {
      "cell_type": "code",
      "metadata": {
        "id": "23ROMP83bA2B",
        "colab_type": "code",
        "colab": {}
      },
      "source": [
        "train_data['Temperature'] = train_data['Temperature'].fillna((train_data['Temperature'].mean()))\n"
      ],
      "execution_count": 0,
      "outputs": []
    },
    {
      "cell_type": "code",
      "metadata": {
        "id": "mr5jLMwBbA2M",
        "colab_type": "code",
        "outputId": "646085cc-62b8-446a-90f3-2e526e61cc22",
        "colab": {
          "base_uri": "https://localhost:8080/",
          "height": 322
        }
      },
      "source": [
        "#Dropping unnecessary variables\n",
        "\n",
        "train_data.drop(['Order No', 'User Id','Rider Id','Precipitation in millimeters'], axis=1, inplace=True)\n",
        "train_data.head()\n"
      ],
      "execution_count": 33,
      "outputs": [
        {
          "output_type": "execute_result",
          "data": {
            "text/html": [
              "<div>\n",
              "<style scoped>\n",
              "    .dataframe tbody tr th:only-of-type {\n",
              "        vertical-align: middle;\n",
              "    }\n",
              "\n",
              "    .dataframe tbody tr th {\n",
              "        vertical-align: top;\n",
              "    }\n",
              "\n",
              "    .dataframe thead th {\n",
              "        text-align: right;\n",
              "    }\n",
              "</style>\n",
              "<table border=\"1\" class=\"dataframe\">\n",
              "  <thead>\n",
              "    <tr style=\"text-align: right;\">\n",
              "      <th></th>\n",
              "      <th>Vehicle Type</th>\n",
              "      <th>Platform Type</th>\n",
              "      <th>Personal or Business</th>\n",
              "      <th>Placement - Day of Month</th>\n",
              "      <th>Placement - Weekday (Mo = 1)</th>\n",
              "      <th>Placement - Time</th>\n",
              "      <th>Confirmation - Day of Month</th>\n",
              "      <th>Confirmation - Weekday (Mo = 1)</th>\n",
              "      <th>Confirmation - Time</th>\n",
              "      <th>Arrival at Pickup - Day of Month</th>\n",
              "      <th>Arrival at Pickup - Weekday (Mo = 1)</th>\n",
              "      <th>Arrival at Pickup - Time</th>\n",
              "      <th>Pickup - Day of Month</th>\n",
              "      <th>Pickup - Weekday (Mo = 1)</th>\n",
              "      <th>Pickup - Time</th>\n",
              "      <th>Arrival at Destination - Day of Month</th>\n",
              "      <th>Arrival at Destination - Weekday (Mo = 1)</th>\n",
              "      <th>Arrival at Destination - Time</th>\n",
              "      <th>Distance (KM)</th>\n",
              "      <th>Temperature</th>\n",
              "      <th>Pickup Lat</th>\n",
              "      <th>Pickup Long</th>\n",
              "      <th>Destination Lat</th>\n",
              "      <th>Destination Long</th>\n",
              "      <th>Time from Pickup to Arrival</th>\n",
              "    </tr>\n",
              "  </thead>\n",
              "  <tbody>\n",
              "    <tr>\n",
              "      <th>0</th>\n",
              "      <td>Bike</td>\n",
              "      <td>3</td>\n",
              "      <td>Business</td>\n",
              "      <td>9</td>\n",
              "      <td>5</td>\n",
              "      <td>34546.0</td>\n",
              "      <td>9</td>\n",
              "      <td>5</td>\n",
              "      <td>34810.0</td>\n",
              "      <td>9</td>\n",
              "      <td>5</td>\n",
              "      <td>36287.0</td>\n",
              "      <td>9</td>\n",
              "      <td>5</td>\n",
              "      <td>37650.0</td>\n",
              "      <td>9</td>\n",
              "      <td>5</td>\n",
              "      <td>38395.0</td>\n",
              "      <td>4</td>\n",
              "      <td>20.400000</td>\n",
              "      <td>-1.317755</td>\n",
              "      <td>36.830370</td>\n",
              "      <td>-1.300406</td>\n",
              "      <td>36.829741</td>\n",
              "      <td>745</td>\n",
              "    </tr>\n",
              "    <tr>\n",
              "      <th>1</th>\n",
              "      <td>Bike</td>\n",
              "      <td>3</td>\n",
              "      <td>Personal</td>\n",
              "      <td>12</td>\n",
              "      <td>5</td>\n",
              "      <td>40576.0</td>\n",
              "      <td>12</td>\n",
              "      <td>5</td>\n",
              "      <td>41001.0</td>\n",
              "      <td>12</td>\n",
              "      <td>5</td>\n",
              "      <td>42022.0</td>\n",
              "      <td>12</td>\n",
              "      <td>5</td>\n",
              "      <td>42249.0</td>\n",
              "      <td>12</td>\n",
              "      <td>5</td>\n",
              "      <td>44242.0</td>\n",
              "      <td>16</td>\n",
              "      <td>26.400000</td>\n",
              "      <td>-1.351453</td>\n",
              "      <td>36.899315</td>\n",
              "      <td>-1.295004</td>\n",
              "      <td>36.814358</td>\n",
              "      <td>1993</td>\n",
              "    </tr>\n",
              "    <tr>\n",
              "      <th>2</th>\n",
              "      <td>Bike</td>\n",
              "      <td>3</td>\n",
              "      <td>Business</td>\n",
              "      <td>30</td>\n",
              "      <td>2</td>\n",
              "      <td>45565.0</td>\n",
              "      <td>30</td>\n",
              "      <td>2</td>\n",
              "      <td>45764.0</td>\n",
              "      <td>30</td>\n",
              "      <td>2</td>\n",
              "      <td>46174.0</td>\n",
              "      <td>30</td>\n",
              "      <td>2</td>\n",
              "      <td>46383.0</td>\n",
              "      <td>30</td>\n",
              "      <td>2</td>\n",
              "      <td>46838.0</td>\n",
              "      <td>3</td>\n",
              "      <td>23.258889</td>\n",
              "      <td>-1.308284</td>\n",
              "      <td>36.843419</td>\n",
              "      <td>-1.300921</td>\n",
              "      <td>36.828195</td>\n",
              "      <td>455</td>\n",
              "    </tr>\n",
              "    <tr>\n",
              "      <th>3</th>\n",
              "      <td>Bike</td>\n",
              "      <td>3</td>\n",
              "      <td>Business</td>\n",
              "      <td>15</td>\n",
              "      <td>5</td>\n",
              "      <td>33934.0</td>\n",
              "      <td>15</td>\n",
              "      <td>5</td>\n",
              "      <td>33965.0</td>\n",
              "      <td>15</td>\n",
              "      <td>5</td>\n",
              "      <td>34676.0</td>\n",
              "      <td>15</td>\n",
              "      <td>5</td>\n",
              "      <td>34986.0</td>\n",
              "      <td>15</td>\n",
              "      <td>5</td>\n",
              "      <td>36327.0</td>\n",
              "      <td>9</td>\n",
              "      <td>19.200000</td>\n",
              "      <td>-1.281301</td>\n",
              "      <td>36.832396</td>\n",
              "      <td>-1.257147</td>\n",
              "      <td>36.795063</td>\n",
              "      <td>1341</td>\n",
              "    </tr>\n",
              "    <tr>\n",
              "      <th>4</th>\n",
              "      <td>Bike</td>\n",
              "      <td>1</td>\n",
              "      <td>Personal</td>\n",
              "      <td>13</td>\n",
              "      <td>1</td>\n",
              "      <td>35718.0</td>\n",
              "      <td>13</td>\n",
              "      <td>1</td>\n",
              "      <td>35778.0</td>\n",
              "      <td>13</td>\n",
              "      <td>1</td>\n",
              "      <td>36233.0</td>\n",
              "      <td>13</td>\n",
              "      <td>1</td>\n",
              "      <td>36323.0</td>\n",
              "      <td>13</td>\n",
              "      <td>1</td>\n",
              "      <td>37537.0</td>\n",
              "      <td>9</td>\n",
              "      <td>15.400000</td>\n",
              "      <td>-1.266597</td>\n",
              "      <td>36.792118</td>\n",
              "      <td>-1.295041</td>\n",
              "      <td>36.809817</td>\n",
              "      <td>1214</td>\n",
              "    </tr>\n",
              "  </tbody>\n",
              "</table>\n",
              "</div>"
            ],
            "text/plain": [
              "  Vehicle Type  Platform Type  ... Destination Long  Time from Pickup to Arrival\n",
              "0         Bike              3  ...        36.829741                          745\n",
              "1         Bike              3  ...        36.814358                         1993\n",
              "2         Bike              3  ...        36.828195                          455\n",
              "3         Bike              3  ...        36.795063                         1341\n",
              "4         Bike              1  ...        36.809817                         1214\n",
              "\n",
              "[5 rows x 25 columns]"
            ]
          },
          "metadata": {
            "tags": []
          },
          "execution_count": 33
        }
      ]
    },
    {
      "cell_type": "code",
      "metadata": {
        "id": "BdR7P1XLbA2U",
        "colab_type": "code",
        "colab": {}
      },
      "source": [
        "#Inserting numerical variable instead of text for model to pick up numerical values\n",
        "\n",
        "transport = {\"Vehicle Type\":     {\"Bike\": 1, \"Other\": 2},\n",
        "                \"Personal or Business\": {\"Personal\": 1, \"Business\": 2,}}\n",
        "                ###take out space\n",
        "                "
      ],
      "execution_count": 0,
      "outputs": []
    },
    {
      "cell_type": "code",
      "metadata": {
        "id": "nyaplNdubA2d",
        "colab_type": "code",
        "outputId": "4970c077-2df9-43c9-eaf9-521387cfc602",
        "colab": {
          "base_uri": "https://localhost:8080/",
          "height": 322
        }
      },
      "source": [
        "train_data.replace(transport, inplace=True)\n",
        "train_data.head()\n"
      ],
      "execution_count": 35,
      "outputs": [
        {
          "output_type": "execute_result",
          "data": {
            "text/html": [
              "<div>\n",
              "<style scoped>\n",
              "    .dataframe tbody tr th:only-of-type {\n",
              "        vertical-align: middle;\n",
              "    }\n",
              "\n",
              "    .dataframe tbody tr th {\n",
              "        vertical-align: top;\n",
              "    }\n",
              "\n",
              "    .dataframe thead th {\n",
              "        text-align: right;\n",
              "    }\n",
              "</style>\n",
              "<table border=\"1\" class=\"dataframe\">\n",
              "  <thead>\n",
              "    <tr style=\"text-align: right;\">\n",
              "      <th></th>\n",
              "      <th>Vehicle Type</th>\n",
              "      <th>Platform Type</th>\n",
              "      <th>Personal or Business</th>\n",
              "      <th>Placement - Day of Month</th>\n",
              "      <th>Placement - Weekday (Mo = 1)</th>\n",
              "      <th>Placement - Time</th>\n",
              "      <th>Confirmation - Day of Month</th>\n",
              "      <th>Confirmation - Weekday (Mo = 1)</th>\n",
              "      <th>Confirmation - Time</th>\n",
              "      <th>Arrival at Pickup - Day of Month</th>\n",
              "      <th>Arrival at Pickup - Weekday (Mo = 1)</th>\n",
              "      <th>Arrival at Pickup - Time</th>\n",
              "      <th>Pickup - Day of Month</th>\n",
              "      <th>Pickup - Weekday (Mo = 1)</th>\n",
              "      <th>Pickup - Time</th>\n",
              "      <th>Arrival at Destination - Day of Month</th>\n",
              "      <th>Arrival at Destination - Weekday (Mo = 1)</th>\n",
              "      <th>Arrival at Destination - Time</th>\n",
              "      <th>Distance (KM)</th>\n",
              "      <th>Temperature</th>\n",
              "      <th>Pickup Lat</th>\n",
              "      <th>Pickup Long</th>\n",
              "      <th>Destination Lat</th>\n",
              "      <th>Destination Long</th>\n",
              "      <th>Time from Pickup to Arrival</th>\n",
              "    </tr>\n",
              "  </thead>\n",
              "  <tbody>\n",
              "    <tr>\n",
              "      <th>0</th>\n",
              "      <td>1</td>\n",
              "      <td>3</td>\n",
              "      <td>2</td>\n",
              "      <td>9</td>\n",
              "      <td>5</td>\n",
              "      <td>34546.0</td>\n",
              "      <td>9</td>\n",
              "      <td>5</td>\n",
              "      <td>34810.0</td>\n",
              "      <td>9</td>\n",
              "      <td>5</td>\n",
              "      <td>36287.0</td>\n",
              "      <td>9</td>\n",
              "      <td>5</td>\n",
              "      <td>37650.0</td>\n",
              "      <td>9</td>\n",
              "      <td>5</td>\n",
              "      <td>38395.0</td>\n",
              "      <td>4</td>\n",
              "      <td>20.400000</td>\n",
              "      <td>-1.317755</td>\n",
              "      <td>36.830370</td>\n",
              "      <td>-1.300406</td>\n",
              "      <td>36.829741</td>\n",
              "      <td>745</td>\n",
              "    </tr>\n",
              "    <tr>\n",
              "      <th>1</th>\n",
              "      <td>1</td>\n",
              "      <td>3</td>\n",
              "      <td>1</td>\n",
              "      <td>12</td>\n",
              "      <td>5</td>\n",
              "      <td>40576.0</td>\n",
              "      <td>12</td>\n",
              "      <td>5</td>\n",
              "      <td>41001.0</td>\n",
              "      <td>12</td>\n",
              "      <td>5</td>\n",
              "      <td>42022.0</td>\n",
              "      <td>12</td>\n",
              "      <td>5</td>\n",
              "      <td>42249.0</td>\n",
              "      <td>12</td>\n",
              "      <td>5</td>\n",
              "      <td>44242.0</td>\n",
              "      <td>16</td>\n",
              "      <td>26.400000</td>\n",
              "      <td>-1.351453</td>\n",
              "      <td>36.899315</td>\n",
              "      <td>-1.295004</td>\n",
              "      <td>36.814358</td>\n",
              "      <td>1993</td>\n",
              "    </tr>\n",
              "    <tr>\n",
              "      <th>2</th>\n",
              "      <td>1</td>\n",
              "      <td>3</td>\n",
              "      <td>2</td>\n",
              "      <td>30</td>\n",
              "      <td>2</td>\n",
              "      <td>45565.0</td>\n",
              "      <td>30</td>\n",
              "      <td>2</td>\n",
              "      <td>45764.0</td>\n",
              "      <td>30</td>\n",
              "      <td>2</td>\n",
              "      <td>46174.0</td>\n",
              "      <td>30</td>\n",
              "      <td>2</td>\n",
              "      <td>46383.0</td>\n",
              "      <td>30</td>\n",
              "      <td>2</td>\n",
              "      <td>46838.0</td>\n",
              "      <td>3</td>\n",
              "      <td>23.258889</td>\n",
              "      <td>-1.308284</td>\n",
              "      <td>36.843419</td>\n",
              "      <td>-1.300921</td>\n",
              "      <td>36.828195</td>\n",
              "      <td>455</td>\n",
              "    </tr>\n",
              "    <tr>\n",
              "      <th>3</th>\n",
              "      <td>1</td>\n",
              "      <td>3</td>\n",
              "      <td>2</td>\n",
              "      <td>15</td>\n",
              "      <td>5</td>\n",
              "      <td>33934.0</td>\n",
              "      <td>15</td>\n",
              "      <td>5</td>\n",
              "      <td>33965.0</td>\n",
              "      <td>15</td>\n",
              "      <td>5</td>\n",
              "      <td>34676.0</td>\n",
              "      <td>15</td>\n",
              "      <td>5</td>\n",
              "      <td>34986.0</td>\n",
              "      <td>15</td>\n",
              "      <td>5</td>\n",
              "      <td>36327.0</td>\n",
              "      <td>9</td>\n",
              "      <td>19.200000</td>\n",
              "      <td>-1.281301</td>\n",
              "      <td>36.832396</td>\n",
              "      <td>-1.257147</td>\n",
              "      <td>36.795063</td>\n",
              "      <td>1341</td>\n",
              "    </tr>\n",
              "    <tr>\n",
              "      <th>4</th>\n",
              "      <td>1</td>\n",
              "      <td>1</td>\n",
              "      <td>1</td>\n",
              "      <td>13</td>\n",
              "      <td>1</td>\n",
              "      <td>35718.0</td>\n",
              "      <td>13</td>\n",
              "      <td>1</td>\n",
              "      <td>35778.0</td>\n",
              "      <td>13</td>\n",
              "      <td>1</td>\n",
              "      <td>36233.0</td>\n",
              "      <td>13</td>\n",
              "      <td>1</td>\n",
              "      <td>36323.0</td>\n",
              "      <td>13</td>\n",
              "      <td>1</td>\n",
              "      <td>37537.0</td>\n",
              "      <td>9</td>\n",
              "      <td>15.400000</td>\n",
              "      <td>-1.266597</td>\n",
              "      <td>36.792118</td>\n",
              "      <td>-1.295041</td>\n",
              "      <td>36.809817</td>\n",
              "      <td>1214</td>\n",
              "    </tr>\n",
              "  </tbody>\n",
              "</table>\n",
              "</div>"
            ],
            "text/plain": [
              "   Vehicle Type  Platform Type  ...  Destination Long  Time from Pickup to Arrival\n",
              "0             1              3  ...         36.829741                          745\n",
              "1             1              3  ...         36.814358                         1993\n",
              "2             1              3  ...         36.828195                          455\n",
              "3             1              3  ...         36.795063                         1341\n",
              "4             1              1  ...         36.809817                         1214\n",
              "\n",
              "[5 rows x 25 columns]"
            ]
          },
          "metadata": {
            "tags": []
          },
          "execution_count": 35
        }
      ]
    },
    {
      "cell_type": "code",
      "metadata": {
        "id": "BvnpcvJObA2m",
        "colab_type": "code",
        "outputId": "291df282-cf3f-4a05-d0ee-4a5cf664ee8b",
        "colab": {
          "base_uri": "https://localhost:8080/",
          "height": 217
        }
      },
      "source": [
        "X = train_data.drop(['Time from Pickup to Arrival'], axis=1)\n",
        "Y = train_data['Time from Pickup to Arrival']\n",
        "\n",
        "#splitting data into training and testing\n",
        "\n",
        "X_train, X_test, Y_train, Y_test = train_test_split(X,Y,test_size=0.35, random_state=5)\n",
        "print(\"**********  features shape  **********\\n\")\n",
        "print(X_train.shape)\n",
        "print(X_test.shape)\n",
        "print(\"****************************************\")\n",
        "print(\"\\n**********  labels shape  **********\\n\")\n",
        "print(Y_train.shape)\n",
        "print(Y_test.shape)\n",
        "print(\"****************************************\")\n"
      ],
      "execution_count": 36,
      "outputs": [
        {
          "output_type": "stream",
          "text": [
            "**********  features shape  **********\n",
            "\n",
            "(13780, 24)\n",
            "(7421, 24)\n",
            "****************************************\n",
            "\n",
            "**********  labels shape  **********\n",
            "\n",
            "(13780,)\n",
            "(7421,)\n",
            "****************************************\n"
          ],
          "name": "stdout"
        }
      ]
    },
    {
      "cell_type": "code",
      "metadata": {
        "id": "4HDKIt3ZbA2u",
        "colab_type": "code",
        "outputId": "f30cda65-a86d-45cc-907c-85a4e48504ed",
        "colab": {
          "base_uri": "https://localhost:8080/",
          "height": 235
        }
      },
      "source": [
        "#Dependent variable continuous\n",
        "\n",
        "Y_train\n"
      ],
      "execution_count": 38,
      "outputs": [
        {
          "output_type": "execute_result",
          "data": {
            "text/plain": [
              "8566     1893\n",
              "15543    4004\n",
              "10646     445\n",
              "4111     1531\n",
              "20923    3861\n",
              "         ... \n",
              "5520     1860\n",
              "3046     4130\n",
              "20463     500\n",
              "18638     677\n",
              "2915     2850\n",
              "Name: Time from Pickup to Arrival, Length: 13780, dtype: int64"
            ]
          },
          "metadata": {
            "tags": []
          },
          "execution_count": 38
        }
      ]
    },
    {
      "cell_type": "code",
      "metadata": {
        "id": "dsNrIbQ1bA29",
        "colab_type": "code",
        "colab": {}
      },
      "source": [
        "####First Feature column\n",
        "\n",
        "# create a Python list of feature names\n",
        "\n",
        "#feature_cols = ['Distance (KM)', 'Temperature']\n",
        "\n",
        "# use the list to select a subset of the original DataFrame\n",
        "#X = train_data[feature_cols]\n",
        "\n",
        "###########\n",
        "\n",
        "##Second feature column after realising that we didnt test for \n",
        "#the first time that how related they would be on y ('Time from Pickup to Arrival')\n",
        "\n",
        "# create a Python list of feature names\n",
        "feature_cols = ['Distance (KM)', 'Temperature', 'Confirmation - Day of Month']\n",
        "\n",
        "# use the list to select a subset of the original DataFrame\n",
        "X = train_data[feature_cols]\n",
        "\n",
        "# select a Series from the DataFrame\n",
        "y = train_data['Time from Pickup to Arrival']\n"
      ],
      "execution_count": 0,
      "outputs": []
    },
    {
      "cell_type": "code",
      "metadata": {
        "id": "mKVNVCK_bA3D",
        "colab_type": "code",
        "outputId": "5a4ff80e-a475-4460-a235-8bcd115768ff",
        "colab": {
          "base_uri": "https://localhost:8080/",
          "height": 567
        }
      },
      "source": [
        "sns.pairplot( X);\n"
      ],
      "execution_count": 41,
      "outputs": [
        {
          "output_type": "display_data",
          "data": {
            "image/png": "[encoded data removed]",
            "text/plain": [
              "<Figure size 540x540 with 12 Axes>"
            ]
          },
          "metadata": {
            "tags": [],
            "needs_background": "light"
          }
        }
      ]
    },
    {
      "cell_type": "markdown",
      "metadata": {
        "id": "f6VAC-dnbA3J",
        "colab_type": "raw"
      },
      "source": [
        "Distance is not normally distributed and the deliveries range can raech 40 KM while temparature is normally distributed ,also note that temparature range from around 15 to 33.\n",
        "Temperature and Distance (KM) have the impact on our y estimate"
      ]
    },
    {
      "cell_type": "code",
      "metadata": {
        "id": "48WnYX8ibA3K",
        "colab_type": "code",
        "colab": {}
      },
      "source": [
        "#Trying to get insight that after doing my 1st feature columns"
      ],
      "execution_count": 0,
      "outputs": []
    },
    {
      "cell_type": "code",
      "metadata": {
        "id": "Acq15aJAbA3T",
        "colab_type": "code",
        "outputId": "24384cda-4e35-4d48-b998-a2ef8901b9a9",
        "colab": {
          "base_uri": "https://localhost:8080/",
          "height": 1000
        }
      },
      "source": [
        "#low multicollinearity between the features\n",
        "\n",
        "X_train.corr()\n"
      ],
      "execution_count": 42,
      "outputs": [
        {
          "output_type": "execute_result",
          "data": {
            "text/html": [
              "<div>\n",
              "<style scoped>\n",
              "    .dataframe tbody tr th:only-of-type {\n",
              "        vertical-align: middle;\n",
              "    }\n",
              "\n",
              "    .dataframe tbody tr th {\n",
              "        vertical-align: top;\n",
              "    }\n",
              "\n",
              "    .dataframe thead th {\n",
              "        text-align: right;\n",
              "    }\n",
              "</style>\n",
              "<table border=\"1\" class=\"dataframe\">\n",
              "  <thead>\n",
              "    <tr style=\"text-align: right;\">\n",
              "      <th></th>\n",
              "      <th>Vehicle Type</th>\n",
              "      <th>Platform Type</th>\n",
              "      <th>Personal or Business</th>\n",
              "      <th>Placement - Day of Month</th>\n",
              "      <th>Placement - Weekday (Mo = 1)</th>\n",
              "      <th>Placement - Time</th>\n",
              "      <th>Confirmation - Day of Month</th>\n",
              "      <th>Confirmation - Weekday (Mo = 1)</th>\n",
              "      <th>Confirmation - Time</th>\n",
              "      <th>Arrival at Pickup - Day of Month</th>\n",
              "      <th>Arrival at Pickup - Weekday (Mo = 1)</th>\n",
              "      <th>Arrival at Pickup - Time</th>\n",
              "      <th>Pickup - Day of Month</th>\n",
              "      <th>Pickup - Weekday (Mo = 1)</th>\n",
              "      <th>Pickup - Time</th>\n",
              "      <th>Arrival at Destination - Day of Month</th>\n",
              "      <th>Arrival at Destination - Weekday (Mo = 1)</th>\n",
              "      <th>Arrival at Destination - Time</th>\n",
              "      <th>Distance (KM)</th>\n",
              "      <th>Temperature</th>\n",
              "      <th>Pickup Lat</th>\n",
              "      <th>Pickup Long</th>\n",
              "      <th>Destination Lat</th>\n",
              "      <th>Destination Long</th>\n",
              "    </tr>\n",
              "  </thead>\n",
              "  <tbody>\n",
              "    <tr>\n",
              "      <th>Vehicle Type</th>\n",
              "      <td>NaN</td>\n",
              "      <td>NaN</td>\n",
              "      <td>NaN</td>\n",
              "      <td>NaN</td>\n",
              "      <td>NaN</td>\n",
              "      <td>NaN</td>\n",
              "      <td>NaN</td>\n",
              "      <td>NaN</td>\n",
              "      <td>NaN</td>\n",
              "      <td>NaN</td>\n",
              "      <td>NaN</td>\n",
              "      <td>NaN</td>\n",
              "      <td>NaN</td>\n",
              "      <td>NaN</td>\n",
              "      <td>NaN</td>\n",
              "      <td>NaN</td>\n",
              "      <td>NaN</td>\n",
              "      <td>NaN</td>\n",
              "      <td>NaN</td>\n",
              "      <td>NaN</td>\n",
              "      <td>NaN</td>\n",
              "      <td>NaN</td>\n",
              "      <td>NaN</td>\n",
              "      <td>NaN</td>\n",
              "    </tr>\n",
              "    <tr>\n",
              "      <th>Platform Type</th>\n",
              "      <td>NaN</td>\n",
              "      <td>1.000000</td>\n",
              "      <td>0.714149</td>\n",
              "      <td>0.008269</td>\n",
              "      <td>-0.046397</td>\n",
              "      <td>-0.027013</td>\n",
              "      <td>0.008279</td>\n",
              "      <td>-0.046345</td>\n",
              "      <td>-0.023829</td>\n",
              "      <td>0.008279</td>\n",
              "      <td>-0.046345</td>\n",
              "      <td>-0.028651</td>\n",
              "      <td>0.008279</td>\n",
              "      <td>-0.046345</td>\n",
              "      <td>-0.024096</td>\n",
              "      <td>0.008279</td>\n",
              "      <td>-0.046345</td>\n",
              "      <td>-0.024096</td>\n",
              "      <td>0.009995</td>\n",
              "      <td>0.219916</td>\n",
              "      <td>-0.001783</td>\n",
              "      <td>0.016281</td>\n",
              "      <td>0.011808</td>\n",
              "      <td>0.054657</td>\n",
              "    </tr>\n",
              "    <tr>\n",
              "      <th>Personal or Business</th>\n",
              "      <td>NaN</td>\n",
              "      <td>0.714149</td>\n",
              "      <td>1.000000</td>\n",
              "      <td>0.001452</td>\n",
              "      <td>-0.042669</td>\n",
              "      <td>-0.033873</td>\n",
              "      <td>0.001463</td>\n",
              "      <td>-0.042608</td>\n",
              "      <td>-0.029421</td>\n",
              "      <td>0.001463</td>\n",
              "      <td>-0.042608</td>\n",
              "      <td>-0.035619</td>\n",
              "      <td>0.001463</td>\n",
              "      <td>-0.042608</td>\n",
              "      <td>-0.029437</td>\n",
              "      <td>0.001463</td>\n",
              "      <td>-0.042608</td>\n",
              "      <td>-0.029967</td>\n",
              "      <td>0.011579</td>\n",
              "      <td>0.207483</td>\n",
              "      <td>0.022654</td>\n",
              "      <td>0.030524</td>\n",
              "      <td>0.008450</td>\n",
              "      <td>0.066389</td>\n",
              "    </tr>\n",
              "    <tr>\n",
              "      <th>Placement - Day of Month</th>\n",
              "      <td>NaN</td>\n",
              "      <td>0.008269</td>\n",
              "      <td>0.001452</td>\n",
              "      <td>1.000000</td>\n",
              "      <td>0.028154</td>\n",
              "      <td>0.007981</td>\n",
              "      <td>0.999998</td>\n",
              "      <td>0.028112</td>\n",
              "      <td>0.008344</td>\n",
              "      <td>0.999998</td>\n",
              "      <td>0.028112</td>\n",
              "      <td>0.006931</td>\n",
              "      <td>0.999998</td>\n",
              "      <td>0.028112</td>\n",
              "      <td>0.006872</td>\n",
              "      <td>0.999998</td>\n",
              "      <td>0.028112</td>\n",
              "      <td>0.004404</td>\n",
              "      <td>-0.012488</td>\n",
              "      <td>0.011862</td>\n",
              "      <td>-0.008856</td>\n",
              "      <td>-0.007307</td>\n",
              "      <td>0.003986</td>\n",
              "      <td>-0.002785</td>\n",
              "    </tr>\n",
              "    <tr>\n",
              "      <th>Placement - Weekday (Mo = 1)</th>\n",
              "      <td>NaN</td>\n",
              "      <td>-0.046397</td>\n",
              "      <td>-0.042669</td>\n",
              "      <td>0.028154</td>\n",
              "      <td>1.000000</td>\n",
              "      <td>-0.005311</td>\n",
              "      <td>0.028129</td>\n",
              "      <td>0.999926</td>\n",
              "      <td>-0.004401</td>\n",
              "      <td>0.028129</td>\n",
              "      <td>0.999926</td>\n",
              "      <td>-0.002167</td>\n",
              "      <td>0.028129</td>\n",
              "      <td>0.999926</td>\n",
              "      <td>-0.001088</td>\n",
              "      <td>0.028129</td>\n",
              "      <td>0.999926</td>\n",
              "      <td>0.000128</td>\n",
              "      <td>-0.001978</td>\n",
              "      <td>0.031250</td>\n",
              "      <td>0.006446</td>\n",
              "      <td>0.005948</td>\n",
              "      <td>-0.009629</td>\n",
              "      <td>-0.003348</td>\n",
              "    </tr>\n",
              "    <tr>\n",
              "      <th>Placement - Time</th>\n",
              "      <td>NaN</td>\n",
              "      <td>-0.027013</td>\n",
              "      <td>-0.033873</td>\n",
              "      <td>0.007981</td>\n",
              "      <td>-0.005311</td>\n",
              "      <td>1.000000</td>\n",
              "      <td>0.007984</td>\n",
              "      <td>-0.005297</td>\n",
              "      <td>0.993450</td>\n",
              "      <td>0.007984</td>\n",
              "      <td>-0.005297</td>\n",
              "      <td>0.990078</td>\n",
              "      <td>0.007984</td>\n",
              "      <td>-0.005297</td>\n",
              "      <td>0.987005</td>\n",
              "      <td>0.007984</td>\n",
              "      <td>-0.005297</td>\n",
              "      <td>0.980212</td>\n",
              "      <td>-0.041032</td>\n",
              "      <td>0.359548</td>\n",
              "      <td>0.061890</td>\n",
              "      <td>-0.039170</td>\n",
              "      <td>0.013671</td>\n",
              "      <td>-0.009879</td>\n",
              "    </tr>\n",
              "    <tr>\n",
              "      <th>Confirmation - Day of Month</th>\n",
              "      <td>NaN</td>\n",
              "      <td>0.008279</td>\n",
              "      <td>0.001463</td>\n",
              "      <td>0.999998</td>\n",
              "      <td>0.028129</td>\n",
              "      <td>0.007984</td>\n",
              "      <td>1.000000</td>\n",
              "      <td>0.028114</td>\n",
              "      <td>0.008348</td>\n",
              "      <td>1.000000</td>\n",
              "      <td>0.028114</td>\n",
              "      <td>0.006937</td>\n",
              "      <td>1.000000</td>\n",
              "      <td>0.028114</td>\n",
              "      <td>0.006877</td>\n",
              "      <td>1.000000</td>\n",
              "      <td>0.028114</td>\n",
              "      <td>0.004411</td>\n",
              "      <td>-0.012490</td>\n",
              "      <td>0.011865</td>\n",
              "      <td>-0.008846</td>\n",
              "      <td>-0.007300</td>\n",
              "      <td>0.003999</td>\n",
              "      <td>-0.002792</td>\n",
              "    </tr>\n",
              "    <tr>\n",
              "      <th>Confirmation - Weekday (Mo = 1)</th>\n",
              "      <td>NaN</td>\n",
              "      <td>-0.046345</td>\n",
              "      <td>-0.042608</td>\n",
              "      <td>0.028112</td>\n",
              "      <td>0.999926</td>\n",
              "      <td>-0.005297</td>\n",
              "      <td>0.028114</td>\n",
              "      <td>1.000000</td>\n",
              "      <td>-0.004376</td>\n",
              "      <td>0.028114</td>\n",
              "      <td>1.000000</td>\n",
              "      <td>-0.002138</td>\n",
              "      <td>0.028114</td>\n",
              "      <td>1.000000</td>\n",
              "      <td>-0.001057</td>\n",
              "      <td>0.028114</td>\n",
              "      <td>1.000000</td>\n",
              "      <td>0.000167</td>\n",
              "      <td>-0.001991</td>\n",
              "      <td>0.031264</td>\n",
              "      <td>0.006501</td>\n",
              "      <td>0.005991</td>\n",
              "      <td>-0.009555</td>\n",
              "      <td>-0.003386</td>\n",
              "    </tr>\n",
              "    <tr>\n",
              "      <th>Confirmation - Time</th>\n",
              "      <td>NaN</td>\n",
              "      <td>-0.023829</td>\n",
              "      <td>-0.029421</td>\n",
              "      <td>0.008344</td>\n",
              "      <td>-0.004401</td>\n",
              "      <td>0.993450</td>\n",
              "      <td>0.008348</td>\n",
              "      <td>-0.004376</td>\n",
              "      <td>1.000000</td>\n",
              "      <td>0.008348</td>\n",
              "      <td>-0.004376</td>\n",
              "      <td>0.997143</td>\n",
              "      <td>0.008348</td>\n",
              "      <td>-0.004376</td>\n",
              "      <td>0.994175</td>\n",
              "      <td>0.008348</td>\n",
              "      <td>-0.004376</td>\n",
              "      <td>0.987736</td>\n",
              "      <td>-0.044259</td>\n",
              "      <td>0.357785</td>\n",
              "      <td>0.057663</td>\n",
              "      <td>-0.033413</td>\n",
              "      <td>0.012533</td>\n",
              "      <td>-0.007248</td>\n",
              "    </tr>\n",
              "    <tr>\n",
              "      <th>Arrival at Pickup - Day of Month</th>\n",
              "      <td>NaN</td>\n",
              "      <td>0.008279</td>\n",
              "      <td>0.001463</td>\n",
              "      <td>0.999998</td>\n",
              "      <td>0.028129</td>\n",
              "      <td>0.007984</td>\n",
              "      <td>1.000000</td>\n",
              "      <td>0.028114</td>\n",
              "      <td>0.008348</td>\n",
              "      <td>1.000000</td>\n",
              "      <td>0.028114</td>\n",
              "      <td>0.006937</td>\n",
              "      <td>1.000000</td>\n",
              "      <td>0.028114</td>\n",
              "      <td>0.006877</td>\n",
              "      <td>1.000000</td>\n",
              "      <td>0.028114</td>\n",
              "      <td>0.004411</td>\n",
              "      <td>-0.012490</td>\n",
              "      <td>0.011865</td>\n",
              "      <td>-0.008846</td>\n",
              "      <td>-0.007300</td>\n",
              "      <td>0.003999</td>\n",
              "      <td>-0.002792</td>\n",
              "    </tr>\n",
              "    <tr>\n",
              "      <th>Arrival at Pickup - Weekday (Mo = 1)</th>\n",
              "      <td>NaN</td>\n",
              "      <td>-0.046345</td>\n",
              "      <td>-0.042608</td>\n",
              "      <td>0.028112</td>\n",
              "      <td>0.999926</td>\n",
              "      <td>-0.005297</td>\n",
              "      <td>0.028114</td>\n",
              "      <td>1.000000</td>\n",
              "      <td>-0.004376</td>\n",
              "      <td>0.028114</td>\n",
              "      <td>1.000000</td>\n",
              "      <td>-0.002138</td>\n",
              "      <td>0.028114</td>\n",
              "      <td>1.000000</td>\n",
              "      <td>-0.001057</td>\n",
              "      <td>0.028114</td>\n",
              "      <td>1.000000</td>\n",
              "      <td>0.000167</td>\n",
              "      <td>-0.001991</td>\n",
              "      <td>0.031264</td>\n",
              "      <td>0.006501</td>\n",
              "      <td>0.005991</td>\n",
              "      <td>-0.009555</td>\n",
              "      <td>-0.003386</td>\n",
              "    </tr>\n",
              "    <tr>\n",
              "      <th>Arrival at Pickup - Time</th>\n",
              "      <td>NaN</td>\n",
              "      <td>-0.028651</td>\n",
              "      <td>-0.035619</td>\n",
              "      <td>0.006931</td>\n",
              "      <td>-0.002167</td>\n",
              "      <td>0.990078</td>\n",
              "      <td>0.006937</td>\n",
              "      <td>-0.002138</td>\n",
              "      <td>0.997143</td>\n",
              "      <td>0.006937</td>\n",
              "      <td>-0.002138</td>\n",
              "      <td>1.000000</td>\n",
              "      <td>0.006937</td>\n",
              "      <td>-0.002138</td>\n",
              "      <td>0.996479</td>\n",
              "      <td>0.006937</td>\n",
              "      <td>-0.002138</td>\n",
              "      <td>0.991436</td>\n",
              "      <td>-0.036603</td>\n",
              "      <td>0.356065</td>\n",
              "      <td>0.054330</td>\n",
              "      <td>-0.027267</td>\n",
              "      <td>0.012952</td>\n",
              "      <td>-0.006057</td>\n",
              "    </tr>\n",
              "    <tr>\n",
              "      <th>Pickup - Day of Month</th>\n",
              "      <td>NaN</td>\n",
              "      <td>0.008279</td>\n",
              "      <td>0.001463</td>\n",
              "      <td>0.999998</td>\n",
              "      <td>0.028129</td>\n",
              "      <td>0.007984</td>\n",
              "      <td>1.000000</td>\n",
              "      <td>0.028114</td>\n",
              "      <td>0.008348</td>\n",
              "      <td>1.000000</td>\n",
              "      <td>0.028114</td>\n",
              "      <td>0.006937</td>\n",
              "      <td>1.000000</td>\n",
              "      <td>0.028114</td>\n",
              "      <td>0.006877</td>\n",
              "      <td>1.000000</td>\n",
              "      <td>0.028114</td>\n",
              "      <td>0.004411</td>\n",
              "      <td>-0.012490</td>\n",
              "      <td>0.011865</td>\n",
              "      <td>-0.008846</td>\n",
              "      <td>-0.007300</td>\n",
              "      <td>0.003999</td>\n",
              "      <td>-0.002792</td>\n",
              "    </tr>\n",
              "    <tr>\n",
              "      <th>Pickup - Weekday (Mo = 1)</th>\n",
              "      <td>NaN</td>\n",
              "      <td>-0.046345</td>\n",
              "      <td>-0.042608</td>\n",
              "      <td>0.028112</td>\n",
              "      <td>0.999926</td>\n",
              "      <td>-0.005297</td>\n",
              "      <td>0.028114</td>\n",
              "      <td>1.000000</td>\n",
              "      <td>-0.004376</td>\n",
              "      <td>0.028114</td>\n",
              "      <td>1.000000</td>\n",
              "      <td>-0.002138</td>\n",
              "      <td>0.028114</td>\n",
              "      <td>1.000000</td>\n",
              "      <td>-0.001057</td>\n",
              "      <td>0.028114</td>\n",
              "      <td>1.000000</td>\n",
              "      <td>0.000167</td>\n",
              "      <td>-0.001991</td>\n",
              "      <td>0.031264</td>\n",
              "      <td>0.006501</td>\n",
              "      <td>0.005991</td>\n",
              "      <td>-0.009555</td>\n",
              "      <td>-0.003386</td>\n",
              "    </tr>\n",
              "    <tr>\n",
              "      <th>Pickup - Time</th>\n",
              "      <td>NaN</td>\n",
              "      <td>-0.024096</td>\n",
              "      <td>-0.029437</td>\n",
              "      <td>0.006872</td>\n",
              "      <td>-0.001088</td>\n",
              "      <td>0.987005</td>\n",
              "      <td>0.006877</td>\n",
              "      <td>-0.001057</td>\n",
              "      <td>0.994175</td>\n",
              "      <td>0.006877</td>\n",
              "      <td>-0.001057</td>\n",
              "      <td>0.996479</td>\n",
              "      <td>0.006877</td>\n",
              "      <td>-0.001057</td>\n",
              "      <td>1.000000</td>\n",
              "      <td>0.006877</td>\n",
              "      <td>-0.001057</td>\n",
              "      <td>0.994225</td>\n",
              "      <td>-0.028202</td>\n",
              "      <td>0.359998</td>\n",
              "      <td>0.043411</td>\n",
              "      <td>-0.012485</td>\n",
              "      <td>0.010486</td>\n",
              "      <td>-0.007928</td>\n",
              "    </tr>\n",
              "    <tr>\n",
              "      <th>Arrival at Destination - Day of Month</th>\n",
              "      <td>NaN</td>\n",
              "      <td>0.008279</td>\n",
              "      <td>0.001463</td>\n",
              "      <td>0.999998</td>\n",
              "      <td>0.028129</td>\n",
              "      <td>0.007984</td>\n",
              "      <td>1.000000</td>\n",
              "      <td>0.028114</td>\n",
              "      <td>0.008348</td>\n",
              "      <td>1.000000</td>\n",
              "      <td>0.028114</td>\n",
              "      <td>0.006937</td>\n",
              "      <td>1.000000</td>\n",
              "      <td>0.028114</td>\n",
              "      <td>0.006877</td>\n",
              "      <td>1.000000</td>\n",
              "      <td>0.028114</td>\n",
              "      <td>0.004411</td>\n",
              "      <td>-0.012490</td>\n",
              "      <td>0.011865</td>\n",
              "      <td>-0.008846</td>\n",
              "      <td>-0.007300</td>\n",
              "      <td>0.003999</td>\n",
              "      <td>-0.002792</td>\n",
              "    </tr>\n",
              "    <tr>\n",
              "      <th>Arrival at Destination - Weekday (Mo = 1)</th>\n",
              "      <td>NaN</td>\n",
              "      <td>-0.046345</td>\n",
              "      <td>-0.042608</td>\n",
              "      <td>0.028112</td>\n",
              "      <td>0.999926</td>\n",
              "      <td>-0.005297</td>\n",
              "      <td>0.028114</td>\n",
              "      <td>1.000000</td>\n",
              "      <td>-0.004376</td>\n",
              "      <td>0.028114</td>\n",
              "      <td>1.000000</td>\n",
              "      <td>-0.002138</td>\n",
              "      <td>0.028114</td>\n",
              "      <td>1.000000</td>\n",
              "      <td>-0.001057</td>\n",
              "      <td>0.028114</td>\n",
              "      <td>1.000000</td>\n",
              "      <td>0.000167</td>\n",
              "      <td>-0.001991</td>\n",
              "      <td>0.031264</td>\n",
              "      <td>0.006501</td>\n",
              "      <td>0.005991</td>\n",
              "      <td>-0.009555</td>\n",
              "      <td>-0.003386</td>\n",
              "    </tr>\n",
              "    <tr>\n",
              "      <th>Arrival at Destination - Time</th>\n",
              "      <td>NaN</td>\n",
              "      <td>-0.024096</td>\n",
              "      <td>-0.029967</td>\n",
              "      <td>0.004404</td>\n",
              "      <td>0.000128</td>\n",
              "      <td>0.980212</td>\n",
              "      <td>0.004411</td>\n",
              "      <td>0.000167</td>\n",
              "      <td>0.987736</td>\n",
              "      <td>0.004411</td>\n",
              "      <td>0.000167</td>\n",
              "      <td>0.991436</td>\n",
              "      <td>0.004411</td>\n",
              "      <td>0.000167</td>\n",
              "      <td>0.994225</td>\n",
              "      <td>0.004411</td>\n",
              "      <td>0.000167</td>\n",
              "      <td>1.000000</td>\n",
              "      <td>0.034255</td>\n",
              "      <td>0.358553</td>\n",
              "      <td>0.037263</td>\n",
              "      <td>-0.007084</td>\n",
              "      <td>0.004238</td>\n",
              "      <td>-0.000538</td>\n",
              "    </tr>\n",
              "    <tr>\n",
              "      <th>Distance (KM)</th>\n",
              "      <td>NaN</td>\n",
              "      <td>0.009995</td>\n",
              "      <td>0.011579</td>\n",
              "      <td>-0.012488</td>\n",
              "      <td>-0.001978</td>\n",
              "      <td>-0.041032</td>\n",
              "      <td>-0.012490</td>\n",
              "      <td>-0.001991</td>\n",
              "      <td>-0.044259</td>\n",
              "      <td>-0.012490</td>\n",
              "      <td>-0.001991</td>\n",
              "      <td>-0.036603</td>\n",
              "      <td>-0.012490</td>\n",
              "      <td>-0.001991</td>\n",
              "      <td>-0.028202</td>\n",
              "      <td>-0.012490</td>\n",
              "      <td>-0.001991</td>\n",
              "      <td>0.034255</td>\n",
              "      <td>1.000000</td>\n",
              "      <td>0.001807</td>\n",
              "      <td>-0.128256</td>\n",
              "      <td>0.172258</td>\n",
              "      <td>-0.077113</td>\n",
              "      <td>0.131097</td>\n",
              "    </tr>\n",
              "    <tr>\n",
              "      <th>Temperature</th>\n",
              "      <td>NaN</td>\n",
              "      <td>0.219916</td>\n",
              "      <td>0.207483</td>\n",
              "      <td>0.011862</td>\n",
              "      <td>0.031250</td>\n",
              "      <td>0.359548</td>\n",
              "      <td>0.011865</td>\n",
              "      <td>0.031264</td>\n",
              "      <td>0.357785</td>\n",
              "      <td>0.011865</td>\n",
              "      <td>0.031264</td>\n",
              "      <td>0.356065</td>\n",
              "      <td>0.011865</td>\n",
              "      <td>0.031264</td>\n",
              "      <td>0.359998</td>\n",
              "      <td>0.011865</td>\n",
              "      <td>0.031264</td>\n",
              "      <td>0.358553</td>\n",
              "      <td>0.001807</td>\n",
              "      <td>1.000000</td>\n",
              "      <td>0.021272</td>\n",
              "      <td>0.006059</td>\n",
              "      <td>0.013355</td>\n",
              "      <td>0.021941</td>\n",
              "    </tr>\n",
              "    <tr>\n",
              "      <th>Pickup Lat</th>\n",
              "      <td>NaN</td>\n",
              "      <td>-0.001783</td>\n",
              "      <td>0.022654</td>\n",
              "      <td>-0.008856</td>\n",
              "      <td>0.006446</td>\n",
              "      <td>0.061890</td>\n",
              "      <td>-0.008846</td>\n",
              "      <td>0.006501</td>\n",
              "      <td>0.057663</td>\n",
              "      <td>-0.008846</td>\n",
              "      <td>0.006501</td>\n",
              "      <td>0.054330</td>\n",
              "      <td>-0.008846</td>\n",
              "      <td>0.006501</td>\n",
              "      <td>0.043411</td>\n",
              "      <td>-0.008846</td>\n",
              "      <td>0.006501</td>\n",
              "      <td>0.037263</td>\n",
              "      <td>-0.128256</td>\n",
              "      <td>0.021272</td>\n",
              "      <td>1.000000</td>\n",
              "      <td>-0.154741</td>\n",
              "      <td>0.115025</td>\n",
              "      <td>0.047446</td>\n",
              "    </tr>\n",
              "    <tr>\n",
              "      <th>Pickup Long</th>\n",
              "      <td>NaN</td>\n",
              "      <td>0.016281</td>\n",
              "      <td>0.030524</td>\n",
              "      <td>-0.007307</td>\n",
              "      <td>0.005948</td>\n",
              "      <td>-0.039170</td>\n",
              "      <td>-0.007300</td>\n",
              "      <td>0.005991</td>\n",
              "      <td>-0.033413</td>\n",
              "      <td>-0.007300</td>\n",
              "      <td>0.005991</td>\n",
              "      <td>-0.027267</td>\n",
              "      <td>-0.007300</td>\n",
              "      <td>0.005991</td>\n",
              "      <td>-0.012485</td>\n",
              "      <td>-0.007300</td>\n",
              "      <td>0.005991</td>\n",
              "      <td>-0.007084</td>\n",
              "      <td>0.172258</td>\n",
              "      <td>0.006059</td>\n",
              "      <td>-0.154741</td>\n",
              "      <td>1.000000</td>\n",
              "      <td>0.015142</td>\n",
              "      <td>0.079419</td>\n",
              "    </tr>\n",
              "    <tr>\n",
              "      <th>Destination Lat</th>\n",
              "      <td>NaN</td>\n",
              "      <td>0.011808</td>\n",
              "      <td>0.008450</td>\n",
              "      <td>0.003986</td>\n",
              "      <td>-0.009629</td>\n",
              "      <td>0.013671</td>\n",
              "      <td>0.003999</td>\n",
              "      <td>-0.009555</td>\n",
              "      <td>0.012533</td>\n",
              "      <td>0.003999</td>\n",
              "      <td>-0.009555</td>\n",
              "      <td>0.012952</td>\n",
              "      <td>0.003999</td>\n",
              "      <td>-0.009555</td>\n",
              "      <td>0.010486</td>\n",
              "      <td>0.003999</td>\n",
              "      <td>-0.009555</td>\n",
              "      <td>0.004238</td>\n",
              "      <td>-0.077113</td>\n",
              "      <td>0.013355</td>\n",
              "      <td>0.115025</td>\n",
              "      <td>0.015142</td>\n",
              "      <td>1.000000</td>\n",
              "      <td>0.054882</td>\n",
              "    </tr>\n",
              "    <tr>\n",
              "      <th>Destination Long</th>\n",
              "      <td>NaN</td>\n",
              "      <td>0.054657</td>\n",
              "      <td>0.066389</td>\n",
              "      <td>-0.002785</td>\n",
              "      <td>-0.003348</td>\n",
              "      <td>-0.009879</td>\n",
              "      <td>-0.002792</td>\n",
              "      <td>-0.003386</td>\n",
              "      <td>-0.007248</td>\n",
              "      <td>-0.002792</td>\n",
              "      <td>-0.003386</td>\n",
              "      <td>-0.006057</td>\n",
              "      <td>-0.002792</td>\n",
              "      <td>-0.003386</td>\n",
              "      <td>-0.007928</td>\n",
              "      <td>-0.002792</td>\n",
              "      <td>-0.003386</td>\n",
              "      <td>-0.000538</td>\n",
              "      <td>0.131097</td>\n",
              "      <td>0.021941</td>\n",
              "      <td>0.047446</td>\n",
              "      <td>0.079419</td>\n",
              "      <td>0.054882</td>\n",
              "      <td>1.000000</td>\n",
              "    </tr>\n",
              "  </tbody>\n",
              "</table>\n",
              "</div>"
            ],
            "text/plain": [
              "                                           Vehicle Type  ...  Destination Long\n",
              "Vehicle Type                                        NaN  ...               NaN\n",
              "Platform Type                                       NaN  ...          0.054657\n",
              "Personal or Business                                NaN  ...          0.066389\n",
              "Placement - Day of Month                            NaN  ...         -0.002785\n",
              "Placement - Weekday (Mo = 1)                        NaN  ...         -0.003348\n",
              "Placement - Time                                    NaN  ...         -0.009879\n",
              "Confirmation - Day of Month                         NaN  ...         -0.002792\n",
              "Confirmation - Weekday (Mo = 1)                     NaN  ...         -0.003386\n",
              "Confirmation - Time                                 NaN  ...         -0.007248\n",
              "Arrival at Pickup - Day of Month                    NaN  ...         -0.002792\n",
              "Arrival at Pickup - Weekday (Mo = 1)                NaN  ...         -0.003386\n",
              "Arrival at Pickup - Time                            NaN  ...         -0.006057\n",
              "Pickup - Day of Month                               NaN  ...         -0.002792\n",
              "Pickup - Weekday (Mo = 1)                           NaN  ...         -0.003386\n",
              "Pickup - Time                                       NaN  ...         -0.007928\n",
              "Arrival at Destination - Day of Month               NaN  ...         -0.002792\n",
              "Arrival at Destination - Weekday (Mo = 1)           NaN  ...         -0.003386\n",
              "Arrival at Destination - Time                       NaN  ...         -0.000538\n",
              "Distance (KM)                                       NaN  ...          0.131097\n",
              "Temperature                                         NaN  ...          0.021941\n",
              "Pickup Lat                                          NaN  ...          0.047446\n",
              "Pickup Long                                         NaN  ...          0.079419\n",
              "Destination Lat                                     NaN  ...          0.054882\n",
              "Destination Long                                    NaN  ...          1.000000\n",
              "\n",
              "[24 rows x 24 columns]"
            ]
          },
          "metadata": {
            "tags": []
          },
          "execution_count": 42
        }
      ]
    },
    {
      "cell_type": "code",
      "metadata": {
        "id": "-6z0Y-b-bA3Z",
        "colab_type": "code",
        "outputId": "983a425c-d417-4c9f-c497-8ca131ff20e3",
        "colab": {
          "base_uri": "https://localhost:8080/",
          "height": 503
        }
      },
      "source": [
        "#Correlation of the X_train data\n",
        "\n",
        "fig, ax = plt.subplots(figsize=(15,6))\n",
        "sns.heatmap(X_train.corr(), annot = True)\n"
      ],
      "execution_count": 37,
      "outputs": [
        {
          "output_type": "execute_result",
          "data": {
            "text/plain": [
              "<matplotlib.axes._subplots.AxesSubplot at 0x7f15bd6993c8>"
            ]
          },
          "metadata": {
            "tags": []
          },
          "execution_count": 37
        },
        {
          "output_type": "display_data",
          "data": {
            "image/png": "[encoded data removed]",
            "text/plain": [
              "<Figure size 1080x432 with 2 Axes>"
            ]
          },
          "metadata": {
            "tags": [],
            "needs_background": "light"
          }
        }
      ]
    },
    {
      "cell_type": "code",
      "metadata": {
        "id": "UrZ8cm5rbA3f",
        "colab_type": "code",
        "colab": {}
      },
      "source": [
        "#Shows that distance play a major role in for time from pickup to arrival\n",
        "\n",
        "sns.lmplot(x='Time from Pickup to Arrival', y='Distance (KM)', data=train_data, ci=95, height=6, aspect=2);\n"
      ],
      "execution_count": 0,
      "outputs": []
    },
    {
      "cell_type": "markdown",
      "metadata": {
        "id": "Q64DYuyVbA3l",
        "colab_type": "raw"
      },
      "source": [
        ""
      ]
    },
    {
      "cell_type": "code",
      "metadata": {
        "id": "RqDVDoIDbA3n",
        "colab_type": "code",
        "outputId": "1ac7f635-0fd6-490f-a44e-145b879968ff",
        "colab": {
          "base_uri": "https://localhost:8080/",
          "height": 35
        }
      },
      "source": [
        "#Creating a Linear regression object\n",
        "\n",
        "model = LinearRegression()\n",
        "model\n"
      ],
      "execution_count": 47,
      "outputs": [
        {
          "output_type": "execute_result",
          "data": {
            "text/plain": [
              "LinearRegression(copy_X=True, fit_intercept=True, n_jobs=None, normalize=False)"
            ]
          },
          "metadata": {
            "tags": []
          },
          "execution_count": 47
        }
      ]
    },
    {
      "cell_type": "code",
      "metadata": {
        "id": "O18734K9bA3y",
        "colab_type": "code",
        "outputId": "4af4b26f-8806-4504-a8d5-3263dd582d15",
        "colab": {
          "base_uri": "https://localhost:8080/",
          "height": 35
        }
      },
      "source": [
        "#fitting the model\n",
        "model.fit(X_train,Y_train)"
      ],
      "execution_count": 48,
      "outputs": [
        {
          "output_type": "execute_result",
          "data": {
            "text/plain": [
              "LinearRegression(copy_X=True, fit_intercept=True, n_jobs=None, normalize=False)"
            ]
          },
          "metadata": {
            "tags": []
          },
          "execution_count": 48
        }
      ]
    },
    {
      "cell_type": "code",
      "metadata": {
        "id": "AhMG2qQzbA3-",
        "colab_type": "code",
        "colab": {}
      },
      "source": [
        "#Checking the intercept\n",
        "\n",
        "print(model.intercept_)\n",
        "\n",
        "#Checking the coefficients of the independent variables\n",
        "\n",
        "coeff_df = pd.DataFrame(model.coef_, X_train.columns, columns=['Coefficients'])\n",
        "coeff_df\n"
      ],
      "execution_count": 0,
      "outputs": []
    },
    {
      "cell_type": "code",
      "metadata": {
        "id": "xgJjD70SbA4F",
        "colab_type": "code",
        "colab": {}
      },
      "source": [
        "#getting the estimate of y\n",
        "\n",
        "y_estimate = model.predict(X_test)\n"
      ],
      "execution_count": 0,
      "outputs": []
    },
    {
      "cell_type": "code",
      "metadata": {
        "id": "3gVyOzC0bA4Q",
        "colab_type": "code",
        "colab": {}
      },
      "source": [
        "residuals = Y_test - y_estimate"
      ],
      "execution_count": 0,
      "outputs": []
    },
    {
      "cell_type": "markdown",
      "metadata": {
        "id": "rXWMk4gbbA4W",
        "colab_type": "raw"
      },
      "source": [
        "After realising that actually the data coefficients(mentioned above) are more of the categorical variable ,then opt out to research about models that can handle categorical data"
      ]
    },
    {
      "cell_type": "markdown",
      "metadata": {
        "id": "D2eVrBA5bA4W",
        "colab_type": "text"
      },
      "source": [
        "### Also looked at Random forest(with RMSE =753 using train_data ONLY)"
      ]
    },
    {
      "cell_type": "code",
      "metadata": {
        "id": "BhhWh9skbA4X",
        "colab_type": "code",
        "colab": {}
      },
      "source": [
        "#regressor = RandomForestRegressor(n_estimators=228,\n",
        "#                                  max_depth=100,\n",
        "#                                  max_features=4, min_samples_leaf=10,\n",
        "#                                  min_samples_split=8,\n",
        "#                                  random_state=0)\n",
        "#regressor.fit(X_train, y_train)\n",
        "#y_pred = regressor.predict(X_test)"
      ],
      "execution_count": 0,
      "outputs": []
    },
    {
      "cell_type": "code",
      "metadata": {
        "id": "bkf-IaVBbA4c",
        "colab_type": "code",
        "colab": {}
      },
      "source": [
        "#mean_squared_error(y_test/60, y_pred/60)  #157.60978552509135"
      ],
      "execution_count": 0,
      "outputs": []
    },
    {
      "cell_type": "code",
      "metadata": {
        "id": "t9xnr9rPbA4k",
        "colab_type": "code",
        "colab": {}
      },
      "source": [
        "#rms = sqrt(mean_squared_error(y_test, y_pred))\n",
        "#print(rms)\n",
        "#753.2564157644651"
      ],
      "execution_count": 0,
      "outputs": []
    },
    {
      "cell_type": "markdown",
      "metadata": {
        "id": "qwncrqU_bA4u",
        "colab_type": "raw"
      },
      "source": [
        "Reason which made us to let this one go its because it was leaving some required estimate unpredicted"
      ]
    },
    {
      "cell_type": "markdown",
      "metadata": {
        "id": "3QDdPfGCbA4v",
        "colab_type": "text"
      },
      "source": [
        " ### Regression Model (CatBoostRegressor)"
      ]
    },
    {
      "cell_type": "markdown",
      "metadata": {
        "id": "zAjIAkOLbA4y",
        "colab_type": "raw"
      },
      "source": [
        "Purpose of CatBoost\n",
        "\n",
        "Training and applying models for the regression problems. When using the applying methods only the predicted class is returned. Provides compatibility with the scikit-learn tools."
      ]
    },
    {
      "cell_type": "markdown",
      "metadata": {
        "id": "vufGYY4ubA4z",
        "colab_type": "raw"
      },
      "source": [
        "Parameter and Description\tDefault value\n",
        "metadata\tThe key-value string pairs to store in the model's metadata storage after the training.\tNone\n",
        "\n",
        "\n",
        "cat_features\t\n",
        "A one-dimensional array of categorical columns indices (specified as integers) or names (specified as strings).\n",
        "\n",
        "This array can contain both indices and names for different elements.\n",
        "\n",
        "If any features in the cat_features parameter are specified as names instead of indices, feature names must be provided for the training dataset. Therefore, the type of the X parameter in the future calls of the fit function must be either catboost.Pool with defined feature names data or pandas.DataFrame with defined column names.\n",
        "\n",
        "Note.\n",
        "If this parameter is not None and the training dataset passed as the value of the X parameter to the fit function of this class has the catboost.Pool type, CatBoost checks the equivalence of the categorical features indices specification in this object and the one in the catboost.Pool object.\n",
        "\n",
        "If this parameter is not None, passing objects of the catboost.FeaturesData type as the X parameter to the fit function of this class is prohibited.\n",
        "None (all features are either considered numerical or of other types if specified precisely)"
      ]
    },
    {
      "cell_type": "markdown",
      "metadata": {
        "id": "SGHBmpIvbA4z",
        "colab_type": "raw"
      },
      "source": [
        "For Info : https://catboost.ai/docs/concepts/python-reference_catboostregressor.html"
      ]
    },
    {
      "cell_type": "code",
      "metadata": {
        "id": "NP2MjlVGl9e-",
        "colab_type": "code",
        "outputId": "2d6c27ef-8df6-4ae7-bb81-8738e3f04e42",
        "colab": {
          "base_uri": "https://localhost:8080/",
          "height": 365
        }
      },
      "source": [
        "#To import a library that's not in Google Colab \n",
        "!pip install catboost"
      ],
      "execution_count": 54,
      "outputs": [
        {
          "output_type": "stream",
          "text": [
            "Collecting catboost\n",
            "\u001b[?25l  Downloading https://files.pythonhosted.org/packages/b2/aa/e61819d04ef2bbee778bf4b3a748db1f3ad23512377e43ecfdc3211437a0/catboost-0.23.2-cp36-none-manylinux1_x86_64.whl (64.8MB)\n",
            "\u001b[K     |████████████████████████████████| 64.8MB 50kB/s \n",
            "\u001b[?25hRequirement already satisfied: numpy>=1.16.0 in /usr/local/lib/python3.6/dist-packages (from catboost) (1.18.4)\n",
            "Requirement already satisfied: pandas>=0.24.0 in /usr/local/lib/python3.6/dist-packages (from catboost) (1.0.3)\n",
            "Requirement already satisfied: six in /usr/local/lib/python3.6/dist-packages (from catboost) (1.12.0)\n",
            "Requirement already satisfied: matplotlib in /usr/local/lib/python3.6/dist-packages (from catboost) (3.2.1)\n",
            "Requirement already satisfied: plotly in /usr/local/lib/python3.6/dist-packages (from catboost) (4.4.1)\n",
            "Requirement already satisfied: scipy in /usr/local/lib/python3.6/dist-packages (from catboost) (1.4.1)\n",
            "Requirement already satisfied: graphviz in /usr/local/lib/python3.6/dist-packages (from catboost) (0.10.1)\n",
            "Requirement already satisfied: pytz>=2017.2 in /usr/local/lib/python3.6/dist-packages (from pandas>=0.24.0->catboost) (2018.9)\n",
            "Requirement already satisfied: python-dateutil>=2.6.1 in /usr/local/lib/python3.6/dist-packages (from pandas>=0.24.0->catboost) (2.8.1)\n",
            "Requirement already satisfied: kiwisolver>=1.0.1 in /usr/local/lib/python3.6/dist-packages (from matplotlib->catboost) (1.2.0)\n",
            "Requirement already satisfied: cycler>=0.10 in /usr/local/lib/python3.6/dist-packages (from matplotlib->catboost) (0.10.0)\n",
            "Requirement already satisfied: pyparsing!=2.0.4,!=2.1.2,!=2.1.6,>=2.0.1 in /usr/local/lib/python3.6/dist-packages (from matplotlib->catboost) (2.4.7)\n",
            "Requirement already satisfied: retrying>=1.3.3 in /usr/local/lib/python3.6/dist-packages (from plotly->catboost) (1.3.3)\n",
            "Installing collected packages: catboost\n",
            "Successfully installed catboost-0.23.2\n"
          ],
          "name": "stdout"
        }
      ]
    },
    {
      "cell_type": "code",
      "metadata": {
        "id": "3yF0gd2PbA40",
        "colab_type": "code",
        "colab": {}
      },
      "source": [
        "#from sklearn.ensemble import RandomForestRegressor\n",
        "from sklearn.model_selection import train_test_split\n",
        "from sklearn.metrics import mean_squared_error\n",
        "from catboost import CatBoostRegressor,Pool, cv\n",
        "from sklearn.model_selection import GridSearchCV\n",
        "from sklearn.preprocessing import MinMaxScaler\n",
        "from sklearn.preprocessing import StandardScaler\n",
        "from sklearn.metrics import accuracy_score\n",
        "from sklearn.model_selection import KFold\n",
        "from sklearn.model_selection import cross_val_score\n",
        "from math import sqrt\n",
        "import catboost\n",
        "import math"
      ],
      "execution_count": 0,
      "outputs": []
    },
    {
      "cell_type": "code",
      "metadata": {
        "id": "OdaTR6rZbA44",
        "colab_type": "code",
        "colab": {}
      },
      "source": [
        "descrip =pd.read_csv('VariableDefinitions.csv')\n",
        "train_data = pd.read_csv('Train.csv')\n",
        "samplesub = pd.read_csv('SampleSubmission.csv')\n",
        "riders = pd.read_csv('Riders.csv')\n",
        "test_data = pd.read_csv('Test.csv')"
      ],
      "execution_count": 0,
      "outputs": []
    },
    {
      "cell_type": "code",
      "metadata": {
        "id": "RcyfSXXAbA49",
        "colab_type": "code",
        "outputId": "ebdcccd3-81e0-40be-b045-33563e72b66b",
        "colab": {
          "base_uri": "https://localhost:8080/",
          "height": 408
        }
      },
      "source": [
        "train_data.head()"
      ],
      "execution_count": 57,
      "outputs": [
        {
          "output_type": "execute_result",
          "data": {
            "text/html": [
              "<div>\n",
              "<style scoped>\n",
              "    .dataframe tbody tr th:only-of-type {\n",
              "        vertical-align: middle;\n",
              "    }\n",
              "\n",
              "    .dataframe tbody tr th {\n",
              "        vertical-align: top;\n",
              "    }\n",
              "\n",
              "    .dataframe thead th {\n",
              "        text-align: right;\n",
              "    }\n",
              "</style>\n",
              "<table border=\"1\" class=\"dataframe\">\n",
              "  <thead>\n",
              "    <tr style=\"text-align: right;\">\n",
              "      <th></th>\n",
              "      <th>Order No</th>\n",
              "      <th>User Id</th>\n",
              "      <th>Vehicle Type</th>\n",
              "      <th>Platform Type</th>\n",
              "      <th>Personal or Business</th>\n",
              "      <th>Placement - Day of Month</th>\n",
              "      <th>Placement - Weekday (Mo = 1)</th>\n",
              "      <th>Placement - Time</th>\n",
              "      <th>Confirmation - Day of Month</th>\n",
              "      <th>Confirmation - Weekday (Mo = 1)</th>\n",
              "      <th>Confirmation - Time</th>\n",
              "      <th>Arrival at Pickup - Day of Month</th>\n",
              "      <th>Arrival at Pickup - Weekday (Mo = 1)</th>\n",
              "      <th>Arrival at Pickup - Time</th>\n",
              "      <th>Pickup - Day of Month</th>\n",
              "      <th>Pickup - Weekday (Mo = 1)</th>\n",
              "      <th>Pickup - Time</th>\n",
              "      <th>Arrival at Destination - Day of Month</th>\n",
              "      <th>Arrival at Destination - Weekday (Mo = 1)</th>\n",
              "      <th>Arrival at Destination - Time</th>\n",
              "      <th>Distance (KM)</th>\n",
              "      <th>Temperature</th>\n",
              "      <th>Precipitation in millimeters</th>\n",
              "      <th>Pickup Lat</th>\n",
              "      <th>Pickup Long</th>\n",
              "      <th>Destination Lat</th>\n",
              "      <th>Destination Long</th>\n",
              "      <th>Rider Id</th>\n",
              "      <th>Time from Pickup to Arrival</th>\n",
              "    </tr>\n",
              "  </thead>\n",
              "  <tbody>\n",
              "    <tr>\n",
              "      <th>0</th>\n",
              "      <td>Order_No_4211</td>\n",
              "      <td>User_Id_633</td>\n",
              "      <td>Bike</td>\n",
              "      <td>3</td>\n",
              "      <td>Business</td>\n",
              "      <td>9</td>\n",
              "      <td>5</td>\n",
              "      <td>9:35:46 AM</td>\n",
              "      <td>9</td>\n",
              "      <td>5</td>\n",
              "      <td>9:40:10 AM</td>\n",
              "      <td>9</td>\n",
              "      <td>5</td>\n",
              "      <td>10:04:47 AM</td>\n",
              "      <td>9</td>\n",
              "      <td>5</td>\n",
              "      <td>10:27:30 AM</td>\n",
              "      <td>9</td>\n",
              "      <td>5</td>\n",
              "      <td>10:39:55 AM</td>\n",
              "      <td>4</td>\n",
              "      <td>20.4</td>\n",
              "      <td>NaN</td>\n",
              "      <td>-1.317755</td>\n",
              "      <td>36.830370</td>\n",
              "      <td>-1.300406</td>\n",
              "      <td>36.829741</td>\n",
              "      <td>Rider_Id_432</td>\n",
              "      <td>745</td>\n",
              "    </tr>\n",
              "    <tr>\n",
              "      <th>1</th>\n",
              "      <td>Order_No_25375</td>\n",
              "      <td>User_Id_2285</td>\n",
              "      <td>Bike</td>\n",
              "      <td>3</td>\n",
              "      <td>Personal</td>\n",
              "      <td>12</td>\n",
              "      <td>5</td>\n",
              "      <td>11:16:16 AM</td>\n",
              "      <td>12</td>\n",
              "      <td>5</td>\n",
              "      <td>11:23:21 AM</td>\n",
              "      <td>12</td>\n",
              "      <td>5</td>\n",
              "      <td>11:40:22 AM</td>\n",
              "      <td>12</td>\n",
              "      <td>5</td>\n",
              "      <td>11:44:09 AM</td>\n",
              "      <td>12</td>\n",
              "      <td>5</td>\n",
              "      <td>12:17:22 PM</td>\n",
              "      <td>16</td>\n",
              "      <td>26.4</td>\n",
              "      <td>NaN</td>\n",
              "      <td>-1.351453</td>\n",
              "      <td>36.899315</td>\n",
              "      <td>-1.295004</td>\n",
              "      <td>36.814358</td>\n",
              "      <td>Rider_Id_856</td>\n",
              "      <td>1993</td>\n",
              "    </tr>\n",
              "    <tr>\n",
              "      <th>2</th>\n",
              "      <td>Order_No_1899</td>\n",
              "      <td>User_Id_265</td>\n",
              "      <td>Bike</td>\n",
              "      <td>3</td>\n",
              "      <td>Business</td>\n",
              "      <td>30</td>\n",
              "      <td>2</td>\n",
              "      <td>12:39:25 PM</td>\n",
              "      <td>30</td>\n",
              "      <td>2</td>\n",
              "      <td>12:42:44 PM</td>\n",
              "      <td>30</td>\n",
              "      <td>2</td>\n",
              "      <td>12:49:34 PM</td>\n",
              "      <td>30</td>\n",
              "      <td>2</td>\n",
              "      <td>12:53:03 PM</td>\n",
              "      <td>30</td>\n",
              "      <td>2</td>\n",
              "      <td>1:00:38 PM</td>\n",
              "      <td>3</td>\n",
              "      <td>NaN</td>\n",
              "      <td>NaN</td>\n",
              "      <td>-1.308284</td>\n",
              "      <td>36.843419</td>\n",
              "      <td>-1.300921</td>\n",
              "      <td>36.828195</td>\n",
              "      <td>Rider_Id_155</td>\n",
              "      <td>455</td>\n",
              "    </tr>\n",
              "    <tr>\n",
              "      <th>3</th>\n",
              "      <td>Order_No_9336</td>\n",
              "      <td>User_Id_1402</td>\n",
              "      <td>Bike</td>\n",
              "      <td>3</td>\n",
              "      <td>Business</td>\n",
              "      <td>15</td>\n",
              "      <td>5</td>\n",
              "      <td>9:25:34 AM</td>\n",
              "      <td>15</td>\n",
              "      <td>5</td>\n",
              "      <td>9:26:05 AM</td>\n",
              "      <td>15</td>\n",
              "      <td>5</td>\n",
              "      <td>9:37:56 AM</td>\n",
              "      <td>15</td>\n",
              "      <td>5</td>\n",
              "      <td>9:43:06 AM</td>\n",
              "      <td>15</td>\n",
              "      <td>5</td>\n",
              "      <td>10:05:27 AM</td>\n",
              "      <td>9</td>\n",
              "      <td>19.2</td>\n",
              "      <td>NaN</td>\n",
              "      <td>-1.281301</td>\n",
              "      <td>36.832396</td>\n",
              "      <td>-1.257147</td>\n",
              "      <td>36.795063</td>\n",
              "      <td>Rider_Id_855</td>\n",
              "      <td>1341</td>\n",
              "    </tr>\n",
              "    <tr>\n",
              "      <th>4</th>\n",
              "      <td>Order_No_27883</td>\n",
              "      <td>User_Id_1737</td>\n",
              "      <td>Bike</td>\n",
              "      <td>1</td>\n",
              "      <td>Personal</td>\n",
              "      <td>13</td>\n",
              "      <td>1</td>\n",
              "      <td>9:55:18 AM</td>\n",
              "      <td>13</td>\n",
              "      <td>1</td>\n",
              "      <td>9:56:18 AM</td>\n",
              "      <td>13</td>\n",
              "      <td>1</td>\n",
              "      <td>10:03:53 AM</td>\n",
              "      <td>13</td>\n",
              "      <td>1</td>\n",
              "      <td>10:05:23 AM</td>\n",
              "      <td>13</td>\n",
              "      <td>1</td>\n",
              "      <td>10:25:37 AM</td>\n",
              "      <td>9</td>\n",
              "      <td>15.4</td>\n",
              "      <td>NaN</td>\n",
              "      <td>-1.266597</td>\n",
              "      <td>36.792118</td>\n",
              "      <td>-1.295041</td>\n",
              "      <td>36.809817</td>\n",
              "      <td>Rider_Id_770</td>\n",
              "      <td>1214</td>\n",
              "    </tr>\n",
              "  </tbody>\n",
              "</table>\n",
              "</div>"
            ],
            "text/plain": [
              "         Order No       User Id  ...      Rider Id  Time from Pickup to Arrival\n",
              "0   Order_No_4211   User_Id_633  ...  Rider_Id_432                          745\n",
              "1  Order_No_25375  User_Id_2285  ...  Rider_Id_856                         1993\n",
              "2   Order_No_1899   User_Id_265  ...  Rider_Id_155                          455\n",
              "3   Order_No_9336  User_Id_1402  ...  Rider_Id_855                         1341\n",
              "4  Order_No_27883  User_Id_1737  ...  Rider_Id_770                         1214\n",
              "\n",
              "[5 rows x 29 columns]"
            ]
          },
          "metadata": {
            "tags": []
          },
          "execution_count": 57
        }
      ]
    },
    {
      "cell_type": "code",
      "metadata": {
        "id": "a_A4rcc_bA5D",
        "colab_type": "code",
        "outputId": "12f9da6e-b681-4e3b-d0f1-002d95eeba10",
        "colab": {
          "base_uri": "https://localhost:8080/",
          "height": 408
        }
      },
      "source": [
        "test_data.head()"
      ],
      "execution_count": 58,
      "outputs": [
        {
          "output_type": "execute_result",
          "data": {
            "text/html": [
              "<div>\n",
              "<style scoped>\n",
              "    .dataframe tbody tr th:only-of-type {\n",
              "        vertical-align: middle;\n",
              "    }\n",
              "\n",
              "    .dataframe tbody tr th {\n",
              "        vertical-align: top;\n",
              "    }\n",
              "\n",
              "    .dataframe thead th {\n",
              "        text-align: right;\n",
              "    }\n",
              "</style>\n",
              "<table border=\"1\" class=\"dataframe\">\n",
              "  <thead>\n",
              "    <tr style=\"text-align: right;\">\n",
              "      <th></th>\n",
              "      <th>Order No</th>\n",
              "      <th>User Id</th>\n",
              "      <th>Vehicle Type</th>\n",
              "      <th>Platform Type</th>\n",
              "      <th>Personal or Business</th>\n",
              "      <th>Placement - Day of Month</th>\n",
              "      <th>Placement - Weekday (Mo = 1)</th>\n",
              "      <th>Placement - Time</th>\n",
              "      <th>Confirmation - Day of Month</th>\n",
              "      <th>Confirmation - Weekday (Mo = 1)</th>\n",
              "      <th>Confirmation - Time</th>\n",
              "      <th>Arrival at Pickup - Day of Month</th>\n",
              "      <th>Arrival at Pickup - Weekday (Mo = 1)</th>\n",
              "      <th>Arrival at Pickup - Time</th>\n",
              "      <th>Pickup - Day of Month</th>\n",
              "      <th>Pickup - Weekday (Mo = 1)</th>\n",
              "      <th>Pickup - Time</th>\n",
              "      <th>Distance (KM)</th>\n",
              "      <th>Temperature</th>\n",
              "      <th>Precipitation in millimeters</th>\n",
              "      <th>Pickup Lat</th>\n",
              "      <th>Pickup Long</th>\n",
              "      <th>Destination Lat</th>\n",
              "      <th>Destination Long</th>\n",
              "      <th>Rider Id</th>\n",
              "    </tr>\n",
              "  </thead>\n",
              "  <tbody>\n",
              "    <tr>\n",
              "      <th>0</th>\n",
              "      <td>Order_No_19248</td>\n",
              "      <td>User_Id_3355</td>\n",
              "      <td>Bike</td>\n",
              "      <td>3</td>\n",
              "      <td>Business</td>\n",
              "      <td>27</td>\n",
              "      <td>3</td>\n",
              "      <td>4:44:10 PM</td>\n",
              "      <td>27</td>\n",
              "      <td>3</td>\n",
              "      <td>4:44:29 PM</td>\n",
              "      <td>27</td>\n",
              "      <td>3</td>\n",
              "      <td>4:53:04 PM</td>\n",
              "      <td>27</td>\n",
              "      <td>3</td>\n",
              "      <td>5:06:47 PM</td>\n",
              "      <td>8</td>\n",
              "      <td>NaN</td>\n",
              "      <td>NaN</td>\n",
              "      <td>-1.333275</td>\n",
              "      <td>36.870815</td>\n",
              "      <td>-1.305249</td>\n",
              "      <td>36.822390</td>\n",
              "      <td>Rider_Id_192</td>\n",
              "    </tr>\n",
              "    <tr>\n",
              "      <th>1</th>\n",
              "      <td>Order_No_12736</td>\n",
              "      <td>User_Id_3647</td>\n",
              "      <td>Bike</td>\n",
              "      <td>3</td>\n",
              "      <td>Business</td>\n",
              "      <td>17</td>\n",
              "      <td>5</td>\n",
              "      <td>12:57:35 PM</td>\n",
              "      <td>17</td>\n",
              "      <td>5</td>\n",
              "      <td>12:59:17 PM</td>\n",
              "      <td>17</td>\n",
              "      <td>5</td>\n",
              "      <td>1:20:27 PM</td>\n",
              "      <td>17</td>\n",
              "      <td>5</td>\n",
              "      <td>1:25:37 PM</td>\n",
              "      <td>5</td>\n",
              "      <td>NaN</td>\n",
              "      <td>NaN</td>\n",
              "      <td>-1.272639</td>\n",
              "      <td>36.794723</td>\n",
              "      <td>-1.277007</td>\n",
              "      <td>36.823907</td>\n",
              "      <td>Rider_Id_868</td>\n",
              "    </tr>\n",
              "    <tr>\n",
              "      <th>2</th>\n",
              "      <td>Order_No_768</td>\n",
              "      <td>User_Id_2154</td>\n",
              "      <td>Bike</td>\n",
              "      <td>3</td>\n",
              "      <td>Business</td>\n",
              "      <td>27</td>\n",
              "      <td>4</td>\n",
              "      <td>11:08:14 AM</td>\n",
              "      <td>27</td>\n",
              "      <td>4</td>\n",
              "      <td>11:25:05 AM</td>\n",
              "      <td>27</td>\n",
              "      <td>4</td>\n",
              "      <td>11:33:20 AM</td>\n",
              "      <td>27</td>\n",
              "      <td>4</td>\n",
              "      <td>11:57:54 AM</td>\n",
              "      <td>5</td>\n",
              "      <td>22.8</td>\n",
              "      <td>NaN</td>\n",
              "      <td>-1.290894</td>\n",
              "      <td>36.822971</td>\n",
              "      <td>-1.276574</td>\n",
              "      <td>36.851365</td>\n",
              "      <td>Rider_Id_26</td>\n",
              "    </tr>\n",
              "    <tr>\n",
              "      <th>3</th>\n",
              "      <td>Order_No_15332</td>\n",
              "      <td>User_Id_2910</td>\n",
              "      <td>Bike</td>\n",
              "      <td>3</td>\n",
              "      <td>Business</td>\n",
              "      <td>17</td>\n",
              "      <td>1</td>\n",
              "      <td>1:51:35 PM</td>\n",
              "      <td>17</td>\n",
              "      <td>1</td>\n",
              "      <td>1:53:27 PM</td>\n",
              "      <td>17</td>\n",
              "      <td>1</td>\n",
              "      <td>2:02:41 PM</td>\n",
              "      <td>17</td>\n",
              "      <td>1</td>\n",
              "      <td>2:16:52 PM</td>\n",
              "      <td>5</td>\n",
              "      <td>24.5</td>\n",
              "      <td>NaN</td>\n",
              "      <td>-1.290503</td>\n",
              "      <td>36.809646</td>\n",
              "      <td>-1.303382</td>\n",
              "      <td>36.790658</td>\n",
              "      <td>Rider_Id_685</td>\n",
              "    </tr>\n",
              "    <tr>\n",
              "      <th>4</th>\n",
              "      <td>Order_No_21373</td>\n",
              "      <td>User_Id_1205</td>\n",
              "      <td>Bike</td>\n",
              "      <td>3</td>\n",
              "      <td>Business</td>\n",
              "      <td>11</td>\n",
              "      <td>2</td>\n",
              "      <td>11:30:28 AM</td>\n",
              "      <td>11</td>\n",
              "      <td>2</td>\n",
              "      <td>11:34:45 AM</td>\n",
              "      <td>11</td>\n",
              "      <td>2</td>\n",
              "      <td>11:47:19 AM</td>\n",
              "      <td>11</td>\n",
              "      <td>2</td>\n",
              "      <td>11:56:04 AM</td>\n",
              "      <td>6</td>\n",
              "      <td>24.4</td>\n",
              "      <td>NaN</td>\n",
              "      <td>-1.281081</td>\n",
              "      <td>36.814423</td>\n",
              "      <td>-1.266467</td>\n",
              "      <td>36.792161</td>\n",
              "      <td>Rider_Id_858</td>\n",
              "    </tr>\n",
              "  </tbody>\n",
              "</table>\n",
              "</div>"
            ],
            "text/plain": [
              "         Order No       User Id  ... Destination Long      Rider Id\n",
              "0  Order_No_19248  User_Id_3355  ...        36.822390  Rider_Id_192\n",
              "1  Order_No_12736  User_Id_3647  ...        36.823907  Rider_Id_868\n",
              "2    Order_No_768  User_Id_2154  ...        36.851365   Rider_Id_26\n",
              "3  Order_No_15332  User_Id_2910  ...        36.790658  Rider_Id_685\n",
              "4  Order_No_21373  User_Id_1205  ...        36.792161  Rider_Id_858\n",
              "\n",
              "[5 rows x 25 columns]"
            ]
          },
          "metadata": {
            "tags": []
          },
          "execution_count": 58
        }
      ]
    },
    {
      "cell_type": "code",
      "metadata": {
        "id": "6VKPnsVrbA5I",
        "colab_type": "code",
        "outputId": "6512c3d9-7cca-4221-a647-cd83ecf73c56",
        "colab": {
          "base_uri": "https://localhost:8080/",
          "height": 35
        }
      },
      "source": [
        "# Merging datasets.\n",
        "train = train_data.shape[0]\n",
        "test = test_data.shape[0]\n",
        "\n",
        "combined_data = pd.concat((train_data, test_data)).reset_index(drop=True)\n",
        "print(\"combined_data size is : {}\".format(combined_data.shape))"
      ],
      "execution_count": 59,
      "outputs": [
        {
          "output_type": "stream",
          "text": [
            "combined_data size is : (28269, 29)\n"
          ],
          "name": "stdout"
        }
      ]
    },
    {
      "cell_type": "code",
      "metadata": {
        "id": "cfh9q6BWbA5N",
        "colab_type": "code",
        "outputId": "3918fba7-9856-426a-a432-1e9e483de5b0",
        "colab": {
          "base_uri": "https://localhost:8080/",
          "height": 35
        }
      },
      "source": [
        "# Checking merged shape\n",
        "display(combined_data.shape)"
      ],
      "execution_count": 60,
      "outputs": [
        {
          "output_type": "display_data",
          "data": {
            "text/plain": [
              "(28269, 29)"
            ]
          },
          "metadata": {
            "tags": []
          }
        }
      ]
    },
    {
      "cell_type": "code",
      "metadata": {
        "id": "TTfCzUXfbA5R",
        "colab_type": "code",
        "outputId": "5568dbc1-e285-428c-bef3-d145086fc3c3",
        "colab": {
          "base_uri": "https://localhost:8080/",
          "height": 272
        }
      },
      "source": [
        "# Checking features and target columns\n",
        "display(combined_data.columns)"
      ],
      "execution_count": 61,
      "outputs": [
        {
          "output_type": "display_data",
          "data": {
            "text/plain": [
              "Index(['Order No', 'User Id', 'Vehicle Type', 'Platform Type',\n",
              "       'Personal or Business', 'Placement - Day of Month',\n",
              "       'Placement - Weekday (Mo = 1)', 'Placement - Time',\n",
              "       'Confirmation - Day of Month', 'Confirmation - Weekday (Mo = 1)',\n",
              "       'Confirmation - Time', 'Arrival at Pickup - Day of Month',\n",
              "       'Arrival at Pickup - Weekday (Mo = 1)', 'Arrival at Pickup - Time',\n",
              "       'Pickup - Day of Month', 'Pickup - Weekday (Mo = 1)', 'Pickup - Time',\n",
              "       'Arrival at Destination - Day of Month',\n",
              "       'Arrival at Destination - Weekday (Mo = 1)',\n",
              "       'Arrival at Destination - Time', 'Distance (KM)', 'Temperature',\n",
              "       'Precipitation in millimeters', 'Pickup Lat', 'Pickup Long',\n",
              "       'Destination Lat', 'Destination Long', 'Rider Id',\n",
              "       'Time from Pickup to Arrival'],\n",
              "      dtype='object')"
            ]
          },
          "metadata": {
            "tags": []
          }
        }
      ]
    },
    {
      "cell_type": "code",
      "metadata": {
        "id": "N49JJpvdbA5W",
        "colab_type": "code",
        "outputId": "235062fe-66d1-4fe9-c67a-f04cc9e94851",
        "colab": {
          "base_uri": "https://localhost:8080/",
          "height": 690
        }
      },
      "source": [
        "# Checking dtypes\n",
        "#28269 entries with 29 columns\n",
        "display(combined_data.info())"
      ],
      "execution_count": 62,
      "outputs": [
        {
          "output_type": "stream",
          "text": [
            "<class 'pandas.core.frame.DataFrame'>\n",
            "RangeIndex: 28269 entries, 0 to 28268\n",
            "Data columns (total 29 columns):\n",
            " #   Column                                     Non-Null Count  Dtype  \n",
            "---  ------                                     --------------  -----  \n",
            " 0   Order No                                   28269 non-null  object \n",
            " 1   User Id                                    28269 non-null  object \n",
            " 2   Vehicle Type                               28269 non-null  object \n",
            " 3   Platform Type                              28269 non-null  int64  \n",
            " 4   Personal or Business                       28269 non-null  object \n",
            " 5   Placement - Day of Month                   28269 non-null  int64  \n",
            " 6   Placement - Weekday (Mo = 1)               28269 non-null  int64  \n",
            " 7   Placement - Time                           28269 non-null  object \n",
            " 8   Confirmation - Day of Month                28269 non-null  int64  \n",
            " 9   Confirmation - Weekday (Mo = 1)            28269 non-null  int64  \n",
            " 10  Confirmation - Time                        28269 non-null  object \n",
            " 11  Arrival at Pickup - Day of Month           28269 non-null  int64  \n",
            " 12  Arrival at Pickup - Weekday (Mo = 1)       28269 non-null  int64  \n",
            " 13  Arrival at Pickup - Time                   28269 non-null  object \n",
            " 14  Pickup - Day of Month                      28269 non-null  int64  \n",
            " 15  Pickup - Weekday (Mo = 1)                  28269 non-null  int64  \n",
            " 16  Pickup - Time                              28269 non-null  object \n",
            " 17  Arrival at Destination - Day of Month      21201 non-null  float64\n",
            " 18  Arrival at Destination - Weekday (Mo = 1)  21201 non-null  float64\n",
            " 19  Arrival at Destination - Time              21201 non-null  object \n",
            " 20  Distance (KM)                              28269 non-null  int64  \n",
            " 21  Temperature                                22466 non-null  float64\n",
            " 22  Precipitation in millimeters               751 non-null    float64\n",
            " 23  Pickup Lat                                 28269 non-null  float64\n",
            " 24  Pickup Long                                28269 non-null  float64\n",
            " 25  Destination Lat                            28269 non-null  float64\n",
            " 26  Destination Long                           28269 non-null  float64\n",
            " 27  Rider Id                                   28269 non-null  object \n",
            " 28  Time from Pickup to Arrival                21201 non-null  float64\n",
            "dtypes: float64(9), int64(10), object(10)\n",
            "memory usage: 6.3+ MB\n"
          ],
          "name": "stdout"
        },
        {
          "output_type": "display_data",
          "data": {
            "text/plain": [
              "None"
            ]
          },
          "metadata": {
            "tags": []
          }
        }
      ]
    },
    {
      "cell_type": "code",
      "metadata": {
        "id": "lisSAWTpbA5Z",
        "colab_type": "code",
        "outputId": "c2108319-4cc4-485f-a605-52532886e840",
        "colab": {
          "base_uri": "https://localhost:8080/",
          "height": 1000
        }
      },
      "source": [
        "#low multicollinearity between the features \n",
        "combined_data.corr()"
      ],
      "execution_count": 63,
      "outputs": [
        {
          "output_type": "execute_result",
          "data": {
            "text/html": [
              "<div>\n",
              "<style scoped>\n",
              "    .dataframe tbody tr th:only-of-type {\n",
              "        vertical-align: middle;\n",
              "    }\n",
              "\n",
              "    .dataframe tbody tr th {\n",
              "        vertical-align: top;\n",
              "    }\n",
              "\n",
              "    .dataframe thead th {\n",
              "        text-align: right;\n",
              "    }\n",
              "</style>\n",
              "<table border=\"1\" class=\"dataframe\">\n",
              "  <thead>\n",
              "    <tr style=\"text-align: right;\">\n",
              "      <th></th>\n",
              "      <th>Platform Type</th>\n",
              "      <th>Placement - Day of Month</th>\n",
              "      <th>Placement - Weekday (Mo = 1)</th>\n",
              "      <th>Confirmation - Day of Month</th>\n",
              "      <th>Confirmation - Weekday (Mo = 1)</th>\n",
              "      <th>Arrival at Pickup - Day of Month</th>\n",
              "      <th>Arrival at Pickup - Weekday (Mo = 1)</th>\n",
              "      <th>Pickup - Day of Month</th>\n",
              "      <th>Pickup - Weekday (Mo = 1)</th>\n",
              "      <th>Arrival at Destination - Day of Month</th>\n",
              "      <th>Arrival at Destination - Weekday (Mo = 1)</th>\n",
              "      <th>Distance (KM)</th>\n",
              "      <th>Temperature</th>\n",
              "      <th>Precipitation in millimeters</th>\n",
              "      <th>Pickup Lat</th>\n",
              "      <th>Pickup Long</th>\n",
              "      <th>Destination Lat</th>\n",
              "      <th>Destination Long</th>\n",
              "      <th>Time from Pickup to Arrival</th>\n",
              "    </tr>\n",
              "  </thead>\n",
              "  <tbody>\n",
              "    <tr>\n",
              "      <th>Platform Type</th>\n",
              "      <td>1.000000</td>\n",
              "      <td>0.013958</td>\n",
              "      <td>-0.058637</td>\n",
              "      <td>0.013963</td>\n",
              "      <td>-0.058612</td>\n",
              "      <td>0.013963</td>\n",
              "      <td>-0.058612</td>\n",
              "      <td>0.013963</td>\n",
              "      <td>-0.058612</td>\n",
              "      <td>0.012770</td>\n",
              "      <td>-0.058005</td>\n",
              "      <td>0.005981</td>\n",
              "      <td>0.220127</td>\n",
              "      <td>-0.050634</td>\n",
              "      <td>-0.003386</td>\n",
              "      <td>0.019767</td>\n",
              "      <td>0.006558</td>\n",
              "      <td>0.042425</td>\n",
              "      <td>-0.003827</td>\n",
              "    </tr>\n",
              "    <tr>\n",
              "      <th>Placement - Day of Month</th>\n",
              "      <td>0.013958</td>\n",
              "      <td>1.000000</td>\n",
              "      <td>0.023910</td>\n",
              "      <td>0.999999</td>\n",
              "      <td>0.023890</td>\n",
              "      <td>0.999999</td>\n",
              "      <td>0.023890</td>\n",
              "      <td>0.999999</td>\n",
              "      <td>0.023890</td>\n",
              "      <td>0.999998</td>\n",
              "      <td>0.026122</td>\n",
              "      <td>-0.001978</td>\n",
              "      <td>0.008006</td>\n",
              "      <td>-0.223946</td>\n",
              "      <td>-0.005092</td>\n",
              "      <td>0.000761</td>\n",
              "      <td>0.003882</td>\n",
              "      <td>0.003052</td>\n",
              "      <td>-0.014710</td>\n",
              "    </tr>\n",
              "    <tr>\n",
              "      <th>Placement - Weekday (Mo = 1)</th>\n",
              "      <td>-0.058637</td>\n",
              "      <td>0.023910</td>\n",
              "      <td>1.000000</td>\n",
              "      <td>0.023898</td>\n",
              "      <td>0.999964</td>\n",
              "      <td>0.023898</td>\n",
              "      <td>0.999964</td>\n",
              "      <td>0.023898</td>\n",
              "      <td>0.999964</td>\n",
              "      <td>0.026132</td>\n",
              "      <td>0.999952</td>\n",
              "      <td>0.009394</td>\n",
              "      <td>0.030172</td>\n",
              "      <td>-0.031377</td>\n",
              "      <td>0.000214</td>\n",
              "      <td>0.010483</td>\n",
              "      <td>0.002670</td>\n",
              "      <td>-0.000915</td>\n",
              "      <td>0.009693</td>\n",
              "    </tr>\n",
              "    <tr>\n",
              "      <th>Confirmation - Day of Month</th>\n",
              "      <td>0.013963</td>\n",
              "      <td>0.999999</td>\n",
              "      <td>0.023898</td>\n",
              "      <td>1.000000</td>\n",
              "      <td>0.023891</td>\n",
              "      <td>1.000000</td>\n",
              "      <td>0.023891</td>\n",
              "      <td>1.000000</td>\n",
              "      <td>0.023891</td>\n",
              "      <td>1.000000</td>\n",
              "      <td>0.026123</td>\n",
              "      <td>-0.001979</td>\n",
              "      <td>0.008007</td>\n",
              "      <td>-0.223946</td>\n",
              "      <td>-0.005087</td>\n",
              "      <td>0.000764</td>\n",
              "      <td>0.003888</td>\n",
              "      <td>0.003049</td>\n",
              "      <td>-0.014701</td>\n",
              "    </tr>\n",
              "    <tr>\n",
              "      <th>Confirmation - Weekday (Mo = 1)</th>\n",
              "      <td>-0.058612</td>\n",
              "      <td>0.023890</td>\n",
              "      <td>0.999964</td>\n",
              "      <td>0.023891</td>\n",
              "      <td>1.000000</td>\n",
              "      <td>0.023891</td>\n",
              "      <td>1.000000</td>\n",
              "      <td>0.023891</td>\n",
              "      <td>1.000000</td>\n",
              "      <td>0.026123</td>\n",
              "      <td>1.000000</td>\n",
              "      <td>0.009388</td>\n",
              "      <td>0.030179</td>\n",
              "      <td>-0.031377</td>\n",
              "      <td>0.000241</td>\n",
              "      <td>0.010503</td>\n",
              "      <td>0.002706</td>\n",
              "      <td>-0.000934</td>\n",
              "      <td>0.009744</td>\n",
              "    </tr>\n",
              "    <tr>\n",
              "      <th>Arrival at Pickup - Day of Month</th>\n",
              "      <td>0.013963</td>\n",
              "      <td>0.999999</td>\n",
              "      <td>0.023898</td>\n",
              "      <td>1.000000</td>\n",
              "      <td>0.023891</td>\n",
              "      <td>1.000000</td>\n",
              "      <td>0.023891</td>\n",
              "      <td>1.000000</td>\n",
              "      <td>0.023891</td>\n",
              "      <td>1.000000</td>\n",
              "      <td>0.026123</td>\n",
              "      <td>-0.001979</td>\n",
              "      <td>0.008007</td>\n",
              "      <td>-0.223946</td>\n",
              "      <td>-0.005087</td>\n",
              "      <td>0.000764</td>\n",
              "      <td>0.003888</td>\n",
              "      <td>0.003049</td>\n",
              "      <td>-0.014701</td>\n",
              "    </tr>\n",
              "    <tr>\n",
              "      <th>Arrival at Pickup - Weekday (Mo = 1)</th>\n",
              "      <td>-0.058612</td>\n",
              "      <td>0.023890</td>\n",
              "      <td>0.999964</td>\n",
              "      <td>0.023891</td>\n",
              "      <td>1.000000</td>\n",
              "      <td>0.023891</td>\n",
              "      <td>1.000000</td>\n",
              "      <td>0.023891</td>\n",
              "      <td>1.000000</td>\n",
              "      <td>0.026123</td>\n",
              "      <td>1.000000</td>\n",
              "      <td>0.009388</td>\n",
              "      <td>0.030179</td>\n",
              "      <td>-0.031377</td>\n",
              "      <td>0.000241</td>\n",
              "      <td>0.010503</td>\n",
              "      <td>0.002706</td>\n",
              "      <td>-0.000934</td>\n",
              "      <td>0.009744</td>\n",
              "    </tr>\n",
              "    <tr>\n",
              "      <th>Pickup - Day of Month</th>\n",
              "      <td>0.013963</td>\n",
              "      <td>0.999999</td>\n",
              "      <td>0.023898</td>\n",
              "      <td>1.000000</td>\n",
              "      <td>0.023891</td>\n",
              "      <td>1.000000</td>\n",
              "      <td>0.023891</td>\n",
              "      <td>1.000000</td>\n",
              "      <td>0.023891</td>\n",
              "      <td>1.000000</td>\n",
              "      <td>0.026123</td>\n",
              "      <td>-0.001979</td>\n",
              "      <td>0.008007</td>\n",
              "      <td>-0.223946</td>\n",
              "      <td>-0.005087</td>\n",
              "      <td>0.000764</td>\n",
              "      <td>0.003888</td>\n",
              "      <td>0.003049</td>\n",
              "      <td>-0.014701</td>\n",
              "    </tr>\n",
              "    <tr>\n",
              "      <th>Pickup - Weekday (Mo = 1)</th>\n",
              "      <td>-0.058612</td>\n",
              "      <td>0.023890</td>\n",
              "      <td>0.999964</td>\n",
              "      <td>0.023891</td>\n",
              "      <td>1.000000</td>\n",
              "      <td>0.023891</td>\n",
              "      <td>1.000000</td>\n",
              "      <td>0.023891</td>\n",
              "      <td>1.000000</td>\n",
              "      <td>0.026123</td>\n",
              "      <td>1.000000</td>\n",
              "      <td>0.009388</td>\n",
              "      <td>0.030179</td>\n",
              "      <td>-0.031377</td>\n",
              "      <td>0.000241</td>\n",
              "      <td>0.010503</td>\n",
              "      <td>0.002706</td>\n",
              "      <td>-0.000934</td>\n",
              "      <td>0.009744</td>\n",
              "    </tr>\n",
              "    <tr>\n",
              "      <th>Arrival at Destination - Day of Month</th>\n",
              "      <td>0.012770</td>\n",
              "      <td>0.999998</td>\n",
              "      <td>0.026132</td>\n",
              "      <td>1.000000</td>\n",
              "      <td>0.026123</td>\n",
              "      <td>1.000000</td>\n",
              "      <td>0.026123</td>\n",
              "      <td>1.000000</td>\n",
              "      <td>0.026123</td>\n",
              "      <td>1.000000</td>\n",
              "      <td>0.026123</td>\n",
              "      <td>-0.007587</td>\n",
              "      <td>0.013099</td>\n",
              "      <td>-0.204143</td>\n",
              "      <td>-0.004923</td>\n",
              "      <td>-0.005448</td>\n",
              "      <td>0.007550</td>\n",
              "      <td>0.002073</td>\n",
              "      <td>-0.014701</td>\n",
              "    </tr>\n",
              "    <tr>\n",
              "      <th>Arrival at Destination - Weekday (Mo = 1)</th>\n",
              "      <td>-0.058005</td>\n",
              "      <td>0.026122</td>\n",
              "      <td>0.999952</td>\n",
              "      <td>0.026123</td>\n",
              "      <td>1.000000</td>\n",
              "      <td>0.026123</td>\n",
              "      <td>1.000000</td>\n",
              "      <td>0.026123</td>\n",
              "      <td>1.000000</td>\n",
              "      <td>0.026123</td>\n",
              "      <td>1.000000</td>\n",
              "      <td>0.003574</td>\n",
              "      <td>0.031074</td>\n",
              "      <td>-0.050592</td>\n",
              "      <td>-0.000883</td>\n",
              "      <td>0.011036</td>\n",
              "      <td>-0.004251</td>\n",
              "      <td>-0.000900</td>\n",
              "      <td>0.009744</td>\n",
              "    </tr>\n",
              "    <tr>\n",
              "      <th>Distance (KM)</th>\n",
              "      <td>0.005981</td>\n",
              "      <td>-0.001978</td>\n",
              "      <td>0.009394</td>\n",
              "      <td>-0.001979</td>\n",
              "      <td>0.009388</td>\n",
              "      <td>-0.001979</td>\n",
              "      <td>0.009388</td>\n",
              "      <td>-0.001979</td>\n",
              "      <td>0.009388</td>\n",
              "      <td>-0.007587</td>\n",
              "      <td>0.003574</td>\n",
              "      <td>1.000000</td>\n",
              "      <td>-0.004892</td>\n",
              "      <td>-0.039817</td>\n",
              "      <td>-0.128315</td>\n",
              "      <td>0.180356</td>\n",
              "      <td>-0.076642</td>\n",
              "      <td>0.145198</td>\n",
              "      <td>0.580608</td>\n",
              "    </tr>\n",
              "    <tr>\n",
              "      <th>Temperature</th>\n",
              "      <td>0.220127</td>\n",
              "      <td>0.008006</td>\n",
              "      <td>0.030172</td>\n",
              "      <td>0.008007</td>\n",
              "      <td>0.030179</td>\n",
              "      <td>0.008007</td>\n",
              "      <td>0.030179</td>\n",
              "      <td>0.008007</td>\n",
              "      <td>0.030179</td>\n",
              "      <td>0.013099</td>\n",
              "      <td>0.031074</td>\n",
              "      <td>-0.004892</td>\n",
              "      <td>1.000000</td>\n",
              "      <td>-0.169106</td>\n",
              "      <td>0.020400</td>\n",
              "      <td>0.013193</td>\n",
              "      <td>0.011653</td>\n",
              "      <td>0.019175</td>\n",
              "      <td>0.006465</td>\n",
              "    </tr>\n",
              "    <tr>\n",
              "      <th>Precipitation in millimeters</th>\n",
              "      <td>-0.050634</td>\n",
              "      <td>-0.223946</td>\n",
              "      <td>-0.031377</td>\n",
              "      <td>-0.223946</td>\n",
              "      <td>-0.031377</td>\n",
              "      <td>-0.223946</td>\n",
              "      <td>-0.031377</td>\n",
              "      <td>-0.223946</td>\n",
              "      <td>-0.031377</td>\n",
              "      <td>-0.204143</td>\n",
              "      <td>-0.050592</td>\n",
              "      <td>-0.039817</td>\n",
              "      <td>-0.169106</td>\n",
              "      <td>1.000000</td>\n",
              "      <td>-0.025638</td>\n",
              "      <td>-0.037794</td>\n",
              "      <td>0.008294</td>\n",
              "      <td>0.034903</td>\n",
              "      <td>0.024756</td>\n",
              "    </tr>\n",
              "    <tr>\n",
              "      <th>Pickup Lat</th>\n",
              "      <td>-0.003386</td>\n",
              "      <td>-0.005092</td>\n",
              "      <td>0.000214</td>\n",
              "      <td>-0.005087</td>\n",
              "      <td>0.000241</td>\n",
              "      <td>-0.005087</td>\n",
              "      <td>0.000241</td>\n",
              "      <td>-0.005087</td>\n",
              "      <td>0.000241</td>\n",
              "      <td>-0.004923</td>\n",
              "      <td>-0.000883</td>\n",
              "      <td>-0.128315</td>\n",
              "      <td>0.020400</td>\n",
              "      <td>-0.025638</td>\n",
              "      <td>1.000000</td>\n",
              "      <td>-0.152014</td>\n",
              "      <td>0.109250</td>\n",
              "      <td>0.051481</td>\n",
              "      <td>-0.053823</td>\n",
              "    </tr>\n",
              "    <tr>\n",
              "      <th>Pickup Long</th>\n",
              "      <td>0.019767</td>\n",
              "      <td>0.000761</td>\n",
              "      <td>0.010483</td>\n",
              "      <td>0.000764</td>\n",
              "      <td>0.010503</td>\n",
              "      <td>0.000764</td>\n",
              "      <td>0.010503</td>\n",
              "      <td>0.000764</td>\n",
              "      <td>0.010503</td>\n",
              "      <td>-0.005448</td>\n",
              "      <td>0.011036</td>\n",
              "      <td>0.180356</td>\n",
              "      <td>0.013193</td>\n",
              "      <td>-0.037794</td>\n",
              "      <td>-0.152014</td>\n",
              "      <td>1.000000</td>\n",
              "      <td>0.016541</td>\n",
              "      <td>0.081843</td>\n",
              "      <td>0.060285</td>\n",
              "    </tr>\n",
              "    <tr>\n",
              "      <th>Destination Lat</th>\n",
              "      <td>0.006558</td>\n",
              "      <td>0.003882</td>\n",
              "      <td>0.002670</td>\n",
              "      <td>0.003888</td>\n",
              "      <td>0.002706</td>\n",
              "      <td>0.003888</td>\n",
              "      <td>0.002706</td>\n",
              "      <td>0.003888</td>\n",
              "      <td>0.002706</td>\n",
              "      <td>0.007550</td>\n",
              "      <td>-0.004251</td>\n",
              "      <td>-0.076642</td>\n",
              "      <td>0.011653</td>\n",
              "      <td>0.008294</td>\n",
              "      <td>0.109250</td>\n",
              "      <td>0.016541</td>\n",
              "      <td>1.000000</td>\n",
              "      <td>0.044218</td>\n",
              "      <td>-0.061872</td>\n",
              "    </tr>\n",
              "    <tr>\n",
              "      <th>Destination Long</th>\n",
              "      <td>0.042425</td>\n",
              "      <td>0.003052</td>\n",
              "      <td>-0.000915</td>\n",
              "      <td>0.003049</td>\n",
              "      <td>-0.000934</td>\n",
              "      <td>0.003049</td>\n",
              "      <td>-0.000934</td>\n",
              "      <td>0.003049</td>\n",
              "      <td>-0.000934</td>\n",
              "      <td>0.002073</td>\n",
              "      <td>-0.000900</td>\n",
              "      <td>0.145198</td>\n",
              "      <td>0.019175</td>\n",
              "      <td>0.034903</td>\n",
              "      <td>0.051481</td>\n",
              "      <td>0.081843</td>\n",
              "      <td>0.044218</td>\n",
              "      <td>1.000000</td>\n",
              "      <td>0.070425</td>\n",
              "    </tr>\n",
              "    <tr>\n",
              "      <th>Time from Pickup to Arrival</th>\n",
              "      <td>-0.003827</td>\n",
              "      <td>-0.014710</td>\n",
              "      <td>0.009693</td>\n",
              "      <td>-0.014701</td>\n",
              "      <td>0.009744</td>\n",
              "      <td>-0.014701</td>\n",
              "      <td>0.009744</td>\n",
              "      <td>-0.014701</td>\n",
              "      <td>0.009744</td>\n",
              "      <td>-0.014701</td>\n",
              "      <td>0.009744</td>\n",
              "      <td>0.580608</td>\n",
              "      <td>0.006465</td>\n",
              "      <td>0.024756</td>\n",
              "      <td>-0.053823</td>\n",
              "      <td>0.060285</td>\n",
              "      <td>-0.061872</td>\n",
              "      <td>0.070425</td>\n",
              "      <td>1.000000</td>\n",
              "    </tr>\n",
              "  </tbody>\n",
              "</table>\n",
              "</div>"
            ],
            "text/plain": [
              "                                           Platform Type  ...  Time from Pickup to Arrival\n",
              "Platform Type                                   1.000000  ...                    -0.003827\n",
              "Placement - Day of Month                        0.013958  ...                    -0.014710\n",
              "Placement - Weekday (Mo = 1)                   -0.058637  ...                     0.009693\n",
              "Confirmation - Day of Month                     0.013963  ...                    -0.014701\n",
              "Confirmation - Weekday (Mo = 1)                -0.058612  ...                     0.009744\n",
              "Arrival at Pickup - Day of Month                0.013963  ...                    -0.014701\n",
              "Arrival at Pickup - Weekday (Mo = 1)           -0.058612  ...                     0.009744\n",
              "Pickup - Day of Month                           0.013963  ...                    -0.014701\n",
              "Pickup - Weekday (Mo = 1)                      -0.058612  ...                     0.009744\n",
              "Arrival at Destination - Day of Month           0.012770  ...                    -0.014701\n",
              "Arrival at Destination - Weekday (Mo = 1)      -0.058005  ...                     0.009744\n",
              "Distance (KM)                                   0.005981  ...                     0.580608\n",
              "Temperature                                     0.220127  ...                     0.006465\n",
              "Precipitation in millimeters                   -0.050634  ...                     0.024756\n",
              "Pickup Lat                                     -0.003386  ...                    -0.053823\n",
              "Pickup Long                                     0.019767  ...                     0.060285\n",
              "Destination Lat                                 0.006558  ...                    -0.061872\n",
              "Destination Long                                0.042425  ...                     0.070425\n",
              "Time from Pickup to Arrival                    -0.003827  ...                     1.000000\n",
              "\n",
              "[19 rows x 19 columns]"
            ]
          },
          "metadata": {
            "tags": []
          },
          "execution_count": 63
        }
      ]
    },
    {
      "cell_type": "code",
      "metadata": {
        "id": "kBOyK8IZbA5e",
        "colab_type": "code",
        "outputId": "4cc1cbf4-0fd1-4139-d567-46e3379046ad",
        "colab": {
          "base_uri": "https://localhost:8080/",
          "height": 363
        }
      },
      "source": [
        "#Finding numerical columns\n",
        "numerical_feature_columns = list(combined_data._get_numeric_data().columns)\n",
        "numerical_feature_columns"
      ],
      "execution_count": 64,
      "outputs": [
        {
          "output_type": "execute_result",
          "data": {
            "text/plain": [
              "['Platform Type',\n",
              " 'Placement - Day of Month',\n",
              " 'Placement - Weekday (Mo = 1)',\n",
              " 'Confirmation - Day of Month',\n",
              " 'Confirmation - Weekday (Mo = 1)',\n",
              " 'Arrival at Pickup - Day of Month',\n",
              " 'Arrival at Pickup - Weekday (Mo = 1)',\n",
              " 'Pickup - Day of Month',\n",
              " 'Pickup - Weekday (Mo = 1)',\n",
              " 'Arrival at Destination - Day of Month',\n",
              " 'Arrival at Destination - Weekday (Mo = 1)',\n",
              " 'Distance (KM)',\n",
              " 'Temperature',\n",
              " 'Precipitation in millimeters',\n",
              " 'Pickup Lat',\n",
              " 'Pickup Long',\n",
              " 'Destination Lat',\n",
              " 'Destination Long',\n",
              " 'Time from Pickup to Arrival']"
            ]
          },
          "metadata": {
            "tags": []
          },
          "execution_count": 64
        }
      ]
    },
    {
      "cell_type": "code",
      "metadata": {
        "id": "vRzHIzgBbA5q",
        "colab_type": "code",
        "outputId": "151625df-6186-4408-9f21-148e39b1c41c",
        "colab": {
          "base_uri": "https://localhost:8080/",
          "height": 199
        }
      },
      "source": [
        "#Looking Categorical columns \n",
        "categorical_feature_columns = list(set(train_data.columns) - set(train_data._get_numeric_data().columns))\n",
        "categorical_feature_columns"
      ],
      "execution_count": 65,
      "outputs": [
        {
          "output_type": "execute_result",
          "data": {
            "text/plain": [
              "['Pickup - Time',\n",
              " 'Confirmation - Time',\n",
              " 'User Id',\n",
              " 'Placement - Time',\n",
              " 'Arrival at Destination - Time',\n",
              " 'Personal or Business',\n",
              " 'Order No',\n",
              " 'Rider Id',\n",
              " 'Vehicle Type',\n",
              " 'Arrival at Pickup - Time']"
            ]
          },
          "metadata": {
            "tags": []
          },
          "execution_count": 65
        }
      ]
    },
    {
      "cell_type": "code",
      "metadata": {
        "id": "Ui7fG7ySbA5w",
        "colab_type": "code",
        "colab": {}
      },
      "source": [
        "combined_data['Placement_Datetime'] = pd.to_datetime(combined_data['Placement - Time'])\n",
        "combined_data.loc[:, 'Placement_Date'] = combined_data['Placement_Datetime'].dt.date\n",
        "combined_data['Confirmation_datetime'] = pd.to_datetime(combined_data['Confirmation - Time'])\n",
        "combined_data['Trip_Duration'] = (combined_data['Confirmation_datetime'] -combined_data['Placement_Datetime']).map(lambda x: x.total_seconds())\n",
        "\n",
        "combined_data.drop([\"Confirmation_datetime\",\"Placement_Date\",\"Placement_Datetime\"],axis =1,inplace = True)"
      ],
      "execution_count": 0,
      "outputs": []
    },
    {
      "cell_type": "code",
      "metadata": {
        "id": "VSkzSSltbA51",
        "colab_type": "code",
        "colab": {}
      },
      "source": [
        "combined_data.drop([\"Arrival at Destination - Day of Month\",\"Arrival at Destination - Weekday (Mo = 1)\",\"Arrival at Destination - Time\"],\n",
        "              axis = 1,inplace =True)"
      ],
      "execution_count": 0,
      "outputs": []
    },
    {
      "cell_type": "code",
      "metadata": {
        "id": "E3Z8HL6IbA56",
        "colab_type": "code",
        "outputId": "ecf5447d-f2b4-472f-fe1e-b873b9819de1",
        "colab": {
          "base_uri": "https://localhost:8080/",
          "height": 408
        }
      },
      "source": [
        "combined_data.head()"
      ],
      "execution_count": 68,
      "outputs": [
        {
          "output_type": "execute_result",
          "data": {
            "text/html": [
              "<div>\n",
              "<style scoped>\n",
              "    .dataframe tbody tr th:only-of-type {\n",
              "        vertical-align: middle;\n",
              "    }\n",
              "\n",
              "    .dataframe tbody tr th {\n",
              "        vertical-align: top;\n",
              "    }\n",
              "\n",
              "    .dataframe thead th {\n",
              "        text-align: right;\n",
              "    }\n",
              "</style>\n",
              "<table border=\"1\" class=\"dataframe\">\n",
              "  <thead>\n",
              "    <tr style=\"text-align: right;\">\n",
              "      <th></th>\n",
              "      <th>Order No</th>\n",
              "      <th>User Id</th>\n",
              "      <th>Vehicle Type</th>\n",
              "      <th>Platform Type</th>\n",
              "      <th>Personal or Business</th>\n",
              "      <th>Placement - Day of Month</th>\n",
              "      <th>Placement - Weekday (Mo = 1)</th>\n",
              "      <th>Placement - Time</th>\n",
              "      <th>Confirmation - Day of Month</th>\n",
              "      <th>Confirmation - Weekday (Mo = 1)</th>\n",
              "      <th>Confirmation - Time</th>\n",
              "      <th>Arrival at Pickup - Day of Month</th>\n",
              "      <th>Arrival at Pickup - Weekday (Mo = 1)</th>\n",
              "      <th>Arrival at Pickup - Time</th>\n",
              "      <th>Pickup - Day of Month</th>\n",
              "      <th>Pickup - Weekday (Mo = 1)</th>\n",
              "      <th>Pickup - Time</th>\n",
              "      <th>Distance (KM)</th>\n",
              "      <th>Temperature</th>\n",
              "      <th>Precipitation in millimeters</th>\n",
              "      <th>Pickup Lat</th>\n",
              "      <th>Pickup Long</th>\n",
              "      <th>Destination Lat</th>\n",
              "      <th>Destination Long</th>\n",
              "      <th>Rider Id</th>\n",
              "      <th>Time from Pickup to Arrival</th>\n",
              "      <th>Trip_Duration</th>\n",
              "    </tr>\n",
              "  </thead>\n",
              "  <tbody>\n",
              "    <tr>\n",
              "      <th>0</th>\n",
              "      <td>Order_No_4211</td>\n",
              "      <td>User_Id_633</td>\n",
              "      <td>Bike</td>\n",
              "      <td>3</td>\n",
              "      <td>Business</td>\n",
              "      <td>9</td>\n",
              "      <td>5</td>\n",
              "      <td>9:35:46 AM</td>\n",
              "      <td>9</td>\n",
              "      <td>5</td>\n",
              "      <td>9:40:10 AM</td>\n",
              "      <td>9</td>\n",
              "      <td>5</td>\n",
              "      <td>10:04:47 AM</td>\n",
              "      <td>9</td>\n",
              "      <td>5</td>\n",
              "      <td>10:27:30 AM</td>\n",
              "      <td>4</td>\n",
              "      <td>20.4</td>\n",
              "      <td>NaN</td>\n",
              "      <td>-1.317755</td>\n",
              "      <td>36.830370</td>\n",
              "      <td>-1.300406</td>\n",
              "      <td>36.829741</td>\n",
              "      <td>Rider_Id_432</td>\n",
              "      <td>745.0</td>\n",
              "      <td>264.0</td>\n",
              "    </tr>\n",
              "    <tr>\n",
              "      <th>1</th>\n",
              "      <td>Order_No_25375</td>\n",
              "      <td>User_Id_2285</td>\n",
              "      <td>Bike</td>\n",
              "      <td>3</td>\n",
              "      <td>Personal</td>\n",
              "      <td>12</td>\n",
              "      <td>5</td>\n",
              "      <td>11:16:16 AM</td>\n",
              "      <td>12</td>\n",
              "      <td>5</td>\n",
              "      <td>11:23:21 AM</td>\n",
              "      <td>12</td>\n",
              "      <td>5</td>\n",
              "      <td>11:40:22 AM</td>\n",
              "      <td>12</td>\n",
              "      <td>5</td>\n",
              "      <td>11:44:09 AM</td>\n",
              "      <td>16</td>\n",
              "      <td>26.4</td>\n",
              "      <td>NaN</td>\n",
              "      <td>-1.351453</td>\n",
              "      <td>36.899315</td>\n",
              "      <td>-1.295004</td>\n",
              "      <td>36.814358</td>\n",
              "      <td>Rider_Id_856</td>\n",
              "      <td>1993.0</td>\n",
              "      <td>425.0</td>\n",
              "    </tr>\n",
              "    <tr>\n",
              "      <th>2</th>\n",
              "      <td>Order_No_1899</td>\n",
              "      <td>User_Id_265</td>\n",
              "      <td>Bike</td>\n",
              "      <td>3</td>\n",
              "      <td>Business</td>\n",
              "      <td>30</td>\n",
              "      <td>2</td>\n",
              "      <td>12:39:25 PM</td>\n",
              "      <td>30</td>\n",
              "      <td>2</td>\n",
              "      <td>12:42:44 PM</td>\n",
              "      <td>30</td>\n",
              "      <td>2</td>\n",
              "      <td>12:49:34 PM</td>\n",
              "      <td>30</td>\n",
              "      <td>2</td>\n",
              "      <td>12:53:03 PM</td>\n",
              "      <td>3</td>\n",
              "      <td>NaN</td>\n",
              "      <td>NaN</td>\n",
              "      <td>-1.308284</td>\n",
              "      <td>36.843419</td>\n",
              "      <td>-1.300921</td>\n",
              "      <td>36.828195</td>\n",
              "      <td>Rider_Id_155</td>\n",
              "      <td>455.0</td>\n",
              "      <td>199.0</td>\n",
              "    </tr>\n",
              "    <tr>\n",
              "      <th>3</th>\n",
              "      <td>Order_No_9336</td>\n",
              "      <td>User_Id_1402</td>\n",
              "      <td>Bike</td>\n",
              "      <td>3</td>\n",
              "      <td>Business</td>\n",
              "      <td>15</td>\n",
              "      <td>5</td>\n",
              "      <td>9:25:34 AM</td>\n",
              "      <td>15</td>\n",
              "      <td>5</td>\n",
              "      <td>9:26:05 AM</td>\n",
              "      <td>15</td>\n",
              "      <td>5</td>\n",
              "      <td>9:37:56 AM</td>\n",
              "      <td>15</td>\n",
              "      <td>5</td>\n",
              "      <td>9:43:06 AM</td>\n",
              "      <td>9</td>\n",
              "      <td>19.2</td>\n",
              "      <td>NaN</td>\n",
              "      <td>-1.281301</td>\n",
              "      <td>36.832396</td>\n",
              "      <td>-1.257147</td>\n",
              "      <td>36.795063</td>\n",
              "      <td>Rider_Id_855</td>\n",
              "      <td>1341.0</td>\n",
              "      <td>31.0</td>\n",
              "    </tr>\n",
              "    <tr>\n",
              "      <th>4</th>\n",
              "      <td>Order_No_27883</td>\n",
              "      <td>User_Id_1737</td>\n",
              "      <td>Bike</td>\n",
              "      <td>1</td>\n",
              "      <td>Personal</td>\n",
              "      <td>13</td>\n",
              "      <td>1</td>\n",
              "      <td>9:55:18 AM</td>\n",
              "      <td>13</td>\n",
              "      <td>1</td>\n",
              "      <td>9:56:18 AM</td>\n",
              "      <td>13</td>\n",
              "      <td>1</td>\n",
              "      <td>10:03:53 AM</td>\n",
              "      <td>13</td>\n",
              "      <td>1</td>\n",
              "      <td>10:05:23 AM</td>\n",
              "      <td>9</td>\n",
              "      <td>15.4</td>\n",
              "      <td>NaN</td>\n",
              "      <td>-1.266597</td>\n",
              "      <td>36.792118</td>\n",
              "      <td>-1.295041</td>\n",
              "      <td>36.809817</td>\n",
              "      <td>Rider_Id_770</td>\n",
              "      <td>1214.0</td>\n",
              "      <td>60.0</td>\n",
              "    </tr>\n",
              "  </tbody>\n",
              "</table>\n",
              "</div>"
            ],
            "text/plain": [
              "         Order No       User Id  ... Time from Pickup to Arrival  Trip_Duration\n",
              "0   Order_No_4211   User_Id_633  ...                       745.0          264.0\n",
              "1  Order_No_25375  User_Id_2285  ...                      1993.0          425.0\n",
              "2   Order_No_1899   User_Id_265  ...                       455.0          199.0\n",
              "3   Order_No_9336  User_Id_1402  ...                      1341.0           31.0\n",
              "4  Order_No_27883  User_Id_1737  ...                      1214.0           60.0\n",
              "\n",
              "[5 rows x 27 columns]"
            ]
          },
          "metadata": {
            "tags": []
          },
          "execution_count": 68
        }
      ]
    },
    {
      "cell_type": "code",
      "metadata": {
        "id": "_yBXmUnZbA6C",
        "colab_type": "code",
        "colab": {}
      },
      "source": [
        "combined_data.drop('Trip_Duration',axis = 1,inplace = True)"
      ],
      "execution_count": 0,
      "outputs": []
    },
    {
      "cell_type": "code",
      "metadata": {
        "id": "zh10eeIlbA6G",
        "colab_type": "code",
        "colab": {}
      },
      "source": [
        "combined_data = pd.merge(combined_data,riders,how = 'left',on = ['Rider Id'])"
      ],
      "execution_count": 0,
      "outputs": []
    },
    {
      "cell_type": "code",
      "metadata": {
        "id": "2iAxxyGTbA6I",
        "colab_type": "code",
        "outputId": "c47ab812-016a-4e91-cabf-c74d5f11b405",
        "colab": {
          "base_uri": "https://localhost:8080/",
          "height": 581
        }
      },
      "source": [
        "combined_data.isnull().sum()"
      ],
      "execution_count": 71,
      "outputs": [
        {
          "output_type": "execute_result",
          "data": {
            "text/plain": [
              "Order No                                    0\n",
              "User Id                                     0\n",
              "Vehicle Type                                0\n",
              "Platform Type                               0\n",
              "Personal or Business                        0\n",
              "Placement - Day of Month                    0\n",
              "Placement - Weekday (Mo = 1)                0\n",
              "Placement - Time                            0\n",
              "Confirmation - Day of Month                 0\n",
              "Confirmation - Weekday (Mo = 1)             0\n",
              "Confirmation - Time                         0\n",
              "Arrival at Pickup - Day of Month            0\n",
              "Arrival at Pickup - Weekday (Mo = 1)        0\n",
              "Arrival at Pickup - Time                    0\n",
              "Pickup - Day of Month                       0\n",
              "Pickup - Weekday (Mo = 1)                   0\n",
              "Pickup - Time                               0\n",
              "Distance (KM)                               0\n",
              "Temperature                              5803\n",
              "Precipitation in millimeters            27518\n",
              "Pickup Lat                                  0\n",
              "Pickup Long                                 0\n",
              "Destination Lat                             0\n",
              "Destination Long                            0\n",
              "Rider Id                                    0\n",
              "Time from Pickup to Arrival              7068\n",
              "No_Of_Orders                                0\n",
              "Age                                         0\n",
              "Average_Rating                              0\n",
              "No_of_Ratings                               0\n",
              "dtype: int64"
            ]
          },
          "metadata": {
            "tags": []
          },
          "execution_count": 71
        }
      ]
    },
    {
      "cell_type": "code",
      "metadata": {
        "id": "wLZu75q5bA6L",
        "colab_type": "code",
        "colab": {}
      },
      "source": [
        "#Decide to use mean since discovered that Temperature will play a role in our prediction\n",
        "combined_data['Temperature'] = combined_data['Temperature'].fillna((combined_data['Temperature'].mean()))"
      ],
      "execution_count": 0,
      "outputs": []
    },
    {
      "cell_type": "code",
      "metadata": {
        "id": "TH-whhx1bA6O",
        "colab_type": "code",
        "colab": {}
      },
      "source": [
        "combined_data['Precipitation in millimeters'] = combined_data['Precipitation in millimeters'].fillna(0)"
      ],
      "execution_count": 0,
      "outputs": []
    },
    {
      "cell_type": "markdown",
      "metadata": {
        "id": "Qv_fXrwnbA6R",
        "colab_type": "raw"
      },
      "source": [
        "We realized that we had 28269 entries and precipitation column have a total of 27518 entries (97%) which are missing and it would not make sense to use five number summary towards such a column"
      ]
    },
    {
      "cell_type": "code",
      "metadata": {
        "id": "teP6eWRubA6R",
        "colab_type": "code",
        "outputId": "09a94804-d223-4220-a836-e273eba37d11",
        "colab": {
          "base_uri": "https://localhost:8080/",
          "height": 581
        }
      },
      "source": [
        "combined_data.isnull().sum()"
      ],
      "execution_count": 74,
      "outputs": [
        {
          "output_type": "execute_result",
          "data": {
            "text/plain": [
              "Order No                                   0\n",
              "User Id                                    0\n",
              "Vehicle Type                               0\n",
              "Platform Type                              0\n",
              "Personal or Business                       0\n",
              "Placement - Day of Month                   0\n",
              "Placement - Weekday (Mo = 1)               0\n",
              "Placement - Time                           0\n",
              "Confirmation - Day of Month                0\n",
              "Confirmation - Weekday (Mo = 1)            0\n",
              "Confirmation - Time                        0\n",
              "Arrival at Pickup - Day of Month           0\n",
              "Arrival at Pickup - Weekday (Mo = 1)       0\n",
              "Arrival at Pickup - Time                   0\n",
              "Pickup - Day of Month                      0\n",
              "Pickup - Weekday (Mo = 1)                  0\n",
              "Pickup - Time                              0\n",
              "Distance (KM)                              0\n",
              "Temperature                                0\n",
              "Precipitation in millimeters               0\n",
              "Pickup Lat                                 0\n",
              "Pickup Long                                0\n",
              "Destination Lat                            0\n",
              "Destination Long                           0\n",
              "Rider Id                                   0\n",
              "Time from Pickup to Arrival             7068\n",
              "No_Of_Orders                               0\n",
              "Age                                        0\n",
              "Average_Rating                             0\n",
              "No_of_Ratings                              0\n",
              "dtype: int64"
            ]
          },
          "metadata": {
            "tags": []
          },
          "execution_count": 74
        }
      ]
    },
    {
      "cell_type": "code",
      "metadata": {
        "id": "rfA2530JbA6V",
        "colab_type": "code",
        "colab": {}
      },
      "source": [
        "combined_data['Arrival at Pickup - Time'] = pd.to_datetime(combined_data['Arrival at Pickup - Time'])\n",
        "combined_data['A_hour'] = combined_data['Arrival at Pickup - Time'].dt.hour\n",
        "combined_data['A_seconds'] = combined_data['Arrival at Pickup - Time'].dt.second\n",
        "combined_data['A_minutes'] = combined_data['Arrival at Pickup - Time'].dt.minute\n",
        "combined_data['am_or_pm_confirm'] = combined_data['Confirmation - Time'].astype('str').apply(lambda x:x.split(' ')[-1])"
      ],
      "execution_count": 0,
      "outputs": []
    },
    {
      "cell_type": "code",
      "metadata": {
        "id": "uAbA1hmNbA6d",
        "colab_type": "code",
        "colab": {}
      },
      "source": [
        "combined_data['Confirmation - Time'] = pd.to_datetime(combined_data['Confirmation - Time'])"
      ],
      "execution_count": 0,
      "outputs": []
    },
    {
      "cell_type": "code",
      "metadata": {
        "id": "YiG93DKObA6n",
        "colab_type": "code",
        "colab": {}
      },
      "source": [
        "combined_data['C_hour'] = combined_data['Confirmation - Time'].dt.hour\n",
        "combined_data['C_min'] = combined_data['Confirmation - Time'].dt.minute\n",
        "combined_data['C_sec'] = combined_data['Confirmation - Time'].dt.second"
      ],
      "execution_count": 0,
      "outputs": []
    },
    {
      "cell_type": "code",
      "metadata": {
        "id": "bgyXSYfCbA6t",
        "colab_type": "code",
        "outputId": "e3bdf973-a278-4579-b427-8fef33626510",
        "colab": {
          "base_uri": "https://localhost:8080/",
          "height": 495
        }
      },
      "source": [
        "combined_data.head()"
      ],
      "execution_count": 78,
      "outputs": [
        {
          "output_type": "execute_result",
          "data": {
            "text/html": [
              "<div>\n",
              "<style scoped>\n",
              "    .dataframe tbody tr th:only-of-type {\n",
              "        vertical-align: middle;\n",
              "    }\n",
              "\n",
              "    .dataframe tbody tr th {\n",
              "        vertical-align: top;\n",
              "    }\n",
              "\n",
              "    .dataframe thead th {\n",
              "        text-align: right;\n",
              "    }\n",
              "</style>\n",
              "<table border=\"1\" class=\"dataframe\">\n",
              "  <thead>\n",
              "    <tr style=\"text-align: right;\">\n",
              "      <th></th>\n",
              "      <th>Order No</th>\n",
              "      <th>User Id</th>\n",
              "      <th>Vehicle Type</th>\n",
              "      <th>Platform Type</th>\n",
              "      <th>Personal or Business</th>\n",
              "      <th>Placement - Day of Month</th>\n",
              "      <th>Placement - Weekday (Mo = 1)</th>\n",
              "      <th>Placement - Time</th>\n",
              "      <th>Confirmation - Day of Month</th>\n",
              "      <th>Confirmation - Weekday (Mo = 1)</th>\n",
              "      <th>Confirmation - Time</th>\n",
              "      <th>Arrival at Pickup - Day of Month</th>\n",
              "      <th>Arrival at Pickup - Weekday (Mo = 1)</th>\n",
              "      <th>Arrival at Pickup - Time</th>\n",
              "      <th>Pickup - Day of Month</th>\n",
              "      <th>Pickup - Weekday (Mo = 1)</th>\n",
              "      <th>Pickup - Time</th>\n",
              "      <th>Distance (KM)</th>\n",
              "      <th>Temperature</th>\n",
              "      <th>Precipitation in millimeters</th>\n",
              "      <th>Pickup Lat</th>\n",
              "      <th>Pickup Long</th>\n",
              "      <th>Destination Lat</th>\n",
              "      <th>Destination Long</th>\n",
              "      <th>Rider Id</th>\n",
              "      <th>Time from Pickup to Arrival</th>\n",
              "      <th>No_Of_Orders</th>\n",
              "      <th>Age</th>\n",
              "      <th>Average_Rating</th>\n",
              "      <th>No_of_Ratings</th>\n",
              "      <th>A_hour</th>\n",
              "      <th>A_seconds</th>\n",
              "      <th>A_minutes</th>\n",
              "      <th>am_or_pm_confirm</th>\n",
              "      <th>C_hour</th>\n",
              "      <th>C_min</th>\n",
              "      <th>C_sec</th>\n",
              "    </tr>\n",
              "  </thead>\n",
              "  <tbody>\n",
              "    <tr>\n",
              "      <th>0</th>\n",
              "      <td>Order_No_4211</td>\n",
              "      <td>User_Id_633</td>\n",
              "      <td>Bike</td>\n",
              "      <td>3</td>\n",
              "      <td>Business</td>\n",
              "      <td>9</td>\n",
              "      <td>5</td>\n",
              "      <td>9:35:46 AM</td>\n",
              "      <td>9</td>\n",
              "      <td>5</td>\n",
              "      <td>2020-05-28 09:40:10</td>\n",
              "      <td>9</td>\n",
              "      <td>5</td>\n",
              "      <td>2020-05-28 10:04:47</td>\n",
              "      <td>9</td>\n",
              "      <td>5</td>\n",
              "      <td>10:27:30 AM</td>\n",
              "      <td>4</td>\n",
              "      <td>20.400000</td>\n",
              "      <td>0.0</td>\n",
              "      <td>-1.317755</td>\n",
              "      <td>36.830370</td>\n",
              "      <td>-1.300406</td>\n",
              "      <td>36.829741</td>\n",
              "      <td>Rider_Id_432</td>\n",
              "      <td>745.0</td>\n",
              "      <td>1637</td>\n",
              "      <td>1309</td>\n",
              "      <td>13.8</td>\n",
              "      <td>549</td>\n",
              "      <td>10</td>\n",
              "      <td>47</td>\n",
              "      <td>4</td>\n",
              "      <td>AM</td>\n",
              "      <td>9</td>\n",
              "      <td>40</td>\n",
              "      <td>10</td>\n",
              "    </tr>\n",
              "    <tr>\n",
              "      <th>1</th>\n",
              "      <td>Order_No_25375</td>\n",
              "      <td>User_Id_2285</td>\n",
              "      <td>Bike</td>\n",
              "      <td>3</td>\n",
              "      <td>Personal</td>\n",
              "      <td>12</td>\n",
              "      <td>5</td>\n",
              "      <td>11:16:16 AM</td>\n",
              "      <td>12</td>\n",
              "      <td>5</td>\n",
              "      <td>2020-05-28 11:23:21</td>\n",
              "      <td>12</td>\n",
              "      <td>5</td>\n",
              "      <td>2020-05-28 11:40:22</td>\n",
              "      <td>12</td>\n",
              "      <td>5</td>\n",
              "      <td>11:44:09 AM</td>\n",
              "      <td>16</td>\n",
              "      <td>26.400000</td>\n",
              "      <td>0.0</td>\n",
              "      <td>-1.351453</td>\n",
              "      <td>36.899315</td>\n",
              "      <td>-1.295004</td>\n",
              "      <td>36.814358</td>\n",
              "      <td>Rider_Id_856</td>\n",
              "      <td>1993.0</td>\n",
              "      <td>396</td>\n",
              "      <td>339</td>\n",
              "      <td>13.6</td>\n",
              "      <td>69</td>\n",
              "      <td>11</td>\n",
              "      <td>22</td>\n",
              "      <td>40</td>\n",
              "      <td>AM</td>\n",
              "      <td>11</td>\n",
              "      <td>23</td>\n",
              "      <td>21</td>\n",
              "    </tr>\n",
              "    <tr>\n",
              "      <th>2</th>\n",
              "      <td>Order_No_1899</td>\n",
              "      <td>User_Id_265</td>\n",
              "      <td>Bike</td>\n",
              "      <td>3</td>\n",
              "      <td>Business</td>\n",
              "      <td>30</td>\n",
              "      <td>2</td>\n",
              "      <td>12:39:25 PM</td>\n",
              "      <td>30</td>\n",
              "      <td>2</td>\n",
              "      <td>2020-05-28 12:42:44</td>\n",
              "      <td>30</td>\n",
              "      <td>2</td>\n",
              "      <td>2020-05-28 12:49:34</td>\n",
              "      <td>30</td>\n",
              "      <td>2</td>\n",
              "      <td>12:53:03 PM</td>\n",
              "      <td>3</td>\n",
              "      <td>23.255689</td>\n",
              "      <td>0.0</td>\n",
              "      <td>-1.308284</td>\n",
              "      <td>36.843419</td>\n",
              "      <td>-1.300921</td>\n",
              "      <td>36.828195</td>\n",
              "      <td>Rider_Id_155</td>\n",
              "      <td>455.0</td>\n",
              "      <td>1023</td>\n",
              "      <td>242</td>\n",
              "      <td>12.5</td>\n",
              "      <td>114</td>\n",
              "      <td>12</td>\n",
              "      <td>34</td>\n",
              "      <td>49</td>\n",
              "      <td>PM</td>\n",
              "      <td>12</td>\n",
              "      <td>42</td>\n",
              "      <td>44</td>\n",
              "    </tr>\n",
              "    <tr>\n",
              "      <th>3</th>\n",
              "      <td>Order_No_9336</td>\n",
              "      <td>User_Id_1402</td>\n",
              "      <td>Bike</td>\n",
              "      <td>3</td>\n",
              "      <td>Business</td>\n",
              "      <td>15</td>\n",
              "      <td>5</td>\n",
              "      <td>9:25:34 AM</td>\n",
              "      <td>15</td>\n",
              "      <td>5</td>\n",
              "      <td>2020-05-28 09:26:05</td>\n",
              "      <td>15</td>\n",
              "      <td>5</td>\n",
              "      <td>2020-05-28 09:37:56</td>\n",
              "      <td>15</td>\n",
              "      <td>5</td>\n",
              "      <td>9:43:06 AM</td>\n",
              "      <td>9</td>\n",
              "      <td>19.200000</td>\n",
              "      <td>0.0</td>\n",
              "      <td>-1.281301</td>\n",
              "      <td>36.832396</td>\n",
              "      <td>-1.257147</td>\n",
              "      <td>36.795063</td>\n",
              "      <td>Rider_Id_855</td>\n",
              "      <td>1341.0</td>\n",
              "      <td>886</td>\n",
              "      <td>283</td>\n",
              "      <td>14.5</td>\n",
              "      <td>113</td>\n",
              "      <td>9</td>\n",
              "      <td>56</td>\n",
              "      <td>37</td>\n",
              "      <td>AM</td>\n",
              "      <td>9</td>\n",
              "      <td>26</td>\n",
              "      <td>5</td>\n",
              "    </tr>\n",
              "    <tr>\n",
              "      <th>4</th>\n",
              "      <td>Order_No_27883</td>\n",
              "      <td>User_Id_1737</td>\n",
              "      <td>Bike</td>\n",
              "      <td>1</td>\n",
              "      <td>Personal</td>\n",
              "      <td>13</td>\n",
              "      <td>1</td>\n",
              "      <td>9:55:18 AM</td>\n",
              "      <td>13</td>\n",
              "      <td>1</td>\n",
              "      <td>2020-05-28 09:56:18</td>\n",
              "      <td>13</td>\n",
              "      <td>1</td>\n",
              "      <td>2020-05-28 10:03:53</td>\n",
              "      <td>13</td>\n",
              "      <td>1</td>\n",
              "      <td>10:05:23 AM</td>\n",
              "      <td>9</td>\n",
              "      <td>15.400000</td>\n",
              "      <td>0.0</td>\n",
              "      <td>-1.266597</td>\n",
              "      <td>36.792118</td>\n",
              "      <td>-1.295041</td>\n",
              "      <td>36.809817</td>\n",
              "      <td>Rider_Id_770</td>\n",
              "      <td>1214.0</td>\n",
              "      <td>2311</td>\n",
              "      <td>872</td>\n",
              "      <td>14.1</td>\n",
              "      <td>533</td>\n",
              "      <td>10</td>\n",
              "      <td>53</td>\n",
              "      <td>3</td>\n",
              "      <td>AM</td>\n",
              "      <td>9</td>\n",
              "      <td>56</td>\n",
              "      <td>18</td>\n",
              "    </tr>\n",
              "  </tbody>\n",
              "</table>\n",
              "</div>"
            ],
            "text/plain": [
              "         Order No       User Id Vehicle Type  ...  C_hour C_min  C_sec\n",
              "0   Order_No_4211   User_Id_633         Bike  ...       9    40     10\n",
              "1  Order_No_25375  User_Id_2285         Bike  ...      11    23     21\n",
              "2   Order_No_1899   User_Id_265         Bike  ...      12    42     44\n",
              "3   Order_No_9336  User_Id_1402         Bike  ...       9    26      5\n",
              "4  Order_No_27883  User_Id_1737         Bike  ...       9    56     18\n",
              "\n",
              "[5 rows x 37 columns]"
            ]
          },
          "metadata": {
            "tags": []
          },
          "execution_count": 78
        }
      ]
    },
    {
      "cell_type": "code",
      "metadata": {
        "id": "PVfCB6eBbA6x",
        "colab_type": "code",
        "colab": {}
      },
      "source": [
        "combined_data.drop(['Arrival at Pickup - Time','Confirmation - Time'],axis = 1,inplace = True)"
      ],
      "execution_count": 0,
      "outputs": []
    },
    {
      "cell_type": "code",
      "metadata": {
        "id": "3gBL5KIzbA61",
        "colab_type": "code",
        "colab": {}
      },
      "source": [
        "combined_data.drop('Order No',axis =1,inplace = True)"
      ],
      "execution_count": 0,
      "outputs": []
    },
    {
      "cell_type": "code",
      "metadata": {
        "id": "56xmUidpbA65",
        "colab_type": "code",
        "outputId": "29aac360-6fa5-4cd2-c485-80e19a958637",
        "colab": {
          "base_uri": "https://localhost:8080/",
          "height": 654
        }
      },
      "source": [
        "combined_data.isnull().sum()"
      ],
      "execution_count": 81,
      "outputs": [
        {
          "output_type": "execute_result",
          "data": {
            "text/plain": [
              "User Id                                    0\n",
              "Vehicle Type                               0\n",
              "Platform Type                              0\n",
              "Personal or Business                       0\n",
              "Placement - Day of Month                   0\n",
              "Placement - Weekday (Mo = 1)               0\n",
              "Placement - Time                           0\n",
              "Confirmation - Day of Month                0\n",
              "Confirmation - Weekday (Mo = 1)            0\n",
              "Arrival at Pickup - Day of Month           0\n",
              "Arrival at Pickup - Weekday (Mo = 1)       0\n",
              "Pickup - Day of Month                      0\n",
              "Pickup - Weekday (Mo = 1)                  0\n",
              "Pickup - Time                              0\n",
              "Distance (KM)                              0\n",
              "Temperature                                0\n",
              "Precipitation in millimeters               0\n",
              "Pickup Lat                                 0\n",
              "Pickup Long                                0\n",
              "Destination Lat                            0\n",
              "Destination Long                           0\n",
              "Rider Id                                   0\n",
              "Time from Pickup to Arrival             7068\n",
              "No_Of_Orders                               0\n",
              "Age                                        0\n",
              "Average_Rating                             0\n",
              "No_of_Ratings                              0\n",
              "A_hour                                     0\n",
              "A_seconds                                  0\n",
              "A_minutes                                  0\n",
              "am_or_pm_confirm                           0\n",
              "C_hour                                     0\n",
              "C_min                                      0\n",
              "C_sec                                      0\n",
              "dtype: int64"
            ]
          },
          "metadata": {
            "tags": []
          },
          "execution_count": 81
        }
      ]
    },
    {
      "cell_type": "code",
      "metadata": {
        "id": "UpW26PbJbA6_",
        "colab_type": "code",
        "colab": {}
      },
      "source": [
        "combined_data.drop(['Pickup - Time','Placement - Time','Rider Id'],axis =1,inplace = True)"
      ],
      "execution_count": 0,
      "outputs": []
    },
    {
      "cell_type": "code",
      "metadata": {
        "id": "Gk67U8WqbA7E",
        "colab_type": "code",
        "colab": {}
      },
      "source": [
        "transport = {\"Vehicle Type\":     {\"Bike\": 1, \"Other\": 2},\n",
        "                \"Personal or Business\": {\"Personal\": 1, \"Business\": 2,}}"
      ],
      "execution_count": 0,
      "outputs": []
    },
    {
      "cell_type": "code",
      "metadata": {
        "id": "8VI0Lc6KbA7I",
        "colab_type": "code",
        "colab": {}
      },
      "source": [
        "combined_data.replace(transport, inplace=True)"
      ],
      "execution_count": 0,
      "outputs": []
    },
    {
      "cell_type": "code",
      "metadata": {
        "id": "Azwa624FbA7N",
        "colab_type": "code",
        "colab": {}
      },
      "source": [
        "combined_data = pd.get_dummies(combined_data)"
      ],
      "execution_count": 0,
      "outputs": []
    },
    {
      "cell_type": "code",
      "metadata": {
        "id": "34FbNViHbA7S",
        "colab_type": "code",
        "colab": {}
      },
      "source": [
        "#Get the new dataset\n",
        "train_data = combined_data[:train]\n",
        "test_data = combined_data[train:]"
      ],
      "execution_count": 0,
      "outputs": []
    },
    {
      "cell_type": "code",
      "metadata": {
        "id": "i3JdGtwDbA7Y",
        "colab_type": "code",
        "outputId": "104b477f-3e8e-4a74-974b-986e5839b666",
        "colab": {
          "base_uri": "https://localhost:8080/",
          "height": 128
        }
      },
      "source": [
        "test_data.drop(\"Time from Pickup to Arrival\",axis = 1,inplace = True)"
      ],
      "execution_count": 87,
      "outputs": [
        {
          "output_type": "stream",
          "text": [
            "/usr/local/lib/python3.6/dist-packages/pandas/core/frame.py:3997: SettingWithCopyWarning: \n",
            "A value is trying to be set on a copy of a slice from a DataFrame\n",
            "\n",
            "See the caveats in the documentation: https://pandas.pydata.org/pandas-docs/stable/user_guide/indexing.html#returning-a-view-versus-a-copy\n",
            "  errors=errors,\n"
          ],
          "name": "stderr"
        }
      ]
    },
    {
      "cell_type": "markdown",
      "metadata": {
        "id": "NdzYCQbVbA7d",
        "colab_type": "text"
      },
      "source": [
        "## Model (CatBoost Regressor)"
      ]
    },
    {
      "cell_type": "markdown",
      "metadata": {
        "id": "6Xt8aZV4vB09",
        "colab_type": "text"
      },
      "source": [
        "Boosting is a sequential process, where each subsequent model attempts to correct the errors of the previous model. The succeeding models are dependent on the previous model."
      ]
    },
    {
      "cell_type": "markdown",
      "metadata": {
        "id": "Wg6cnHhJbA7e",
        "colab_type": "text"
      },
      "source": [
        "#### Data Splitting"
      ]
    },
    {
      "cell_type": "code",
      "metadata": {
        "id": "dw7JcSUGbA7f",
        "colab_type": "code",
        "colab": {}
      },
      "source": [
        "#Creating a training set for modeling and validation set to check model performance\n",
        "X = train_data.drop(columns='Time from Pickup to Arrival')\n",
        "Y = train_data['Time from Pickup to Arrival']"
      ],
      "execution_count": 0,
      "outputs": []
    },
    {
      "cell_type": "markdown",
      "metadata": {
        "id": "28zWSpfMbA7k",
        "colab_type": "text"
      },
      "source": [
        "#### Model Cross-Validation"
      ]
    },
    {
      "cell_type": "markdown",
      "metadata": {
        "id": "ydSfNuPobA7l",
        "colab_type": "raw"
      },
      "source": [
        "Cross-validation is a technique used to protect against overfitting in a predictive model, particularly in a case where the amount of data may be limited.\n",
        "https://stats.stackexchange.com/questions/1826/cross-validation-in-plain-english\n",
        "\n",
        "Overfitting a model is a condition where a statistical model begins to describe the random error in the data rather than the relationships between variables\n",
        "https://statisticsbyjim.com/regression/overfitting-regression-models/\n",
        "\n",
        "How to avoid overfitting:\n",
        "You should draw a random sample that is large enough to handle all of the terms that you expect to include in your model. This process requires that you investigate similar studies before you collect data. The goal is to identify relevant variables and terms that you are likely to include in your own model"
      ]
    },
    {
      "cell_type": "markdown",
      "metadata": {
        "id": "Df6ih9LgbA7m",
        "colab_type": "raw"
      },
      "source": [
        "TO NOTE :\n",
        "Cross validation with sklearn folds\n",
        "Catboost can use the sklearn folds: https://scikit-learn.org/stable/modules/classes.html#module-sklearn.model_selection\n",
        "\n",
        "Consider three variants of sklearn folds: ShuffleSplit, RepeatedKFold, and StratifiedShuffleSplit.\n",
        "\n",
        "Note that parameters stratified and type are ignored in this case."
      ]
    },
    {
      "cell_type": "markdown",
      "metadata": {
        "id": "57xLyl3KbA7n",
        "colab_type": "text"
      },
      "source": [
        "##### Train_Test Split approach"
      ]
    },
    {
      "cell_type": "markdown",
      "metadata": {
        "id": "zfkBJLuzbA7o",
        "colab_type": "raw"
      },
      "source": [
        " Randomly split the complete data into training and test sets. Then Perform the model training on the training set and use the test set for validation purpose, ideally split the data into 70:30 or 80:20.\n",
        " \n",
        "NOTE:\n",
        "In this approach there is a possibility of high bias if we have limited data, because we would miss some information about the data which we have not used for training. If our data is huge and our test sample and train sample has the same distribution then this approach is acceptable.\n",
        "\n",
        "Complete documentation:\n",
        "https://scikit-learn.org/stable/modules/generated/sklearn.model_selection.train_test_split.html"
      ]
    },
    {
      "cell_type": "code",
      "metadata": {
        "id": "w1SruvbxbA7p",
        "colab_type": "code",
        "colab": {}
      },
      "source": [
        "X_train, X_test, y_train, y_test = train_test_split(X, Y, test_size=0.2, random_state=0)"
      ],
      "execution_count": 0,
      "outputs": []
    },
    {
      "cell_type": "code",
      "metadata": {
        "id": "Ee02hmJKbA73",
        "colab_type": "code",
        "colab": {}
      },
      "source": [
        ""
      ],
      "execution_count": 0,
      "outputs": []
    },
    {
      "cell_type": "markdown",
      "metadata": {
        "id": "iBmwm9hwbA77",
        "colab_type": "text"
      },
      "source": [
        "##### Repeated k-fold cross-validation"
      ]
    },
    {
      "cell_type": "markdown",
      "metadata": {
        "id": "7wzHN5IAbA78",
        "colab_type": "raw"
      },
      "source": [
        "Repeats K-Fold n times with different randomization in each repetition.\n",
        "Results in a less biased model compare to other methods. Because it ensures that every observation from the original dataset has the chance of appearing in training and test set. This is one among the best approach if we have a limited input data"
      ]
    },
    {
      "cell_type": "markdown",
      "metadata": {
        "id": "0RJsPERDbA79",
        "colab_type": "raw"
      },
      "source": [
        "We use the built in cross_val_score (returns score of each test folds)/corss_val_predict (returns the predicted score for each observation in the input dataset when it was part of the test set) from the scikit_learn library."
      ]
    },
    {
      "cell_type": "code",
      "metadata": {
        "id": "W7ivkNqIbA7-",
        "colab_type": "code",
        "colab": {}
      },
      "source": [
        "#### I dont know whether Reapeted K fold supposed to be placed here or what anyone with an idea please fix"
      ],
      "execution_count": 0,
      "outputs": []
    },
    {
      "cell_type": "code",
      "metadata": {
        "id": "eHDyPtyrbA8C",
        "colab_type": "code",
        "outputId": "76a55d28-f4aa-47e0-8f13-b557e2a1451c",
        "colab": {
          "base_uri": "https://localhost:8080/",
          "height": 235
        }
      },
      "source": [
        "#Look at the data type of variables\n",
        "print(X.dtypes)\n",
        "categorical_features_indices = np.where(X.dtypes != np.float)[0]"
      ],
      "execution_count": 91,
      "outputs": [
        {
          "output_type": "stream",
          "text": [
            "Vehicle Type                    int64\n",
            "Platform Type                   int64\n",
            "Personal or Business            int64\n",
            "Placement - Day of Month        int64\n",
            "Placement - Weekday (Mo = 1)    int64\n",
            "                                ...  \n",
            "User Id_User_Id_997             uint8\n",
            "User Id_User_Id_998             uint8\n",
            "User Id_User_Id_999             uint8\n",
            "am_or_pm_confirm_AM             uint8\n",
            "am_or_pm_confirm_PM             uint8\n",
            "Length: 3812, dtype: object\n"
          ],
          "name": "stdout"
        }
      ]
    },
    {
      "cell_type": "markdown",
      "metadata": {
        "id": "Qr9CQo8BbA8H",
        "colab_type": "text"
      },
      "source": [
        "#### Model Training\n"
      ]
    },
    {
      "cell_type": "code",
      "metadata": {
        "id": "B8ZnGEtGbA8I",
        "colab_type": "code",
        "colab": {}
      },
      "source": [
        "regressor = CatBoostRegressor(iterations=600,\n",
        "                              learning_rate=0.1,\n",
        "                              depth=4,\n",
        "                              l2_leaf_reg=10,\n",
        "                              bootstrap_type='Bernoulli',\n",
        "                              subsample=0.7,\n",
        "                              leaf_estimation_iterations=10,\n",
        "                              metric_period=20,\n",
        "                              od_type='Iter',\n",
        "                              od_wait=45,\n",
        "                              random_seed=42,\n",
        "                              loss_function='RMSE',\n",
        "                              allow_writing_files=False)"
      ],
      "execution_count": 0,
      "outputs": []
    },
    {
      "cell_type": "code",
      "metadata": {
        "id": "FJOktojTo8DE",
        "colab_type": "code",
        "outputId": "8333aa57-c2fa-4e58-a373-3d004ca8cc4a",
        "colab": {
          "base_uri": "https://localhost:8080/",
          "height": 35
        }
      },
      "source": [
        "from sklearn.model_selection import RepeatedKFold\n",
        "from numpy import mean\n",
        "from numpy import std\n",
        "\n",
        "regressor = CatBoostRegressor(verbose=0, n_estimators=800)\n",
        "cv = RepeatedKFold(n_splits=10, n_repeats=10, random_state=1)\n",
        "n_scores = cross_val_score(regressor, X, Y, scoring='neg_mean_absolute_error', cv=cv, n_jobs=-1, error_score='raise')\n",
        "print('MAE: %.3f (%.3f)' % (mean(n_scores), std(n_scores)))"
      ],
      "execution_count": 93,
      "outputs": [
        {
          "output_type": "stream",
          "text": [
            "MAE: -512.569 (11.821)\n"
          ],
          "name": "stdout"
        }
      ]
    },
    {
      "cell_type": "markdown",
      "metadata": {
        "id": "44fnNbhG25vH",
        "colab_type": "text"
      },
      "source": [
        "*   having n_split > 10 doesnt help on any further gain\n",
        "*   without reapeted K-fold cross validation the score RMSE is 740.079235422253\n",
        "\n",
        "\n",
        "*   with reapeted K-fold cross validation the RMSE score is 736\n",
        "*   when verbose = True and n_estimators=100 the RMSE score is 742\n",
        "\n",
        "\n",
        "*   when verbose =0 keeping n_estimators the same the RMSE score the same,while increasing n_estimators it shift to better much score.Beyond 800 n_estimates the model start to underperform."
      ]
    },
    {
      "cell_type": "markdown",
      "metadata": {
        "id": "2whUWAfZbA8M",
        "colab_type": "text"
      },
      "source": [
        "### Model fitting"
      ]
    },
    {
      "cell_type": "code",
      "metadata": {
        "id": "M6tdKQXmbA8N",
        "colab_type": "code",
        "outputId": "55a95550-3de2-4d02-dc05-4c6550056f47",
        "colab": {
          "base_uri": "https://localhost:8080/",
          "height": 35
        }
      },
      "source": [
        "regressor.fit(train_data.drop(['Time from Pickup to Arrival'], axis =1), train_data['Time from Pickup to Arrival'])"
      ],
      "execution_count": 94,
      "outputs": [
        {
          "output_type": "execute_result",
          "data": {
            "text/plain": [
              "<catboost.core.CatBoostRegressor at 0x7f15b08b0c50>"
            ]
          },
          "metadata": {
            "tags": []
          },
          "execution_count": 94
        }
      ]
    },
    {
      "cell_type": "code",
      "metadata": {
        "id": "gC_Bzz08bA8S",
        "colab_type": "code",
        "outputId": "67ad9dea-8799-482c-8821-873208f4c1c2",
        "colab": {
          "base_uri": "https://localhost:8080/",
          "height": 35
        }
      },
      "source": [
        "#Getting a score for our model runed on the train_data\n",
        "print(regressor.get_best_score())"
      ],
      "execution_count": 95,
      "outputs": [
        {
          "output_type": "stream",
          "text": [
            "{'learn': {'RMSE': 678.4852991188085}}\n"
          ],
          "name": "stdout"
        }
      ]
    },
    {
      "cell_type": "markdown",
      "metadata": {
        "id": "KJmRyLfkbA8V",
        "colab_type": "text"
      },
      "source": [
        "### Model Applying"
      ]
    },
    {
      "cell_type": "markdown",
      "metadata": {
        "id": "ACkjI2nwbA8W",
        "colab_type": "raw"
      },
      "source": [
        "Now, the next task is to predict the outcome for test data set."
      ]
    },
    {
      "cell_type": "code",
      "metadata": {
        "id": "09oAc2L6bA8W",
        "colab_type": "code",
        "colab": {}
      },
      "source": [
        "regressor.predict(test_data)\n",
        "import pickle\n",
        "save_path = 'sendy_regression.pkl'\n",
        "pickle.dump(regressor,open('sendy.pkl','wb'))\n"
      ],
      "execution_count": 0,
      "outputs": []
    },
    {
      "cell_type": "code",
      "metadata": {
        "id": "FkQOwxpEbA8b",
        "colab_type": "code",
        "outputId": "84e91a7f-be3d-472a-de94-d333e59add2a",
        "colab": {
          "base_uri": "https://localhost:8080/",
          "height": 35
        }
      },
      "source": [
        "#Getting a score for our model runed on the test_data\n",
        "print(regressor.get_best_score())\n"
      ],
      "execution_count": 97,
      "outputs": [
        {
          "output_type": "stream",
          "text": [
            "{'learn': {'RMSE': 678.4852991188085}}\n"
          ],
          "name": "stdout"
        }
      ]
    },
    {
      "cell_type": "code",
      "metadata": {
        "id": "76WQmOPebA8f",
        "colab_type": "code",
        "outputId": "2ac9aa6c-5462-44f1-a943-99900b00f262",
        "colab": {
          "base_uri": "https://localhost:8080/",
          "height": 528
        }
      },
      "source": [
        "importances = pd.DataFrame({'feature':X_train.columns,'importance':np.round( regressor.feature_importances_,2)})\n",
        "importances = importances.sort_values('importance',ascending=False).set_index('feature')\n",
        "importances.head(15)\n"
      ],
      "execution_count": 98,
      "outputs": [
        {
          "output_type": "execute_result",
          "data": {
            "text/html": [
              "<div>\n",
              "<style scoped>\n",
              "    .dataframe tbody tr th:only-of-type {\n",
              "        vertical-align: middle;\n",
              "    }\n",
              "\n",
              "    .dataframe tbody tr th {\n",
              "        vertical-align: top;\n",
              "    }\n",
              "\n",
              "    .dataframe thead th {\n",
              "        text-align: right;\n",
              "    }\n",
              "</style>\n",
              "<table border=\"1\" class=\"dataframe\">\n",
              "  <thead>\n",
              "    <tr style=\"text-align: right;\">\n",
              "      <th></th>\n",
              "      <th>importance</th>\n",
              "    </tr>\n",
              "    <tr>\n",
              "      <th>feature</th>\n",
              "      <th></th>\n",
              "    </tr>\n",
              "  </thead>\n",
              "  <tbody>\n",
              "    <tr>\n",
              "      <th>Distance (KM)</th>\n",
              "      <td>39.66</td>\n",
              "    </tr>\n",
              "    <tr>\n",
              "      <th>Average_Rating</th>\n",
              "      <td>6.93</td>\n",
              "    </tr>\n",
              "    <tr>\n",
              "      <th>Destination Lat</th>\n",
              "      <td>6.76</td>\n",
              "    </tr>\n",
              "    <tr>\n",
              "      <th>Pickup Lat</th>\n",
              "      <td>6.04</td>\n",
              "    </tr>\n",
              "    <tr>\n",
              "      <th>No_Of_Orders</th>\n",
              "      <td>5.99</td>\n",
              "    </tr>\n",
              "    <tr>\n",
              "      <th>Age</th>\n",
              "      <td>5.61</td>\n",
              "    </tr>\n",
              "    <tr>\n",
              "      <th>No_of_Ratings</th>\n",
              "      <td>4.79</td>\n",
              "    </tr>\n",
              "    <tr>\n",
              "      <th>Destination Long</th>\n",
              "      <td>3.50</td>\n",
              "    </tr>\n",
              "    <tr>\n",
              "      <th>Pickup Long</th>\n",
              "      <td>2.77</td>\n",
              "    </tr>\n",
              "    <tr>\n",
              "      <th>A_minutes</th>\n",
              "      <td>1.94</td>\n",
              "    </tr>\n",
              "    <tr>\n",
              "      <th>C_min</th>\n",
              "      <td>1.80</td>\n",
              "    </tr>\n",
              "    <tr>\n",
              "      <th>Temperature</th>\n",
              "      <td>0.93</td>\n",
              "    </tr>\n",
              "    <tr>\n",
              "      <th>A_hour</th>\n",
              "      <td>0.91</td>\n",
              "    </tr>\n",
              "    <tr>\n",
              "      <th>A_seconds</th>\n",
              "      <td>0.79</td>\n",
              "    </tr>\n",
              "    <tr>\n",
              "      <th>C_sec</th>\n",
              "      <td>0.73</td>\n",
              "    </tr>\n",
              "  </tbody>\n",
              "</table>\n",
              "</div>"
            ],
            "text/plain": [
              "                  importance\n",
              "feature                     \n",
              "Distance (KM)          39.66\n",
              "Average_Rating          6.93\n",
              "Destination Lat         6.76\n",
              "Pickup Lat              6.04\n",
              "No_Of_Orders            5.99\n",
              "Age                     5.61\n",
              "No_of_Ratings           4.79\n",
              "Destination Long        3.50\n",
              "Pickup Long             2.77\n",
              "A_minutes               1.94\n",
              "C_min                   1.80\n",
              "Temperature             0.93\n",
              "A_hour                  0.91\n",
              "A_seconds               0.79\n",
              "C_sec                   0.73"
            ]
          },
          "metadata": {
            "tags": []
          },
          "execution_count": 98
        }
      ]
    },
    {
      "cell_type": "markdown",
      "metadata": {
        "id": "7Hn5UIbHbA8i",
        "colab_type": "raw"
      },
      "source": [
        "Importance tells us that how much do these features relate to our model,and since we had perfomed EDA and already expected that distance should play a major role in our column our model support our argument"
      ]
    },
    {
      "cell_type": "code",
      "metadata": {
        "id": "A4mu4x_BbA8j",
        "colab_type": "code",
        "colab": {}
      },
      "source": [
        "pred = pd.DataFrame(regressor.predict(test_data),columns= ['Time from Pickup to Arrival' ])"
      ],
      "execution_count": 0,
      "outputs": []
    },
    {
      "cell_type": "code",
      "metadata": {
        "id": "uJ9zK_9NbA8n",
        "colab_type": "code",
        "colab": {}
      },
      "source": [
        "pred = pd.concat([samplesub['Order_No'], pred], axis =1)"
      ],
      "execution_count": 0,
      "outputs": []
    },
    {
      "cell_type": "code",
      "metadata": {
        "id": "2LGTzDM9bA8w",
        "colab_type": "code",
        "outputId": "01b45306-ee69-43a5-a296-edced5388dc2",
        "colab": {
          "base_uri": "https://localhost:8080/",
          "height": 198
        }
      },
      "source": [
        "pred.head()"
      ],
      "execution_count": 101,
      "outputs": [
        {
          "output_type": "execute_result",
          "data": {
            "text/html": [
              "<div>\n",
              "<style scoped>\n",
              "    .dataframe tbody tr th:only-of-type {\n",
              "        vertical-align: middle;\n",
              "    }\n",
              "\n",
              "    .dataframe tbody tr th {\n",
              "        vertical-align: top;\n",
              "    }\n",
              "\n",
              "    .dataframe thead th {\n",
              "        text-align: right;\n",
              "    }\n",
              "</style>\n",
              "<table border=\"1\" class=\"dataframe\">\n",
              "  <thead>\n",
              "    <tr style=\"text-align: right;\">\n",
              "      <th></th>\n",
              "      <th>Order_No</th>\n",
              "      <th>Time from Pickup to Arrival</th>\n",
              "    </tr>\n",
              "  </thead>\n",
              "  <tbody>\n",
              "    <tr>\n",
              "      <th>0</th>\n",
              "      <td>Order_No_19248</td>\n",
              "      <td>1411.244389</td>\n",
              "    </tr>\n",
              "    <tr>\n",
              "      <th>1</th>\n",
              "      <td>Order_No_12736</td>\n",
              "      <td>1311.864582</td>\n",
              "    </tr>\n",
              "    <tr>\n",
              "      <th>2</th>\n",
              "      <td>Order_No_768</td>\n",
              "      <td>1358.229415</td>\n",
              "    </tr>\n",
              "    <tr>\n",
              "      <th>3</th>\n",
              "      <td>Order_No_15332</td>\n",
              "      <td>1045.331598</td>\n",
              "    </tr>\n",
              "    <tr>\n",
              "      <th>4</th>\n",
              "      <td>Order_No_21373</td>\n",
              "      <td>1239.635618</td>\n",
              "    </tr>\n",
              "  </tbody>\n",
              "</table>\n",
              "</div>"
            ],
            "text/plain": [
              "         Order_No  Time from Pickup to Arrival\n",
              "0  Order_No_19248                  1411.244389\n",
              "1  Order_No_12736                  1311.864582\n",
              "2    Order_No_768                  1358.229415\n",
              "3  Order_No_15332                  1045.331598\n",
              "4  Order_No_21373                  1239.635618"
            ]
          },
          "metadata": {
            "tags": []
          },
          "execution_count": 101
        }
      ]
    },
    {
      "cell_type": "code",
      "metadata": {
        "id": "IoCOlrwfbA81",
        "colab_type": "code",
        "colab": {}
      },
      "source": [
        "pred.to_csv(\"surv113.csv\", index = False)"
      ],
      "execution_count": 0,
      "outputs": []
    },
    {
      "cell_type": "markdown",
      "metadata": {
        "id": "fPwVtzJ00GO4",
        "colab_type": "text"
      },
      "source": [
        "RMSE of 735.832114844119 on Zindi\n"
      ]
    },
    {
      "cell_type": "markdown",
      "metadata": {
        "id": "-huGxo3DbA86",
        "colab_type": "text"
      },
      "source": [
        "## For more:"
      ]
    },
    {
      "cell_type": "markdown",
      "metadata": {
        "id": "ULur5XeGbA87",
        "colab_type": "raw"
      },
      "source": [
        "## Description of the Catboost crossvalidation :\n",
        "If type='Inverted', then each test set consists of k-1 folds, and the corresponding train set consists of the remaining fold.\n",
        "\n",
        "If type='Classical', then each test set consists of a single fold, and the corresponding train set consists of the remaining k-1 folds.\n",
        "\n",
        "If type=TimeSeries, then each train set consists of the first k folds, and the corresponding test set consists of the (k+1)-th fold.Usually, this type of folds reduces standard deviation of loss value, if order of rows in the dataset is important."
      ]
    },
    {
      "cell_type": "markdown",
      "metadata": {
        "id": "igPzRytKbA9B",
        "colab_type": "raw"
      },
      "source": [
        "The CatBoost cross validation function is intended for cross-validation only, it can not be used for tuning parameter.\n",
        "The dataset is split into N folds. N–1 folds are used for training and one fold is used for model performance estimation. At each iteration, the model is evaluated on all N folds independently. The average score with standard deviation is computed for each iteration.\n",
        "\n",
        "The only parameter that can be selected based on cross-validation is the number of iterations. Select the best iteration based on the information of the cv results and train the final model with this number of iterations."
      ]
    },
    {
      "cell_type": "markdown",
      "metadata": {
        "id": "9rwpucrUjrD0",
        "colab_type": "text"
      },
      "source": [
        "More can be done in our model to give us a better score.For example we can work out the distance using Latitude and Longitude"
      ]
    },
    {
      "cell_type": "code",
      "metadata": {
        "id": "0SkM62XLHQO4",
        "colab_type": "code",
        "colab": {}
      },
      "source": [
        ""
      ],
      "execution_count": 0,
      "outputs": []
    }
  ]
}